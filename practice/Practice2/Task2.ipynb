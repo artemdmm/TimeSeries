{
 "cells": [
  {
   "cell_type": "markdown",
   "id": "5c0066df-4742-4afe-87fc-603c014d2ce0",
   "metadata": {},
   "source": [
    "Импорт библиотеки"
   ]
  },
  {
   "cell_type": "code",
   "execution_count": 1,
   "id": "72408a9b-29fd-459d-96a3-b187b5efda2c",
   "metadata": {},
   "outputs": [],
   "source": [
    "import os\n",
    "from os import path\n",
    "from matplotlib import pyplot as plt\n",
    "import pandas as pd\n",
    "from statsmodels.tsa.seasonal import seasonal_decompose\n",
    "from pylab import rcParams\n",
    "from statsmodels.tsa.stattools import adfuller"
   ]
  },
  {
   "cell_type": "markdown",
   "id": "4e5fa1ca-422e-4822-8050-99558922a04e",
   "metadata": {},
   "source": [
    "Из первого задания"
   ]
  },
  {
   "cell_type": "code",
   "execution_count": 2,
   "id": "98afc666-7cb4-4393-ad07-27d471baee43",
   "metadata": {},
   "outputs": [],
   "source": [
    "rcParams['figure.figsize'] = 11, 9\n",
    "\n",
    "dirname = os.path.abspath(os.curdir) + r'\\data\\underwork\\5'\n",
    "tsdf_c = pd.read_csv(path.join(os.sep, dirname, 'calm_p.csv'))\n",
    "tsdf_c.set_index('Time').sort_index()\n",
    "\n",
    "passengers = pd.read_csv('data/passengers.csv')\n",
    "passengers['Month'] = pd.to_datetime(passengers['Month'])\n",
    "df = passengers.set_index('Month').sort_index()\n",
    "\n",
    "exchange_rates = pd.read_csv('data/Daily foreign exchange rates AustraliaUS BritishUS CanadianUS DutchUS .csv')"
   ]
  },
  {
   "cell_type": "markdown",
   "id": "b10bf773-1362-4424-975f-90d8bac78751",
   "metadata": {},
   "source": [
    "Проверка ряда"
   ]
  },
  {
   "cell_type": "code",
   "execution_count": 3,
   "id": "c4b51e65-cc01-4e37-a844-10a556e0f4db",
   "metadata": {},
   "outputs": [
    {
     "name": "stdout",
     "output_type": "stream",
     "text": [
      "Тест Дики-Фуллера ряда {name} :\n",
      "Test Statistic                   0.815369\n",
      "p-value                          0.991880\n",
      "#Lags Used                      13.000000\n",
      "Number of Observations Used    130.000000\n",
      "Critical Value (1%)             -3.481682\n",
      "Critical Value (5%)             -2.884042\n",
      "Critical Value (10%)            -2.578770\n",
      "dtype: float64\n",
      "Значение p больше 5.0%. Ряд не стационарный.\n"
     ]
    }
   ],
   "source": [
    "alpha = 0.05\n",
    "name = \"Пассажиры\"\n",
    "ts = passengers[\"Passengers\"]\n",
    "\n",
    "print('Тест Дики-Фуллера ряда {name} :')\n",
    "dftest = adfuller(ts, autolag='AIC')\n",
    "dfoutput = pd.Series(dftest[0:4], index=['Test Statistic','p-value','#Lags Used','Number of Observations Used'])\n",
    "\n",
    "for key,value in dftest[4].items():\n",
    "    dfoutput['Critical Value (%s)'%key] = value\n",
    "print(dfoutput)\n",
    "\n",
    "if dfoutput[\"p-value\"] < alpha:\n",
    "    print(f\"Значение p меньше {alpha * 100}%. Ряд стационарный.\")\n",
    "else:\n",
    "    print(f\"Значение p больше {alpha*100}%. Ряд не стационарный.\")"
   ]
  }
 ],
 "metadata": {
  "kernelspec": {
   "display_name": "Python 3 (ipykernel)",
   "language": "python",
   "name": "python3"
  },
  "language_info": {
   "codemirror_mode": {
    "name": "ipython",
    "version": 3
   },
   "file_extension": ".py",
   "mimetype": "text/x-python",
   "name": "python",
   "nbconvert_exporter": "python",
   "pygments_lexer": "ipython3",
   "version": "3.11.3"
  }
 },
 "nbformat": 4,
 "nbformat_minor": 5
}
