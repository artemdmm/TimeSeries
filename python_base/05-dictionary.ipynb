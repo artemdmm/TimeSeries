{
 "cells": [
  {
   "cell_type": "markdown",
   "id": "4119faea",
   "metadata": {
    "toc": true
   },
   "source": [
    "<h1>Table of Contents<span class=\"tocSkip\"></span></h1>\n",
    "<div class=\"toc\"><ul class=\"toc-item\"><li><span><a href=\"#Структура\" data-toc-modified-id=\"Структура-1\"><span class=\"toc-item-num\">1&nbsp;&nbsp;</span>Структура</a></span><ul class=\"toc-item\"><li><span><a href=\"#Создание\" data-toc-modified-id=\"Создание-1.1\"><span class=\"toc-item-num\">1.1&nbsp;&nbsp;</span>Создание</a></span></li><li><span><a href=\"#Доступ-к-элементам-словаря\" data-toc-modified-id=\"Доступ-к-элементам-словаря-1.2\"><span class=\"toc-item-num\">1.2&nbsp;&nbsp;</span>Доступ к элементам словаря</a></span><ul class=\"toc-item\"><li><span><a href=\"#.keys()\" data-toc-modified-id=\".keys()-1.2.1\"><span class=\"toc-item-num\">1.2.1&nbsp;&nbsp;</span>.keys()</a></span></li><li><span><a href=\"#.items()\" data-toc-modified-id=\".items()-1.2.2\"><span class=\"toc-item-num\">1.2.2&nbsp;&nbsp;</span>.items()</a></span></li><li><span><a href=\"#.get()\" data-toc-modified-id=\".get()-1.2.3\"><span class=\"toc-item-num\">1.2.3&nbsp;&nbsp;</span>.get()</a></span></li></ul></li></ul></li><li><span><a href=\"#Изменение-словаря\" data-toc-modified-id=\"Изменение-словаря-2\"><span class=\"toc-item-num\">2&nbsp;&nbsp;</span>Изменение словаря</a></span></li><li><span><a href=\"#Информация-о--словаре-и-его-элементах\" data-toc-modified-id=\"Информация-о--словаре-и-его-элементах-3\"><span class=\"toc-item-num\">3&nbsp;&nbsp;</span>Информация о  словаре и его элементах</a></span></li><li><span><a href=\"#Задачи\" data-toc-modified-id=\"Задачи-4\"><span class=\"toc-item-num\">4&nbsp;&nbsp;</span>Задачи</a></span></li></ul></div>"
   ]
  },
  {
   "cell_type": "markdown",
   "id": "e29711a4",
   "metadata": {},
   "source": [
    "# Структура\n",
    "\n",
    "Словарь состоит из пар **ключ-значение**. \n",
    "При задании словаря пары **\"ключ - значение\"** разделяются запятыми.\n",
    "Ключ и значение разделяются двоеточием (:). \n",
    "\n",
    "Словарь может содержать несколько типов данных.\n",
    "\n",
    "Словарь - это неупорядочная структура. Поэтому:\n",
    "\n",
    "1. В словарях нет индексации! Нельзя получить значение словаря по индексу. Значение можно получить только через ключ.\n",
    "\n",
    "2. В словарях не применяется операция извлечения среза\n",
    "\n",
    "**Ключи  - все уникальные**, не может быть повторяющихся значений.\n",
    "\n",
    "**Ключом** могут быть только строки, целые числа, числа с плавающей точкой, и другие **неизменяемые** типы данных\n",
    "**Значения** могут быть практически любого типа данных.\n",
    "\n",
    "Если ключ - строка, то нужно использовать кавычки.\n",
    "\n",
    "\n"
   ]
  },
  {
   "cell_type": "markdown",
   "id": "d27b70cf",
   "metadata": {},
   "source": [
    "## Создание"
   ]
  },
  {
   "cell_type": "code",
   "execution_count": null,
   "id": "40147629",
   "metadata": {},
   "outputs": [],
   "source": [
    "# Создвание словаря. Ключ - строка, значени - целое\n",
    "\n",
    "p_ages = {'Tom': 32, 'Jess': 29, 'Pete': 18}\n",
    "print (p_ages)"
   ]
  },
  {
   "cell_type": "code",
   "execution_count": null,
   "id": "7eed9f86",
   "metadata": {},
   "outputs": [],
   "source": [
    "# Создвание словаря. Ключ - целое, значение - строка\n",
    "\n",
    "p_ages = {32: “Tom”, 29: “Jess”, 18: “Pete”}\n",
    "print(p_ages)"
   ]
  },
  {
   "cell_type": "code",
   "execution_count": null,
   "id": "6142266c",
   "metadata": {},
   "outputs": [],
   "source": [
    "d = {}\n",
    "print(f'empry dict {d}')\n",
    "\n",
    "d = {'dict': 1, 'dictionary': 2}\n",
    "print(f'nonempry dict {d}')"
   ]
  },
  {
   "cell_type": "code",
   "execution_count": null,
   "id": "1faa0446",
   "metadata": {},
   "outputs": [],
   "source": [
    "# Функция fromkeys\n",
    "\n",
    "d = dict.fromkeys(['a', 'b'])\n",
    "print(f'dict first time {d}')\n",
    "\n",
    "d = dict.fromkeys(['a', 'b'], 100)\n",
    "print(f'dict first time {d}')\n"
   ]
  },
  {
   "cell_type": "code",
   "execution_count": null,
   "id": "4d8eb1f0",
   "metadata": {},
   "outputs": [],
   "source": [
    "# Генератор словарей\n",
    "\n",
    "d = {a: a ** 2 for a in range(7)}\n",
    "print(d)\n"
   ]
  },
  {
   "cell_type": "code",
   "execution_count": null,
   "id": "d1bc853e",
   "metadata": {},
   "outputs": [],
   "source": [
    "d = {a: str(a) * 3 for a in range(7)}\n",
    "print(d)"
   ]
  },
  {
   "cell_type": "code",
   "execution_count": null,
   "id": "31074ccb",
   "metadata": {},
   "outputs": [],
   "source": [
    "d = {a: [a ** 2 + j for j in range(10)] for a in range(7)}\n",
    "\n",
    "\n",
    "for k in d.keys():\n",
    "    print(f\"{k} - {d[k]} \")\n",
    "    "
   ]
  },
  {
   "cell_type": "code",
   "execution_count": null,
   "id": "d834d56b",
   "metadata": {},
   "outputs": [],
   "source": [
    "d = {}\n",
    "print(d)\n",
    "\n",
    "# Добавление пары ключ-значение в словарь\n",
    "d['name'] = 'Anna'\n",
    "d['age'] = 26\n",
    "print(d)"
   ]
  },
  {
   "cell_type": "markdown",
   "id": "62cc0e15",
   "metadata": {},
   "source": [
    "## Доступ к элементам словаря\n",
    "\n",
    "### .keys()\n",
    "\n",
    "Возвращает все ключи, которые есть в словаре\n",
    "\n",
    "Доступ к значениям - только по ключу"
   ]
  },
  {
   "cell_type": "code",
   "execution_count": null,
   "id": "ccc95d7a",
   "metadata": {},
   "outputs": [],
   "source": [
    "p_ages = {'Tom': 32, 'Jess': 29, 'Pete': 18}\n",
    "\n",
    "val1 = p_ages['Pete']\n",
    "\n",
    "val2 = p_ages['Tom']"
   ]
  },
  {
   "cell_type": "code",
   "execution_count": null,
   "id": "09a36439",
   "metadata": {},
   "outputs": [],
   "source": [
    "print (val1)\n",
    "print(val2)"
   ]
  },
  {
   "cell_type": "code",
   "execution_count": null,
   "id": "59ef6fcd",
   "metadata": {},
   "outputs": [],
   "source": [
    "# метод  .keys() \n",
    "\n",
    "print(p_ages.keys())\n"
   ]
  },
  {
   "cell_type": "code",
   "execution_count": null,
   "id": "502eec43",
   "metadata": {},
   "outputs": [],
   "source": [
    "# Проверка наличия ключа в словаре\n",
    "\n",
    "print(d)\n",
    "print(p_ages)\n"
   ]
  },
  {
   "cell_type": "code",
   "execution_count": null,
   "id": "4fc7e2cc",
   "metadata": {},
   "outputs": [],
   "source": [
    "print('name' in d)\n",
    "print('name' in p_ages)"
   ]
  },
  {
   "cell_type": "markdown",
   "id": "9398665f",
   "metadata": {},
   "source": [
    "### .items()\n",
    "\n",
    ".items() вернет список кортежей, состоящих из пар ключ-значение в словаре как кортежи. \n",
    "А значит - по этому списку можно будет проходить через цикл."
   ]
  },
  {
   "cell_type": "code",
   "execution_count": null,
   "id": "095c57c6",
   "metadata": {},
   "outputs": [],
   "source": [
    "# метод  .items()\n",
    "\n",
    "di = p_ages.items()\n",
    "\n",
    "for v in di:\n",
    "    print (v)"
   ]
  },
  {
   "cell_type": "code",
   "execution_count": null,
   "id": "af384f3e",
   "metadata": {},
   "outputs": [],
   "source": [
    "for k, v in di:\n",
    "    print (f\"key {k}  - value {v}\")"
   ]
  },
  {
   "cell_type": "code",
   "execution_count": null,
   "id": "3fd6d12f",
   "metadata": {},
   "outputs": [],
   "source": [
    "for k in p_ages:\n",
    "    print (f\"key {k}\")"
   ]
  },
  {
   "cell_type": "code",
   "execution_count": null,
   "id": "dcbdd0de",
   "metadata": {},
   "outputs": [],
   "source": [
    "for k, v in p_ages:\n",
    "    print (f\"key {k} - value {v}\")"
   ]
  },
  {
   "cell_type": "markdown",
   "id": "e06323f2",
   "metadata": {},
   "source": [
    "### .get()\n",
    "\n",
    "Возвращает значение по ключу. Если такого ключа нет - вернет None\n"
   ]
  },
  {
   "cell_type": "code",
   "execution_count": null,
   "id": "5d2f7215",
   "metadata": {},
   "outputs": [],
   "source": [
    "p_ages = {'Tom': 32, 'Jess': 29, 'Pete': 18}"
   ]
  },
  {
   "cell_type": "code",
   "execution_count": null,
   "id": "71c77282",
   "metadata": {},
   "outputs": [],
   "source": [
    "print(p_ages['Tom'])"
   ]
  },
  {
   "cell_type": "code",
   "execution_count": null,
   "id": "de55db92",
   "metadata": {},
   "outputs": [],
   "source": [
    "print(p_ages['Elice'])"
   ]
  },
  {
   "cell_type": "code",
   "execution_count": null,
   "id": "ebc15f5a",
   "metadata": {},
   "outputs": [],
   "source": [
    "print(p_ages.get('Elice'))"
   ]
  },
  {
   "cell_type": "code",
   "execution_count": null,
   "id": "23541891",
   "metadata": {},
   "outputs": [],
   "source": [
    "print(p_ages.get('Elice',\"не найдено\"))"
   ]
  },
  {
   "cell_type": "markdown",
   "id": "c55fd08b",
   "metadata": {},
   "source": [
    "# Изменение словаря\n",
    "\n",
    ".clear()\n",
    "\n",
    ".copy()\n",
    "\n",
    "Merge Operator ( | )\n",
    "\n",
    "Update Operator ( |= )"
   ]
  },
  {
   "cell_type": "code",
   "execution_count": null,
   "id": "587fc787",
   "metadata": {},
   "outputs": [],
   "source": [
    "p_ages = {'Tom': 32, 'Jess': 29, 'Pete': 18}\n",
    "\n",
    "print(p_ages)\n",
    "\n",
    "p_ages.clear()\n",
    "\n",
    "print(p_ages)"
   ]
  },
  {
   "cell_type": "code",
   "execution_count": null,
   "id": "1a71b7e2",
   "metadata": {},
   "outputs": [],
   "source": [
    "p_ages = {'Tom': 32, 'Jess': 29, 'Pete': 18}\n",
    "p_copy = p_ages.copy()\n",
    "\n",
    "print(p_copy)"
   ]
  },
  {
   "cell_type": "code",
   "execution_count": null,
   "id": "78d3940d",
   "metadata": {},
   "outputs": [],
   "source": [
    "# Merge operator\n",
    "\n",
    "dict1 = {'x': 1, 'y':2}\n",
    "dict2 = {'a':11, 'b':22}\n",
    "\n",
    "\n",
    "dict3 = dict2 |  dict1\n",
    "\n",
    "print(dict1)\n",
    "print(dict2)\n",
    "print(dict3)\n",
    "\n"
   ]
  },
  {
   "cell_type": "code",
   "execution_count": null,
   "id": "5aa54fed",
   "metadata": {},
   "outputs": [],
   "source": [
    "# Update operator\n",
    "\n",
    "dict1 = {'x': 1, 'y':2}\n",
    "dict2 = {'a':11, 'b':22}\n",
    "\n",
    "dict2 |=  dict1\n",
    "\n",
    "print(dict2)"
   ]
  },
  {
   "cell_type": "markdown",
   "id": "b9aed725",
   "metadata": {},
   "source": [
    "# Информация о  словаре и его элементах\n",
    "\n",
    "len(dict)\n",
    "\n",
    "type(dict)\n",
    "\n",
    "min(dict)\n",
    "\n",
    "max(dict)"
   ]
  },
  {
   "cell_type": "code",
   "execution_count": null,
   "id": "15103d63",
   "metadata": {},
   "outputs": [],
   "source": [
    "p_ages = {'Tom': 32, 'Jess': 29, 'Pete': 18}"
   ]
  },
  {
   "cell_type": "code",
   "execution_count": null,
   "id": "39487912",
   "metadata": {},
   "outputs": [],
   "source": [
    "len(p_ages)"
   ]
  },
  {
   "cell_type": "code",
   "execution_count": null,
   "id": "46d3a5a8",
   "metadata": {},
   "outputs": [],
   "source": [
    "type(p_ages)"
   ]
  },
  {
   "cell_type": "code",
   "execution_count": null,
   "id": "7c25ede8",
   "metadata": {},
   "outputs": [],
   "source": [
    "min(p_ages)"
   ]
  },
  {
   "cell_type": "code",
   "execution_count": null,
   "id": "e88b4442",
   "metadata": {},
   "outputs": [],
   "source": [
    "max(p_ages)"
   ]
  },
  {
   "cell_type": "markdown",
   "id": "fa92beef",
   "metadata": {},
   "source": [
    "# Задачи"
   ]
  },
  {
   "cell_type": "code",
   "execution_count": null,
   "id": "1509ba12",
   "metadata": {},
   "outputs": [],
   "source": [
    "dict_plato ={\"Имя\": \"Plato\", \"Страна\": \"Ancient Greece\", \"год рождения\": -427, \"учитель\": \"Socrates\", \"ученик\": \"Aristotle\"}"
   ]
  },
  {
   "cell_type": "code",
   "execution_count": null,
   "id": "51489dbe",
   "metadata": {},
   "outputs": [],
   "source": [
    "# вывести год рождения Платона\n",
    "\n",
    "\n",
    "\n"
   ]
  },
  {
   "cell_type": "code",
   "execution_count": null,
   "id": "0161aea3",
   "metadata": {},
   "outputs": [],
   "source": [
    "# Изменить год рождения Платона с 427 до н.э. на 428 до н.э.\n",
    "\n",
    "\n",
    "\n",
    "\n",
    "\n"
   ]
  },
  {
   "cell_type": "code",
   "execution_count": null,
   "id": "a055f1ae",
   "metadata": {},
   "outputs": [],
   "source": [
    "# добавить в словарь список работ Платона\n",
    "# \"work\": [\"Apology\", \"Phaedo\", \"Republic\", \"Symposium\"]\n",
    "\n",
    "\n",
    "\n",
    "\n",
    "\n",
    "\n"
   ]
  },
  {
   "cell_type": "code",
   "execution_count": null,
   "id": "b3b539be",
   "metadata": {},
   "outputs": [],
   "source": [
    "dict_lucas ={\"имя\": \"Lucas\", \"цвет глаз\": \"green\", \"рост\": 182, \"вес\": 25}\n"
   ]
  },
  {
   "cell_type": "code",
   "execution_count": null,
   "id": "6d27e46f",
   "metadata": {},
   "outputs": [],
   "source": [
    "# Изменить значение роста на 12 см\n",
    "\n",
    "\n",
    "\n",
    "\n",
    "\n"
   ]
  },
  {
   "cell_type": "code",
   "execution_count": null,
   "id": "060fada8",
   "metadata": {},
   "outputs": [],
   "source": [
    "# напечатать информацию о человеке в виде:\n",
    "# параметр - значение\n",
    "# .....\n",
    "\n",
    "\n",
    "\n",
    "\n"
   ]
  },
  {
   "cell_type": "code",
   "execution_count": null,
   "id": "01943084",
   "metadata": {},
   "outputs": [],
   "source": [
    "# добавить новый ключ - любимый автор, и загрузить туда предыдущий словарь о Платоне"
   ]
  },
  {
   "cell_type": "code",
   "execution_count": null,
   "id": "9e462172",
   "metadata": {},
   "outputs": [],
   "source": [
    "dict_lucas[\"любимый автор\"] = dict_plato"
   ]
  },
  {
   "cell_type": "code",
   "execution_count": null,
   "id": "603208d5",
   "metadata": {},
   "outputs": [],
   "source": []
  },
  {
   "cell_type": "code",
   "execution_count": null,
   "id": "bb598016",
   "metadata": {},
   "outputs": [],
   "source": []
  }
 ],
 "metadata": {
  "kernelspec": {
   "display_name": "Python 3 (ipykernel)",
   "language": "python",
   "name": "python3"
  },
  "language_info": {
   "codemirror_mode": {
    "name": "ipython",
    "version": 3
   },
   "file_extension": ".py",
   "mimetype": "text/x-python",
   "name": "python",
   "nbconvert_exporter": "python",
   "pygments_lexer": "ipython3",
   "version": "3.9.12"
  },
  "toc": {
   "base_numbering": 1,
   "nav_menu": {},
   "number_sections": true,
   "sideBar": true,
   "skip_h1_title": false,
   "title_cell": "Table of Contents",
   "title_sidebar": "Contents",
   "toc_cell": true,
   "toc_position": {},
   "toc_section_display": true,
   "toc_window_display": false
  }
 },
 "nbformat": 4,
 "nbformat_minor": 5
}
