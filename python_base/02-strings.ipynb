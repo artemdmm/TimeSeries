{
 "cells": [
  {
   "cell_type": "markdown",
   "source": [
    "**Строки** это упорядоченные последовательности символов, для работы с текстовой\n",
    "информацией.\n",
    "\n",
    "Чтобы присвоить переменной строковое значение, достаточно\n",
    "приравнять выражение в кавычках.\n"
   ],
   "metadata": {
    "collapsed": false
   }
  },
  {
   "cell_type": "code",
   "execution_count": 2,
   "outputs": [],
   "source": [
    "s = 'ain\"t it fun?'\n",
    "s = \"ain't it fun?\""
   ],
   "metadata": {
    "collapsed": false
   }
  },
  {
   "cell_type": "markdown",
   "source": [
    "Как говорилось ранее, разницы между одинарными и двойными кавычками нет, они\n",
    "были введены для того, чтобы можно было не экранировать кавычки внутри\n",
    "предложения, как показано на примере выше. То есть, если бы мы в первом варианте\n",
    "с одинарными кавычками в слове ant\"t применили также одинарную кавычку, тогда\n",
    "бы мы получили сообщение об ошибке, потому что наша строка состояла бы только\n",
    "из символов 'ain', остальной текст не был бы воспринят как часть строки, и в конце\n",
    "стояла бы одинокая открывающая кавычка. Но и этого можно избежать применив\n",
    "экранирование, или другими словами - отмену действия прямого назначения\n",
    "символа:\n"
   ],
   "metadata": {
    "collapsed": false
   }
  },
  {
   "cell_type": "code",
   "execution_count": 4,
   "outputs": [
    {
     "data": {
      "text/plain": "\"ain't it fun?\""
     },
     "execution_count": 4,
     "metadata": {},
     "output_type": "execute_result"
    }
   ],
   "source": [
    "s = 'ain\\'t it fun?'\n",
    "s"
   ],
   "metadata": {
    "collapsed": false
   }
  },
  {
   "cell_type": "markdown",
   "source": [
    "В данном случае символ \\ отменяет действие кавычки, то есть она не закрывает\n",
    "строку, а воспринимается как часть выражения и заканчивается оно в самом конце,\n",
    "однако не всегда такой вид удобочитаем.\n",
    "Существуют различные экранированные последовательности, которые позволяют\n",
    "вставить символы, которые трудно ввести с клавиатуры.\n",
    "Например,\n",
    " \\n - перевод строки\n"
   ],
   "metadata": {
    "collapsed": false
   }
  },
  {
   "cell_type": "code",
   "execution_count": 5,
   "outputs": [
    {
     "name": "stdout",
     "output_type": "stream",
     "text": [
      "ain\"t \n",
      "it \n",
      "fun?\n"
     ]
    }
   ],
   "source": [
    "s = 'ain\"t \\nit \\nfun?'\n",
    "print(s)"
   ],
   "metadata": {
    "collapsed": false
   }
  },
  {
   "cell_type": "markdown",
   "source": [
    "**если нужно вывести на печать сам символ \\ , то его нужно экранировать самим собой.**"
   ],
   "metadata": {
    "collapsed": false
   }
  },
  {
   "cell_type": "code",
   "execution_count": 6,
   "outputs": [
    {
     "name": "stdout",
     "output_type": "stream",
     "text": [
      "ain\"t \\nit \\nfun?\n"
     ]
    }
   ],
   "source": [
    "s = 'ain\"t \\\\nit \\\\nfun?'\n",
    "print(s)"
   ],
   "metadata": {
    "collapsed": false
   }
  },
  {
   "cell_type": "markdown",
   "source": [
    "## Операции со строками\n",
    "\n",
    "Строки можно складывать:\n"
   ],
   "metadata": {
    "collapsed": false
   }
  },
  {
   "cell_type": "code",
   "execution_count": 7,
   "outputs": [
    {
     "name": "stdout",
     "output_type": "stream",
     "text": [
      "строка 1строка 2\n"
     ]
    }
   ],
   "source": [
    "str1 = \"строка 1\"\n",
    "str2 = \"строка 2\"\n",
    "\n",
    "print(str1 + str2)"
   ],
   "metadata": {
    "collapsed": false
   }
  },
  {
   "cell_type": "markdown",
   "source": [
    "Умножать на число (дублировать):"
   ],
   "metadata": {
    "collapsed": false
   }
  },
  {
   "cell_type": "code",
   "execution_count": 8,
   "outputs": [
    {
     "name": "stdout",
     "output_type": "stream",
     "text": [
      "строка 1строка 1строка 1\n"
     ]
    }
   ],
   "source": [
    "str1 = \"строка 1\"\n",
    "print(str1*3)"
   ],
   "metadata": {
    "collapsed": false
   }
  },
  {
   "cell_type": "markdown",
   "source": [
    "С помощью метода len() можно узнать количество символов в строке:\n"
   ],
   "metadata": {
    "collapsed": false
   }
  },
  {
   "cell_type": "code",
   "execution_count": 9,
   "outputs": [
    {
     "data": {
      "text/plain": "17"
     },
     "execution_count": 9,
     "metadata": {},
     "output_type": "execute_result"
    }
   ],
   "source": [
    "str1 = \"строка 1\"\n",
    "len(s)"
   ],
   "metadata": {
    "collapsed": false
   }
  },
  {
   "cell_type": "markdown",
   "source": [
    "Можно обращаться к элементам по их индексу (индексация ведется от нуля):"
   ],
   "metadata": {
    "collapsed": false
   }
  },
  {
   "cell_type": "code",
   "execution_count": 11,
   "outputs": [
    {
     "name": "stdout",
     "output_type": "stream",
     "text": [
      "с\n",
      "а\n"
     ]
    }
   ],
   "source": [
    "str1 = \"строка 1\"\n",
    "print(str1[0])\n",
    "print(str1[5])"
   ],
   "metadata": {
    "collapsed": false
   }
  },
  {
   "cell_type": "markdown",
   "source": [
    "**Изменять символ при обращении к элементу строки по индексу - НЕЛЬЗЯ**"
   ],
   "metadata": {
    "collapsed": false
   }
  },
  {
   "cell_type": "code",
   "execution_count": 12,
   "outputs": [
    {
     "ename": "TypeError",
     "evalue": "'str' object does not support item assignment",
     "output_type": "error",
     "traceback": [
      "\u001B[1;31m---------------------------------------------------------------------------\u001B[0m",
      "\u001B[1;31mTypeError\u001B[0m                                 Traceback (most recent call last)",
      "Input \u001B[1;32mIn [12]\u001B[0m, in \u001B[0;36m<cell line: 1>\u001B[1;34m()\u001B[0m\n\u001B[1;32m----> 1\u001B[0m str1[\u001B[38;5;241m2\u001B[39m] \u001B[38;5;241m=\u001B[39m \u001B[38;5;124m'\u001B[39m\u001B[38;5;124mf\u001B[39m\u001B[38;5;124m'\u001B[39m\n",
      "\u001B[1;31mTypeError\u001B[0m: 'str' object does not support item assignment"
     ]
    }
   ],
   "source": [
    "str1[2] = 'f'"
   ],
   "metadata": {
    "collapsed": false
   }
  },
  {
   "cell_type": "markdown",
   "source": [
    "Можно делать срезы"
   ],
   "metadata": {
    "collapsed": false
   }
  },
  {
   "cell_type": "code",
   "execution_count": 14,
   "outputs": [
    {
     "name": "stdout",
     "output_type": "stream",
     "text": [
      "str1 = строка 1    str1[1:4] = тро       str1[1:] = трока 1    str1[:5] = строк\n"
     ]
    }
   ],
   "source": [
    "s1 = str1[1:4]\n",
    "s2 = str1[1:]\n",
    "s3 = str1[:5]\n",
    "\n",
    "print(f\"str1 = {str1}    str1[1:4] = {s1}       str1[1:] = {s2}    str1[:5] = {s3}\")"
   ],
   "metadata": {
    "collapsed": false
   }
  },
  {
   "cell_type": "code",
   "execution_count": 16,
   "outputs": [
    {
     "name": "stdout",
     "output_type": "stream",
     "text": [
      "str1 = строка 1    str1[1:-4] = тро       str1[-1:4] =     str1[:-5] = стр\n"
     ]
    }
   ],
   "source": [
    "s1 = str1[1:-4]\n",
    "s2 = str1[-1:4]\n",
    "s3 = str1[:-5]\n",
    "\n",
    "print(f\"str1 = {str1}    str1[1:-4] = {s1}       str1[-1:4] = {s2}    str1[:-5] = {s3}\")"
   ],
   "metadata": {
    "collapsed": false
   }
  },
  {
   "cell_type": "markdown",
   "source": [
    "**a[start:stop]**\n",
    "   <blockquote>элементы от индекса start до индекса stop-1  включительно</blockquote>\n",
    "\n",
    "**a[start:stop:step]**  <blockquote>элементы от индекса start до индекса stop-1  включительно, с шагом step</blockquote>\n",
    "\n",
    "**a[start:]**        <blockquote>элементы от индекса start до конца</blockquote>\n",
    "\n",
    "**a[:stop]**          <blockquote>элементы от начала до индекса stop-1  включительно</blockquote>\n",
    "\n",
    "**a[:]**              <blockquote>копия всей строки</blockquote>\n",
    "\n",
    "**a[-1]**           <blockquote>последний элемент в массиве</blockquote>\n",
    "\n",
    "**a[-2:]**          <blockquote>два последних элемента в массиве</blockquote>\n",
    "\n",
    "**a[:-2]**          <blockquote>все, кроме последних двух элементов</blockquote>\n",
    "\n",
    "С шагом:\n",
    "**a[::-1]**        <blockquote> все элементы массива в обратном порядке</blockquote>\n",
    "\n",
    "**a[1::-1]**         <blockquote>первые два элемента в обратном порядке</blockquote>\n",
    "\n",
    "**a[:-3:-1]**       <blockquote>последние два элемента в обратном порядке</blockquote>\n",
    "\n",
    "**a[-3::-1]**      <blockquote>все, кроме двух последних элементов, в обратном порядке</blockquote>\n",
    "\n"
   ],
   "metadata": {
    "collapsed": false
   }
  },
  {
   "cell_type": "code",
   "execution_count": null,
   "outputs": [],
   "source": [],
   "metadata": {
    "collapsed": false
   }
  },
  {
   "cell_type": "markdown",
   "source": [
    "## Методы работы со строками\n",
    "\n",
    "**find(str, [start],[end])** <blockquote>Поиск подстроки в строке. Возвращает номер первого\n",
    "вхождения или **-1**</blockquote>\n",
    "\n",
    "**rfind(str, [start],[end])** <blockquote>Поиск подстроки в строке. Возвращает номер последнего\n",
    "вхождения или **-1**</blockquote>\n",
    "\n",
    "**index(str, [start],[end])** <blockquote>Поиск подстроки в строке. Возвращает номер первого\n",
    "вхождения или **ValueError**</blockquote>\n",
    "\n",
    "**rindex(str, [start],[end])** <blockquote>Поиск подстроки в строке. Возвращает номер последнего\n",
    "вхождения или **ValueError**</blockquote>\n"
   ],
   "metadata": {
    "collapsed": false
   }
  },
  {
   "cell_type": "code",
   "execution_count": 17,
   "outputs": [
    {
     "name": "stdout",
     "output_type": "stream",
     "text": [
      "find('th') = 2      rfind('th') = 8\n"
     ]
    }
   ],
   "source": [
    "str1 = \"PythonPython\"\n",
    "\n",
    "print(f\"find('th') = {str1.find('th')}      rfind('th') = {str1.rfind('th')}\")"
   ],
   "metadata": {
    "collapsed": false
   }
  },
  {
   "cell_type": "code",
   "execution_count": 18,
   "outputs": [
    {
     "name": "stdout",
     "output_type": "stream",
     "text": [
      "index('th') = 2      rindex('th') = 8\n"
     ]
    }
   ],
   "source": [
    "str1 = \"PythonPython\"\n",
    "\n",
    "print(f\"index('th') = {str1.index('th')}      rindex('th') = {str1.rindex('th')}\")"
   ],
   "metadata": {
    "collapsed": false
   }
  },
  {
   "cell_type": "code",
   "execution_count": 21,
   "outputs": [
    {
     "name": "stdout",
     "output_type": "stream",
     "text": [
      "-1\n"
     ]
    }
   ],
   "source": [
    "print(str1.find('0'))"
   ],
   "metadata": {
    "collapsed": false
   }
  },
  {
   "cell_type": "code",
   "execution_count": 22,
   "outputs": [
    {
     "ename": "ValueError",
     "evalue": "substring not found",
     "output_type": "error",
     "traceback": [
      "\u001B[1;31m---------------------------------------------------------------------------\u001B[0m",
      "\u001B[1;31mValueError\u001B[0m                                Traceback (most recent call last)",
      "Input \u001B[1;32mIn [22]\u001B[0m, in \u001B[0;36m<cell line: 1>\u001B[1;34m()\u001B[0m\n\u001B[1;32m----> 1\u001B[0m \u001B[38;5;28mprint\u001B[39m(\u001B[43mstr1\u001B[49m\u001B[38;5;241;43m.\u001B[39;49m\u001B[43mindex\u001B[49m\u001B[43m(\u001B[49m\u001B[38;5;124;43m'\u001B[39;49m\u001B[38;5;124;43m0\u001B[39;49m\u001B[38;5;124;43m'\u001B[39;49m\u001B[43m)\u001B[49m)\n",
      "\u001B[1;31mValueError\u001B[0m: substring not found"
     ]
    }
   ],
   "source": [
    "print(str1.index('0'))"
   ],
   "metadata": {
    "collapsed": false
   }
  },
  {
   "cell_type": "markdown",
   "source": [
    "### Замена и слияние подстрок\n",
    "**replace(шаблон, замена)**\n",
    " <blockquote>Замена шаблона</blockquote>\n",
    "\n",
    "**split(символ)**\n",
    " <blockquote> Разбиение строки по разделителю</blockquote>\n",
    "\n",
    "**join(список)**\n",
    " <blockquote>Сборка строки из списка с разделителем S</blockquote>\n",
    "\n",
    "\n"
   ],
   "metadata": {
    "collapsed": false
   }
  },
  {
   "cell_type": "code",
   "execution_count": 24,
   "outputs": [
    {
     "name": "stdout",
     "output_type": "stream",
     "text": [
      "str1 = PythonPython       str2 = lenhonlenhon\n"
     ]
    }
   ],
   "source": [
    "str1 = \"PythonPython\"\n",
    "str2 = str1.replace('Pyt','len')\n",
    "print(f\"str1 = {str1}       str2 = {str2}\")"
   ],
   "metadata": {
    "collapsed": false
   }
  },
  {
   "cell_type": "code",
   "execution_count": 27,
   "outputs": [
    {
     "name": "stdout",
     "output_type": "stream",
     "text": [
      "str1 = PythonPython        str2 = ['Py', 'onPy', 'on']       str3 = ['Pyth', 'nPyth', 'n']\n"
     ]
    }
   ],
   "source": [
    "str2 = str1.split('th')\n",
    "str3 = str1.split('o')\n",
    "print(f\"str1 = {str1}        str2 = {str2}       str3 = {str3}\")"
   ],
   "metadata": {
    "collapsed": false
   }
  },
  {
   "cell_type": "code",
   "execution_count": 30,
   "outputs": [
    {
     "name": "stdout",
     "output_type": "stream",
     "text": [
      "str1 = ;        str2 = aaaa;bbbb;cccc\n",
      "str11 = pYt        str2 = aaaapYtbbbbpYtcccc\n"
     ]
    }
   ],
   "source": [
    "str1 = ';'\n",
    "str11 = 'pYt'\n",
    "ls = ['aaaa', 'bbbb', 'cccc']\n",
    "str2 = str1.join(ls)\n",
    "str3 = str11.join(ls)\n",
    "\n",
    "print(f\"str1 = {str1}        str2 = {str2}\")\n",
    "print(f\"str11 = {str11}        str2 = {str3}\")"
   ],
   "metadata": {
    "collapsed": false
   }
  },
  {
   "cell_type": "markdown",
   "source": [
    "### Проверка содержимого\n",
    "**isdigit()**\n",
    " <blockquote>Состоит ли строка из цифр</blockquote>\n",
    "\n",
    "**isalpha()**\n",
    " <blockquote>Состоит ли строка из букв</blockquote>\n",
    "\n",
    "**isalnum()**\n",
    " <blockquote>Состоит ли строка из цифр или букв</blockquote>\n",
    "\n",
    "**startswith(str)**\n",
    " <blockquote> Начинается ли строка S с шаблона str</blockquote>\n",
    "\n",
    "**endswith(str)**\n",
    " <blockquote> Заканчивается ли строка S шаблоном str</blockquote>"
   ],
   "metadata": {
    "collapsed": false
   }
  },
  {
   "cell_type": "code",
   "execution_count": 32,
   "outputs": [
    {
     "name": "stdout",
     "output_type": "stream",
     "text": [
      "строка 3838398439049    и это число\n",
      "строка ЭтоПростоБуквы    и это буквы\n",
      "строка 3ds83s83s98s43s90s49    тут и буквы, и цифры\n",
      "строка 3d!d    тут ВСЕ\n"
     ]
    }
   ],
   "source": [
    "sDigits = \"3838398439049\"\n",
    "sLetters = \"ЭтоПростоБуквы\"\n",
    "sDigitsLetters = \"3ds83s83s98s43s90s49\"\n",
    "sAll = \"3d!d\"\n",
    "\n",
    "ls = [sDigits, sLetters, sDigitsLetters, sAll]\n",
    "res = \"\"  # print(f\"строка = {s}\n",
    "for s in ls:\n",
    "    if s.isdigit():\n",
    "        res = \" и это число\"\n",
    "    elif s.isalpha():\n",
    "        res = \" и это буквы\"\n",
    "    elif s.isalnum():\n",
    "        res = \" тут и буквы, и цифры\"\n",
    "    else:  res = \" тут ВСЕ\"\n",
    "\n",
    "    print(f\"строка {s}   {res}\")"
   ],
   "metadata": {
    "collapsed": false
   }
  },
  {
   "cell_type": "code",
   "execution_count": 33,
   "outputs": [
    {
     "data": {
      "text/plain": "True"
     },
     "execution_count": 33,
     "metadata": {},
     "output_type": "execute_result"
    }
   ],
   "source": [
    "sLetters.startswith(\"Это\")"
   ],
   "metadata": {
    "collapsed": false
   }
  },
  {
   "cell_type": "code",
   "execution_count": 34,
   "outputs": [
    {
     "data": {
      "text/plain": "False"
     },
     "execution_count": 34,
     "metadata": {},
     "output_type": "execute_result"
    }
   ],
   "source": [
    "sLetters.endswith(\"Это\")"
   ],
   "metadata": {
    "collapsed": false
   }
  },
  {
   "cell_type": "markdown",
   "source": [
    "### Проверка форматирования\n",
    "\n",
    "**islower()**\n",
    " <blockquote>Все ли символы в нижнем регистре</blockquote>\n",
    "\n",
    "**isupper()**\n",
    " <blockquote>Состоит ли строка из символов в верхнем регистре</blockquote>\n",
    "\n",
    "**istitle()**\n",
    " <blockquote>Является ли строка заголовком? Начинаются ли слова в строке с заглавной буквы</blockquote>\n",
    "\n",
    "**upper()**\n",
    " <blockquote>Преобразование строки к верхнему регистру</blockquote>\n",
    "\n",
    "**lower()**\n",
    " <blockquote>Преобразование строки к нижнему регистру</blockquote>"
   ],
   "metadata": {
    "collapsed": false
   }
  },
  {
   "cell_type": "code",
   "execution_count": 40,
   "outputs": [
    {
     "name": "stdout",
     "output_type": "stream",
     "text": [
      "Все ли символы в нижнем регистре? False\n",
      "Все ли символы в верхнем регистре? False\n",
      "Начинаются ли слова в строке ЭтоПростоБуквы с заглавной буквы? False\n",
      "Начинаются ли слова в строке Это Просто Буквы с заглавной буквы? True\n"
     ]
    }
   ],
   "source": [
    "sLetters = \"ЭтоПростоБуквы\"\n",
    "\n",
    "print(f\"Все ли символы в нижнем регистре? {sLetters.islower()}\")\n",
    "print(f\"Все ли символы в верхнем регистре? {sLetters.isupper()}\")\n",
    "\n",
    "print(f\"Начинаются ли слова в строке {sLetters} с заглавной буквы? {sLetters.istitle()}\")\n",
    "\n",
    "sTitle = \"Это Просто Буквы\"\n",
    "print(f\"Начинаются ли слова в строке {sTitle} с заглавной буквы? {sTitle.istitle()}\")"
   ],
   "metadata": {
    "collapsed": false
   }
  },
  {
   "cell_type": "code",
   "execution_count": 41,
   "outputs": [
    {
     "name": "stdout",
     "output_type": "stream",
     "text": [
      "Строка Это Просто Буквы   Все в верхнем регистре ЭТО ПРОСТО БУКВЫ\n",
      "Строка Это Просто Буквы   Все в нижнем регистре это просто буквы\n"
     ]
    }
   ],
   "source": [
    "sUp = sTitle.upper()\n",
    "sLo = sTitle.lower()\n",
    "\n",
    "print(f\"Строка {sTitle}   Все в верхнем регистре {sUp}\")\n",
    "print(f\"Строка {sTitle}   Все в нижнем регистре {sLo}\")"
   ],
   "metadata": {
    "collapsed": false
   }
  }
 ],
 "metadata": {
  "kernelspec": {
   "display_name": "Python 3",
   "language": "python",
   "name": "python3"
  },
  "language_info": {
   "codemirror_mode": {
    "name": "ipython",
    "version": 2
   },
   "file_extension": ".py",
   "mimetype": "text/x-python",
   "name": "python",
   "nbconvert_exporter": "python",
   "pygments_lexer": "ipython2",
   "version": "2.7.6"
  }
 },
 "nbformat": 4,
 "nbformat_minor": 0
}
