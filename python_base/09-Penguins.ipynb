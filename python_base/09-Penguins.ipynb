{
 "cells": [
  {
   "cell_type": "markdown",
   "id": "6ad8880f",
   "metadata": {
    "toc": true
   },
   "source": [
    "<h1>Table of Contents<span class=\"tocSkip\"></span></h1>\n",
    "<div class=\"toc\"><ul class=\"toc-item\"><li><span><a href=\"#Скрипичная-диаграмма-для-Пингвинов\" data-toc-modified-id=\"Скрипичная-диаграмма-для-Пингвинов-1\"><span class=\"toc-item-num\">1&nbsp;&nbsp;</span>Скрипичная диаграмма для Пингвинов</a></span></li></ul></div>"
   ]
  },
  {
   "cell_type": "markdown",
   "id": "81eef4ab",
   "metadata": {},
   "source": [
    "# Скрипичная диаграмма для Пингвинов"
   ]
  },
  {
   "cell_type": "code",
   "execution_count": null,
   "id": "aaa4c211",
   "metadata": {},
   "outputs": [],
   "source": [
    "import matplotlib.pyplot as plt\n",
    "import numpy as np\n",
    "import pandas as pd"
   ]
  },
  {
   "cell_type": "code",
   "execution_count": null,
   "id": "5fe0342e",
   "metadata": {},
   "outputs": [],
   "source": [
    "# load penguns data with Pandas read_csv\n",
    "df = pd.read_csv(\"data/penguins.csv\")\n"
   ]
  },
  {
   "cell_type": "code",
   "execution_count": null,
   "id": "735edb27",
   "metadata": {},
   "outputs": [],
   "source": [
    "df.describe()"
   ]
  },
  {
   "cell_type": "code",
   "execution_count": null,
   "id": "29c15a85",
   "metadata": {},
   "outputs": [],
   "source": [
    "# remove rows with missing values\n",
    "df = df.dropna()"
   ]
  },
  {
   "cell_type": "code",
   "execution_count": null,
   "id": "3f4248a6",
   "metadata": {},
   "outputs": [],
   "source": [
    "df.describe()"
   ]
  },
  {
   "cell_type": "code",
   "execution_count": null,
   "id": "46a36842",
   "metadata": {},
   "outputs": [],
   "source": [
    "df.head()"
   ]
  },
  {
   "cell_type": "code",
   "execution_count": null,
   "id": "2952b6ca",
   "metadata": {},
   "outputs": [],
   "source": [
    "data = (df.\n",
    "        groupby('species')[\"body_mass_g\"].\n",
    "        agg(lambda x: list(x)))"
   ]
  },
  {
   "cell_type": "code",
   "execution_count": null,
   "id": "48d64cfd",
   "metadata": {},
   "outputs": [],
   "source": [
    "data"
   ]
  },
  {
   "cell_type": "code",
   "execution_count": null,
   "id": "43e2cf38",
   "metadata": {},
   "outputs": [],
   "source": [
    "data.index"
   ]
  },
  {
   "cell_type": "code",
   "execution_count": null,
   "id": "14dc2d58",
   "metadata": {},
   "outputs": [],
   "source": [
    "labels = data.index\n",
    "fig, ax = plt.subplots()\n",
    "# make violinplot\n",
    "ax.violinplot(data)\n",
    "# set x-axis tick labels\n",
    "ax.set_xticks(np.arange(1, len(labels) + 1), labels=labels)\n",
    "plt.xlabel(\"Species\",\n",
    "            size=14)\n",
    "plt.ylabel(\"Body Mass (g)\", \n",
    "            size=14)\n",
    "plt.title(\"Violinplot with Palmer Penguin Data\", \n",
    "            size=16)\n",
    "plt.savefig(\"Violinplot_matplotlib_python.png\",\n",
    "                    format='png',dpi=150)"
   ]
  },
  {
   "cell_type": "code",
   "execution_count": null,
   "id": "f5ef3940",
   "metadata": {},
   "outputs": [],
   "source": [
    "medians = (df.\n",
    "           groupby('species')[\"body_mass_g\"].\n",
    "           median())"
   ]
  },
  {
   "cell_type": "code",
   "execution_count": null,
   "id": "80f50d4e",
   "metadata": {},
   "outputs": [],
   "source": [
    "inds = np.arange(1, len(medians) + 1)\n",
    "labels = data.index\n",
    " \n",
    "fig, ax = plt.subplots()\n",
    "ax.violinplot(data, \n",
    "             showextrema=False)\n",
    "ax.scatter(inds, medians, marker='o', color='red', s=30, zorder=3)\n",
    "ax.set_xticks(np.arange(1, len(labels) + 1), labels=labels)\n",
    "plt.xlabel(\"Species\",\n",
    "            size=14)\n",
    "plt.ylabel(\"Body Mass (g)\", \n",
    "            size=14)\n",
    "plt.title(\"Violinplot with Palmer Penguin Data\", \n",
    "            size=16)\n",
    "plt.savefig(\"Customizing_Violinplot_matplotlib_python.png\",\n",
    "                    format='png',dpi=150)"
   ]
  },
  {
   "cell_type": "code",
   "execution_count": null,
   "id": "31fee799",
   "metadata": {},
   "outputs": [],
   "source": [
    "quartile1 = (df.\n",
    "             groupby('species')[\"body_mass_g\"].\n",
    "             quantile(0.25))\n",
    "quartile1"
   ]
  },
  {
   "cell_type": "code",
   "execution_count": null,
   "id": "2c9abb8c",
   "metadata": {},
   "outputs": [],
   "source": [
    "quartile3 = (df.\n",
    "             groupby('species')[\"body_mass_g\"].\n",
    "             quantile(0.75))\n",
    "quartile3"
   ]
  },
  {
   "cell_type": "code",
   "execution_count": null,
   "id": "cf2e5a44",
   "metadata": {},
   "outputs": [],
   "source": [
    "inds = np.arange(1, len(medians) + 1)\n",
    "fig, ax = plt.subplots()\n",
    "ax.violinplot(data, \n",
    "              #showmeans=True,\n",
    "              #showmedians=True,\n",
    "             showextrema=True)\n",
    "# set style for the axes\n",
    "labels = data.index\n",
    "# add median value as a point\n",
    "ax.scatter(inds, medians, marker='o', color='red', s=40, zorder=3)\n",
    "# Add boxplot-like vertical lines to show the first and third quartile\n",
    "ax.vlines(inds, quartile1, quartile3, color='k', linestyle='-', lw=6)\n",
    "ax.set_xticks(np.arange(1, len(labels) + 1), labels=labels)\n",
    "plt.xlabel(\"Species\",\n",
    "            fontweight ='bold', \n",
    "            size=14)\n",
    "plt.ylabel(\"Body Mass (g)\", \n",
    "            fontweight ='bold',\n",
    "            size=14)\n",
    "plt.title(\"Violinplot with Palmer Penguin Data\", \n",
    "            fontweight ='bold',\n",
    "            size=16)\n",
    "#plt.show()\n",
    "plt.savefig(\"Customizing_Violinplot_matplotlib_python_2.png\",\n",
    "                    format='png',dpi=150)"
   ]
  },
  {
   "cell_type": "code",
   "execution_count": null,
   "id": "a7974837",
   "metadata": {},
   "outputs": [],
   "source": []
  }
 ],
 "metadata": {
  "kernelspec": {
   "display_name": "Python 3 (ipykernel)",
   "language": "python",
   "name": "python3"
  },
  "language_info": {
   "codemirror_mode": {
    "name": "ipython",
    "version": 3
   },
   "file_extension": ".py",
   "mimetype": "text/x-python",
   "name": "python",
   "nbconvert_exporter": "python",
   "pygments_lexer": "ipython3",
   "version": "3.9.12"
  },
  "toc": {
   "base_numbering": 1,
   "nav_menu": {},
   "number_sections": true,
   "sideBar": true,
   "skip_h1_title": false,
   "title_cell": "Table of Contents",
   "title_sidebar": "Contents",
   "toc_cell": true,
   "toc_position": {},
   "toc_section_display": true,
   "toc_window_display": false
  }
 },
 "nbformat": 4,
 "nbformat_minor": 5
}
