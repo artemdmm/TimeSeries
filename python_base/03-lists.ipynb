{
 "cells": [
  {
   "cell_type": "markdown",
   "id": "e601e5ba",
   "metadata": {
    "toc": true
   },
   "source": [
    "<h1>Table of Contents<span class=\"tocSkip\"></span></h1>\n",
    "<div class=\"toc\"><ul class=\"toc-item\"><li><span><a href=\"#Списки-в-Python.-Определение\" data-toc-modified-id=\"Списки-в-Python.-Определение-1\"><span class=\"toc-item-num\">1&nbsp;&nbsp;</span>Списки в Python. Определение</a></span></li><li><span><a href=\"#Создание-списков\" data-toc-modified-id=\"Создание-списков-2\"><span class=\"toc-item-num\">2&nbsp;&nbsp;</span>Создание списков</a></span></li><li><span><a href=\"#Функция-print()\" data-toc-modified-id=\"Функция-print()-3\"><span class=\"toc-item-num\">3&nbsp;&nbsp;</span>Функция print()</a></span></li><li><span><a href=\"#Вывод-списка\" data-toc-modified-id=\"Вывод-списка-4\"><span class=\"toc-item-num\">4&nbsp;&nbsp;</span>Вывод списка</a></span></li><li><span><a href=\"#Сравнение-и-копирование-списков\" data-toc-modified-id=\"Сравнение-и-копирование-списков-5\"><span class=\"toc-item-num\">5&nbsp;&nbsp;</span>Сравнение и копирование списков</a></span></li><li><span><a href=\"#Индексация-и-срезы\" data-toc-modified-id=\"Индексация-и-срезы-6\"><span class=\"toc-item-num\">6&nbsp;&nbsp;</span>Индексация и срезы</a></span><ul class=\"toc-item\"><li><span><a href=\"#Индексация\" data-toc-modified-id=\"Индексация-6.1\"><span class=\"toc-item-num\">6.1&nbsp;&nbsp;</span>Индексация</a></span></li><li><span><a href=\"#Срезы\" data-toc-modified-id=\"Срезы-6.2\"><span class=\"toc-item-num\">6.2&nbsp;&nbsp;</span>Срезы</a></span></li></ul></li><li><span><a href=\"#Работа-со-списками\" data-toc-modified-id=\"Работа-со-списками-7\"><span class=\"toc-item-num\">7&nbsp;&nbsp;</span>Работа со списками</a></span><ul class=\"toc-item\"><li><span><a href=\"#count()\" data-toc-modified-id=\"count()-7.1\"><span class=\"toc-item-num\">7.1&nbsp;&nbsp;</span>count()</a></span></li><li><span><a href=\"#len()\" data-toc-modified-id=\"len()-7.2\"><span class=\"toc-item-num\">7.2&nbsp;&nbsp;</span>len()</a></span></li><li><span><a href=\"#append()\" data-toc-modified-id=\"append()-7.3\"><span class=\"toc-item-num\">7.3&nbsp;&nbsp;</span>append()</a></span></li><li><span><a href=\"#insert()\" data-toc-modified-id=\"insert()-7.4\"><span class=\"toc-item-num\">7.4&nbsp;&nbsp;</span>insert()</a></span></li><li><span><a href=\"#Сложение-списков\" data-toc-modified-id=\"Сложение-списков-7.5\"><span class=\"toc-item-num\">7.5&nbsp;&nbsp;</span>Сложение списков</a></span></li><li><span><a href=\"#Расширение-списка,-extend()\" data-toc-modified-id=\"Расширение-списка,-extend()-7.6\"><span class=\"toc-item-num\">7.6&nbsp;&nbsp;</span>Расширение списка, extend()</a></span></li><li><span><a href=\"#Умножение-списка\" data-toc-modified-id=\"Умножение-списка-7.7\"><span class=\"toc-item-num\">7.7&nbsp;&nbsp;</span>Умножение списка</a></span></li><li><span><a href=\"#clear()\" data-toc-modified-id=\"clear()-7.8\"><span class=\"toc-item-num\">7.8&nbsp;&nbsp;</span>clear()</a></span></li><li><span><a href=\"#Варианты-удаления-элементов-списка.-remove(),-pop(),-del()\" data-toc-modified-id=\"Варианты-удаления-элементов-списка.-remove(),-pop(),-del()-7.9\"><span class=\"toc-item-num\">7.9&nbsp;&nbsp;</span>Варианты удаления элементов списка. remove(), pop(), del()</a></span></li><li><span><a href=\"#Разворот-списка-и-сортировка\" data-toc-modified-id=\"Разворот-списка-и-сортировка-7.10\"><span class=\"toc-item-num\">7.10&nbsp;&nbsp;</span>Разворот списка и сортировка</a></span></li></ul></li></ul></div>"
   ]
  },
  {
   "cell_type": "markdown",
   "id": "dda7f196",
   "metadata": {},
   "source": [
    "# Списки в Python. Определение"
   ]
  },
  {
   "cell_type": "markdown",
   "id": "5c6b41e8",
   "metadata": {},
   "source": [
    "Список - упорядоченная изменяемая коллекция (массив) объектов произвольных типов - (list).\n",
    "\n",
    "Они могут содержать данные различных типов, даже другие списки. "
   ]
  },
  {
   "cell_type": "markdown",
   "id": "e657877c",
   "metadata": {},
   "source": [
    "# Создание списков\n",
    "\n",
    "Для создания списка автоматически можно использовать метод list():"
   ]
  },
  {
   "cell_type": "code",
   "execution_count": 1,
   "id": "4d12aff1",
   "metadata": {},
   "outputs": [
    {
     "name": "stdout",
     "output_type": "stream",
     "text": [
      "['P', 'y', 't', 'h', 'o', 'n']\n"
     ]
    }
   ],
   "source": [
    "l = list('Python')\n",
    "print(l)"
   ]
  },
  {
   "cell_type": "markdown",
   "id": "4dae6de3",
   "metadata": {},
   "source": [
    "Также можно это сделать напрямую, присвоив переменной значение типа list:"
   ]
  },
  {
   "cell_type": "code",
   "execution_count": 2,
   "id": "ded40988",
   "metadata": {},
   "outputs": [
    {
     "name": "stdout",
     "output_type": "stream",
     "text": [
      "[]\n",
      "['s', 'p', ['isok'], 2]\n"
     ]
    }
   ],
   "source": [
    "# Пустой список\n",
    "s = []\n",
    "\n",
    "# список с данными разных типов\n",
    "l = ['s', 'p', ['isok'], 2]\n",
    "\n",
    "\n",
    "print(s)\n",
    "\n",
    "print(l)"
   ]
  },
  {
   "cell_type": "markdown",
   "id": "1070f37d",
   "metadata": {},
   "source": [
    "Также можно использовать генераторы списков:"
   ]
  },
  {
   "cell_type": "code",
   "execution_count": 3,
   "id": "348926d2",
   "metadata": {},
   "outputs": [
    {
     "name": "stdout",
     "output_type": "stream",
     "text": [
      "['PPP', 'yyy', 'ttt', 'hhh', 'ooo', 'nnn']\n"
     ]
    }
   ],
   "source": [
    "a = ['P', 'y', 't', 'h', 'o', 'n']\n",
    "b = [i * 3 for i in a]\n",
    "\n",
    "print(b)"
   ]
  },
  {
   "cell_type": "code",
   "execution_count": 14,
   "id": "fb214640",
   "metadata": {},
   "outputs": [
    {
     "name": "stdout",
     "output_type": "stream",
     "text": [
      "[1, 2, 3, 4, 5, 6, 7, 8, 9, 10, 11]\n",
      "1 2 3 4 5 6 7 8 9 10 11\n",
      "2\n"
     ]
    }
   ],
   "source": [
    "ls = list(range (1, 12))\n",
    "\n",
    "print(ls)\n",
    "print(*ls)\n",
    "print(ls[1])"
   ]
  },
  {
   "cell_type": "code",
   "execution_count": 17,
   "id": "b7fbe22d",
   "metadata": {},
   "outputs": [
    {
     "name": "stdout",
     "output_type": "stream",
     "text": [
      "[1, 2, 3, 4, 5, 6, 7, 8, 9, 10, 11, 12, 13, 14, 15, 16, 17, 18, 19]\n"
     ]
    }
   ],
   "source": [
    "ls1 = [i for i in range (1, 20)]\n",
    "\n",
    "print(ls1)"
   ]
  },
  {
   "cell_type": "markdown",
   "id": "bdf27898",
   "metadata": {},
   "source": [
    "Можно ввести с клавиатуры:"
   ]
  },
  {
   "cell_type": "code",
   "execution_count": null,
   "id": "a36934a6",
   "metadata": {},
   "outputs": [],
   "source": [
    "# Каждый элемент ввводится с новой строки\n",
    "a = []\n",
    "for _ in range(10):\n",
    "    a.append(int(input()))"
   ]
  },
  {
   "cell_type": "markdown",
   "id": "4a458e1c",
   "metadata": {},
   "source": [
    "range(start, stop, step)\n",
    "\n",
    "Функция range() работает только с целыми числами.\n",
    "\n",
    "Все аргументы должны быть целыми числами. Пользователи не могут передавать строку, число с плавающей запятой или любой другой тип в аргументе начала, остановки и шага диапазона ().\n",
    "\n",
    "Все три аргумента могут быть положительными или отрицательными.\n",
    "\n",
    "Значение шага не должно быть равно нулю. Если шаг равен нулю, Python вызывает исключение ValueError.\n",
    "\n",
    "range() — это тип в Python (итерируемый объект (range object), содержащий целые числа)\n",
    "\n",
    "Пользователи могут получить доступ к элементам в range() по индексу, так же как пользователи делают это со списком."
   ]
  },
  {
   "cell_type": "code",
   "execution_count": 28,
   "id": "e3e866a1",
   "metadata": {},
   "outputs": [
    {
     "name": "stdout",
     "output_type": "stream",
     "text": [
      "1 2 3 5 6  7 8 \n",
      "[1, 2, 3, 5, 6, 7, 8]\n"
     ]
    }
   ],
   "source": [
    "# Весь список вводится в  одной строке\n",
    "# Первый способ - списочное выражение: считваем строку, разрезаем по пробелам, \n",
    "# каждый элемент переводим в число\n",
    "a = [int(x) for x in input().split()]\n",
    "print(a)"
   ]
  },
  {
   "cell_type": "code",
   "execution_count": 30,
   "id": "94f14fe5",
   "metadata": {},
   "outputs": [
    {
     "name": "stdout",
     "output_type": "stream",
     "text": [
      "3 4 5 6 7 \n",
      "[3, 4, 5, 6, 7]\n"
     ]
    }
   ],
   "source": [
    "# Второй способ - функция высшего порядка\n",
    "a = list(map(int, input().split()))\n",
    "print(a)"
   ]
  },
  {
   "cell_type": "code",
   "execution_count": 31,
   "id": "84c01cd6",
   "metadata": {},
   "outputs": [
    {
     "name": "stdout",
     "output_type": "stream",
     "text": [
      "[5, 15, 25, 35, 45, 55, 65, 75, 85, 95]\n"
     ]
    }
   ],
   "source": [
    "# Создание списка по правилу. Списочное выражение\n",
    "a = [x for x in range(1, 101) if x % 5 == 0 and x % 2 != 0]\n",
    "print(a)"
   ]
  },
  {
   "cell_type": "code",
   "execution_count": null,
   "id": "85497424",
   "metadata": {},
   "outputs": [],
   "source": [
    "# вообще все, что вводится с клавиатуры, можно разделить split\n",
    "a = input().split()\n",
    "print(a, type(a))"
   ]
  },
  {
   "cell_type": "markdown",
   "id": "39f5ad64",
   "metadata": {},
   "source": [
    "# Функция print()\n",
    "\n",
    "print(object1, object2, ..., sep=' ', end='\\n', file=sys.stdout, flush=False)\n",
    "\n",
    "objects — объект/объекты которые необходимо вывести;\n",
    "sep — разделитель между объектами. В качестве своего значения можно передавать строку или None (по умолчанию пробел \" \");\n",
    "end — символ в конце строки (по умолчанию перенос строки \\n);\n",
    "file — file-like объект (по умолчанию sys.stdout);\n",
    "flush — принудительный сброс потока   (по умолчанию False)."
   ]
  },
  {
   "cell_type": "code",
   "execution_count": 32,
   "id": "87c58b29",
   "metadata": {},
   "outputs": [
    {
     "name": "stdout",
     "output_type": "stream",
     "text": [
      "The first sentence. The second sentence. The last sentence.\n"
     ]
    }
   ],
   "source": [
    "print('The first sentence', end='. ')\n",
    "print('The second sentence', end='. ')\n",
    "print('The last sentence.')\n"
   ]
  },
  {
   "cell_type": "code",
   "execution_count": 33,
   "id": "84c44b68",
   "metadata": {},
   "outputs": [
    {
     "name": "stdout",
     "output_type": "stream",
     "text": [
      "The first sentence\n",
      "The second sentence\n",
      "The last sentence.\n"
     ]
    }
   ],
   "source": [
    "print('The first sentence')\n",
    "print('The second sentence')\n",
    "print('The last sentence.')\n"
   ]
  },
  {
   "cell_type": "code",
   "execution_count": 36,
   "id": "67f797f8",
   "metadata": {},
   "outputs": [
    {
     "name": "stdout",
     "output_type": "stream",
     "text": [
      "Mercury, Venus, Earth!"
     ]
    }
   ],
   "source": [
    "print('Mercury', 'Venus', 'Earth', sep=', ', end='!')\n"
   ]
  },
  {
   "cell_type": "code",
   "execution_count": 38,
   "id": "aa7e6c79",
   "metadata": {},
   "outputs": [],
   "source": [
    "import time\n",
    "\n",
    "source_file = open('parse.txt', 'w')\n",
    "for i in range(0, 10):\n",
    "    if i % 10 == 0 and i > 0:\n",
    "        print(f\"iteration #{i}\", file=source_file, flush=True)\n",
    "    else:\n",
    "        print(f\"iteration #{i}\", file=source_file)\n",
    "    time.sleep(1)\n",
    "\n",
    "source_file.close()"
   ]
  },
  {
   "cell_type": "markdown",
   "id": "9bf09503",
   "metadata": {},
   "source": [
    "# Вывод списка"
   ]
  },
  {
   "cell_type": "code",
   "execution_count": 18,
   "id": "ec198f4d",
   "metadata": {},
   "outputs": [],
   "source": [
    "lst = [8, 'P', 7, 'y', 't', 9, 'h',  10,'o', 11, 'n', [6,  12]]"
   ]
  },
  {
   "cell_type": "code",
   "execution_count": 19,
   "id": "126f0c3f",
   "metadata": {},
   "outputs": [
    {
     "name": "stdout",
     "output_type": "stream",
     "text": [
      "[8, 'P', 7, 'y', 't', 9, 'h', 10, 'o', 11, 'n', [6, 12]]\n"
     ]
    }
   ],
   "source": [
    "# просто print()\n",
    "print(lst)"
   ]
  },
  {
   "cell_type": "code",
   "execution_count": 20,
   "id": "ebc397be",
   "metadata": {},
   "outputs": [
    {
     "name": "stdout",
     "output_type": "stream",
     "text": [
      "8 P 7 y t 9 h 10 o 11 n [6, 12]\n"
     ]
    }
   ],
   "source": [
    "# передать содержимое списка в print()\n",
    "print(*lst)"
   ]
  },
  {
   "cell_type": "markdown",
   "id": "7e58efb5",
   "metadata": {},
   "source": [
    "Оператор * - позволяет получать каждый элемент в объекте. \n",
    "Например, строка  -  символы, \n",
    "списки и кортежи  -  элементов, \n",
    "словари           - пары ключей и  значений."
   ]
  },
  {
   "cell_type": "code",
   "execution_count": 27,
   "id": "5c819162",
   "metadata": {},
   "outputs": [
    {
     "name": "stdout",
     "output_type": "stream",
     "text": [
      "8; P; 7; y; t; 9; h; 10; o; 11; n; [6, 12]\n"
     ]
    }
   ],
   "source": [
    "# пример * со списком\n",
    "\n",
    "print(*lst, sep =\"; \")"
   ]
  },
  {
   "cell_type": "code",
   "execution_count": 24,
   "id": "52edac9f",
   "metadata": {},
   "outputs": [
    {
     "name": "stdout",
     "output_type": "stream",
     "text": [
      "[8, 'P', 7, 'y', 't', 9, 'h', 10, 'o', 11, 'n', [6, 12]]\n"
     ]
    }
   ],
   "source": [
    "print(lst, sep =\"; \")"
   ]
  },
  {
   "cell_type": "code",
   "execution_count": 26,
   "id": "27a1f98c",
   "metadata": {},
   "outputs": [
    {
     "name": "stdout",
     "output_type": "stream",
     "text": [
      "python\n",
      "p    y    t    h    o    n\n"
     ]
    }
   ],
   "source": [
    "# Пример * с строкой\n",
    "s = \"python\"\n",
    "\n",
    "print(s, sep = \"    \")\n",
    "print(*s, sep = \"    \")"
   ]
  },
  {
   "cell_type": "code",
   "execution_count": 46,
   "id": "34ea6947",
   "metadata": {},
   "outputs": [
    {
     "name": "stdout",
     "output_type": "stream",
     "text": [
      "[8, 'P', 7, 'y', 't', 9, 'h', 10, 'o', 11, 'n', [6, 12]] -  <class 'list'> -  2054706037632\n",
      "8  -   <class 'int'>  -   2054591048208\n",
      "P  -   <class 'str'>  -   2054597467056\n",
      "7  -   <class 'int'>  -   2054591048176\n",
      "y  -   <class 'str'>  -   2054597206832\n",
      "t  -   <class 'str'>  -   2054595418736\n",
      "9  -   <class 'int'>  -   2054591048240\n",
      "h  -   <class 'str'>  -   2054597329648\n",
      "10  -   <class 'int'>  -   2054591048272\n",
      "o  -   <class 'str'>  -   2054595428848\n",
      "11  -   <class 'int'>  -   2054591048304\n",
      "n  -   <class 'str'>  -   2054597162352\n",
      "[6, 12]  -   <class 'list'>  -   2054706046016\n"
     ]
    }
   ],
   "source": [
    " print(lst, type(lst), id(lst), sep = \" -  \")\n",
    "\n",
    "for v in lst:\n",
    "    print(v, type(v), id(v), sep = \"  -   \")"
   ]
  },
  {
   "cell_type": "markdown",
   "id": "e682165d",
   "metadata": {},
   "source": [
    "# Сравнение и копирование списков"
   ]
  },
  {
   "cell_type": "code",
   "execution_count": 48,
   "id": "faa6b1de",
   "metadata": {},
   "outputs": [
    {
     "name": "stdout",
     "output_type": "stream",
     "text": [
      "Списки равны, но это разные списки\n"
     ]
    }
   ],
   "source": [
    "empty1 = []\n",
    "empty2 = list()\n",
    "\n",
    "if empty1 == empty2:\n",
    "   if empty1 is not empty2:\n",
    "       print('Списки равны, но это разные списки')\n",
    "   else:\n",
    "       print('Это один и тот же список')\n",
    "else:\n",
    "   print('Списки не равны')"
   ]
  },
  {
   "cell_type": "markdown",
   "id": "d8af14bb",
   "metadata": {},
   "source": [
    "**Равенство списков - это одинаковый состав и порядок элементов.**"
   ]
  },
  {
   "cell_type": "code",
   "execution_count": 54,
   "id": "64899ecf",
   "metadata": {},
   "outputs": [
    {
     "name": "stdout",
     "output_type": "stream",
     "text": [
      "copy a: [1, 2, [3, 4]]\n",
      "\n",
      "modified b =  [1, -3, [3, 4]]\n",
      "a =  [1, 2, [3, 4]]\n",
      "\n",
      "[1, -3, [100, 4]] 2054706375168\n",
      "[1, 2, [100, 4]] 2054706375168\n"
     ]
    }
   ],
   "source": [
    "# Поверхностное копирование списка\n",
    "a = [1, 2, [3, 4]]\n",
    "b = a.copy()\n",
    "\n",
    "print(\"copy a:\",b,end=\"\\n\\n\")\n",
    "\n",
    "b[1] = -3\n",
    "print(\"modified b = \",b)\n",
    "print(\"a = \",a, end=\"\\n\\n\")\n",
    " \n",
    "\n",
    "b[2][0] = 100\n",
    "\n",
    "print(b, id(b[2]))\n",
    "print(a, id(a[2]))\n",
    "\n"
   ]
  },
  {
   "cell_type": "code",
   "execution_count": 56,
   "id": "c86f2e49",
   "metadata": {},
   "outputs": [
    {
     "name": "stdout",
     "output_type": "stream",
     "text": [
      "[1, 2, [100, 4]]\n",
      "\n",
      "[1, 2, [100, -100]]\n",
      "[1, 2, [100, 4]]\n"
     ]
    }
   ],
   "source": [
    "import copy\n",
    "\n",
    "a = [1, 2, [100, 4]]\n",
    "c = copy.deepcopy(a)\n",
    "\n",
    "print(c, end=\"\\n\\n\")\n",
    "c[2][1] = -100\n",
    "\n",
    "print(c)\n",
    "print(a)"
   ]
  },
  {
   "cell_type": "markdown",
   "id": "5a5c918b",
   "metadata": {},
   "source": [
    "# Индексация и срезы"
   ]
  },
  {
   "cell_type": "markdown",
   "id": "22e6c463",
   "metadata": {},
   "source": [
    "## Индексация"
   ]
  },
  {
   "cell_type": "code",
   "execution_count": 57,
   "id": "e571cbcc",
   "metadata": {},
   "outputs": [
    {
     "name": "stdout",
     "output_type": "stream",
     "text": [
      "2\n",
      "[3, 4]\n",
      "3\n"
     ]
    }
   ],
   "source": [
    "# Обращение к элементу по номеру\n",
    "\n",
    "b = [1, 2, [3, 4], 5]\n",
    "print(b[1])\n",
    "print(b[2])\n",
    "print(b[2][0])"
   ]
  },
  {
   "cell_type": "code",
   "execution_count": 58,
   "id": "e9cea881",
   "metadata": {},
   "outputs": [
    {
     "name": "stdout",
     "output_type": "stream",
     "text": [
      "[1, 2, [100, 4]]\n",
      "[1, 0, [100, 4]]\n"
     ]
    }
   ],
   "source": [
    "# Так как список - изменяемый тип данных, то при обращении по индексу можно \n",
    "# заменить соответствующее значение:\n",
    "\n",
    "print(a)\n",
    "a[1] = 0\n",
    "print(a)"
   ]
  },
  {
   "cell_type": "code",
   "execution_count": 63,
   "id": "df22df60",
   "metadata": {},
   "outputs": [
    {
     "name": "stdout",
     "output_type": "stream",
     "text": [
      "2\n",
      "6\n",
      "2\n"
     ]
    },
    {
     "ename": "ValueError",
     "evalue": "5 is not in list",
     "output_type": "error",
     "traceback": [
      "\u001b[1;31m---------------------------------------------------------------------------\u001b[0m",
      "\u001b[1;31mValueError\u001b[0m                                Traceback (most recent call last)",
      "Input \u001b[1;32mIn [63]\u001b[0m, in \u001b[0;36m<cell line: 8>\u001b[1;34m()\u001b[0m\n\u001b[0;32m      6\u001b[0m \u001b[38;5;28mprint\u001b[39m(a\u001b[38;5;241m.\u001b[39mindex(\u001b[38;5;241m3\u001b[39m, \u001b[38;5;241m4\u001b[39m))\n\u001b[0;32m      7\u001b[0m \u001b[38;5;28mprint\u001b[39m(a\u001b[38;5;241m.\u001b[39mindex(\u001b[38;5;241m3\u001b[39m, \u001b[38;5;241m0\u001b[39m, \u001b[38;5;241m4\u001b[39m))\n\u001b[1;32m----> 8\u001b[0m \u001b[38;5;28mprint\u001b[39m(\u001b[43ma\u001b[49m\u001b[38;5;241;43m.\u001b[39;49m\u001b[43mindex\u001b[49m\u001b[43m(\u001b[49m\u001b[38;5;241;43m5\u001b[39;49m\u001b[43m)\u001b[49m)\n",
      "\u001b[1;31mValueError\u001b[0m: 5 is not in list"
     ]
    }
   ],
   "source": [
    "# list.index(x, [start [,end]])\n",
    "# Возвращает положение первого элемента со значением x (при этом поиск ведется от start до end)\n",
    "\n",
    "a = [1, 2, 3, 4, 1, 2, 3, 4]\n",
    "print(a.index(3))\n",
    "print(a.index(3, 4))\n",
    "print(a.index(3, 0, 4))\n",
    "print(a.index(5))"
   ]
  },
  {
   "cell_type": "code",
   "execution_count": 60,
   "id": "99d2c3a1",
   "metadata": {},
   "outputs": [
    {
     "name": "stdout",
     "output_type": "stream",
     "text": [
      "No\n"
     ]
    }
   ],
   "source": [
    "if 5 in a:\n",
    "    print(a.index(5))\n",
    "else:\n",
    "    print('No')"
   ]
  },
  {
   "cell_type": "code",
   "execution_count": 61,
   "id": "4d8af902",
   "metadata": {},
   "outputs": [
    {
     "name": "stdout",
     "output_type": "stream",
     "text": [
      "No\n"
     ]
    }
   ],
   "source": [
    "try:\n",
    "    print(a.index(5))\n",
    "except ValueError:\n",
    "    print('No')"
   ]
  },
  {
   "cell_type": "code",
   "execution_count": null,
   "id": "c81301bd",
   "metadata": {},
   "outputs": [],
   "source": [
    "try:\n",
    "    print(a.index(2))\n",
    "except ValueError:\n",
    "    print('No')"
   ]
  },
  {
   "cell_type": "markdown",
   "id": "d7e4aaf2",
   "metadata": {},
   "source": [
    "## Срезы"
   ]
  },
  {
   "cell_type": "code",
   "execution_count": 74,
   "id": "1ec88f48",
   "metadata": {},
   "outputs": [
    {
     "name": "stdout",
     "output_type": "stream",
     "text": [
      "[0, 1, [3, 4]]\n",
      "[5, [3, 4], 2, 1, 3.4, 0, 1]\n"
     ]
    }
   ],
   "source": [
    "# Срезы\n",
    "\n",
    "c = [1, 0, 3.4, 1, 2, [3, 4], 5]\n",
    "\n",
    "# от элемента с индексом 1 до конца, через 2 элемента\n",
    "d = c[1::2]\n",
    "print(d)\n",
    "\n",
    "\n",
    "# от конца до начала в обратном порядке\n",
    "f = c[::-1]\n",
    "print(f)"
   ]
  },
  {
   "cell_type": "code",
   "execution_count": 75,
   "id": "3118e162",
   "metadata": {},
   "outputs": [
    {
     "name": "stdout",
     "output_type": "stream",
     "text": [
      "[100, 1, [3, 4]]\n",
      "[0, 1, [3, 4]]\n",
      "[100, 1, [-100, 4]]\n",
      "[0, 1, [-100, 4]]\n"
     ]
    }
   ],
   "source": [
    "# Копирование с помощью среза\n",
    "\n",
    "data = d[:]\n",
    "data[0] = 100\n",
    "print(data)\n",
    "print(d)\n",
    "\n",
    "data[2][0] = -100\n",
    "print(data)\n",
    "print(d)"
   ]
  },
  {
   "cell_type": "code",
   "execution_count": 82,
   "id": "80e36374",
   "metadata": {},
   "outputs": [
    {
     "name": "stdout",
     "output_type": "stream",
     "text": [
      "[1, 2, 3, 4, 5, 6, 7, 8, 9]\n",
      "[8, 2, 6, 4, 4, 6, 2, 8, 0]\n",
      "[8, 4, 6, 2, 8, 0]\n"
     ]
    }
   ],
   "source": [
    "# С помощью срезов можно менять список, если срез стоит в левой части выражения:\n",
    "\n",
    "a = [1, 2, 3, 4, 5, 6, 7, 8, 9]\n",
    "print(a)\n",
    "\n",
    "# изменили все элементы с начала до конца, с шагом 2\n",
    "a[::2] = [8, 6, 4, 2, 0]\n",
    "print(a)\n",
    "\n",
    "#убрали часть списка, начиная с элемента индекса 1 и до 4\n",
    "a[1:4] = []\n",
    "print(a)"
   ]
  },
  {
   "cell_type": "code",
   "execution_count": null,
   "id": "bc13bc43",
   "metadata": {},
   "outputs": [],
   "source": []
  },
  {
   "cell_type": "code",
   "execution_count": null,
   "id": "0d4156b9",
   "metadata": {},
   "outputs": [],
   "source": []
  },
  {
   "cell_type": "markdown",
   "id": "a57d538b",
   "metadata": {},
   "source": [
    "# Работа со списками\n"
   ]
  },
  {
   "cell_type": "markdown",
   "id": "f3802c4e",
   "metadata": {},
   "source": [
    "## count()"
   ]
  },
  {
   "cell_type": "code",
   "execution_count": 65,
   "id": "78d8c73d",
   "metadata": {},
   "outputs": [
    {
     "name": "stdout",
     "output_type": "stream",
     "text": [
      "2\n"
     ]
    }
   ],
   "source": [
    "# Подсчет количества элементов с заданным значением\n",
    "\n",
    "print(a.count(1))"
   ]
  },
  {
   "cell_type": "markdown",
   "id": "6ae618b5",
   "metadata": {},
   "source": [
    "## len()"
   ]
  },
  {
   "cell_type": "code",
   "execution_count": 84,
   "id": "e925ae7a",
   "metadata": {},
   "outputs": [
    {
     "name": "stdout",
     "output_type": "stream",
     "text": [
      "6\n"
     ]
    }
   ],
   "source": [
    "# Количество элементов в списке можно узнать с помощью функции len():\n",
    "print(len(a))\n"
   ]
  },
  {
   "cell_type": "markdown",
   "id": "dde89ca2",
   "metadata": {},
   "source": [
    "## append()"
   ]
  },
  {
   "cell_type": "code",
   "execution_count": 85,
   "id": "c043e16d",
   "metadata": {},
   "outputs": [
    {
     "name": "stdout",
     "output_type": "stream",
     "text": [
      "[8, 4, 6, 2, 8, 0, 100]\n"
     ]
    }
   ],
   "source": [
    "# Добавление элемента в конец списка\n",
    "\n",
    "a.append(100)\n",
    "print(a)"
   ]
  },
  {
   "cell_type": "markdown",
   "id": "247d92bb",
   "metadata": {},
   "source": [
    "## insert()"
   ]
  },
  {
   "cell_type": "code",
   "execution_count": 86,
   "id": "b0fbd6c0",
   "metadata": {},
   "outputs": [
    {
     "name": "stdout",
     "output_type": "stream",
     "text": [
      "[8, 4, 6, 200, 2, 8, 0, 100]\n"
     ]
    }
   ],
   "source": [
    "# Вставка объекта в определённую позицию\n",
    "\n",
    "a.insert(3, 200)\n",
    "print(a)"
   ]
  },
  {
   "cell_type": "markdown",
   "id": "436ddfe2",
   "metadata": {},
   "source": [
    "## Сложение списков"
   ]
  },
  {
   "cell_type": "code",
   "execution_count": 88,
   "id": "bd790b5c",
   "metadata": {},
   "outputs": [
    {
     "name": "stdout",
     "output_type": "stream",
     "text": [
      "[8, 4, 6, 200, 2, 8, 0, 100, 0, -1, -2]\n",
      "[0, -1, -2, 8, 4, 6, 200, 2, 8, 0, 100]\n"
     ]
    }
   ],
   "source": [
    "# Конкатенация списков\n",
    "# При сложении списков получаем новый список. \n",
    "# Даже если связать результирующий список со старой переменной, это будет уже новый объект.\n",
    "b = [0, -1, -2]\n",
    "c = a + b\n",
    "print(c)\n",
    "d = b + a\n",
    "print(d)"
   ]
  },
  {
   "cell_type": "code",
   "execution_count": 89,
   "id": "3da15f55",
   "metadata": {},
   "outputs": [
    {
     "name": "stdout",
     "output_type": "stream",
     "text": [
      "2054706947072\n",
      "2054707048128\n",
      "[1, 2, 3, 'a', 'b', 'c']\n",
      "2054707048128\n",
      "[1, 2, 3, 'a', 'b', 'c', 'abc']\n"
     ]
    }
   ],
   "source": [
    "a = [1, 2, 3]\n",
    "b = ['a', 'b', 'c']\n",
    "print(id(a))\n",
    "a = a + b\n",
    "print(id(a))\n",
    "print(a)\n",
    "a.append('abc')\n",
    "print(id(a))\n",
    "print(a)"
   ]
  },
  {
   "cell_type": "markdown",
   "id": "1608abbe",
   "metadata": {},
   "source": [
    "## Расширение списка, extend()"
   ]
  },
  {
   "cell_type": "code",
   "execution_count": 90,
   "id": "17396228",
   "metadata": {},
   "outputs": [
    {
     "name": "stdout",
     "output_type": "stream",
     "text": [
      "2054707048128\n",
      "[1, 2, 3, 'a', 'b', 'c', 'abc', 'a', 'b', 'c']\n"
     ]
    }
   ],
   "source": [
    "# Расширение одного списка другим\n",
    "\n",
    "a += b\n",
    "print(id(a))\n",
    "print(a)"
   ]
  },
  {
   "cell_type": "code",
   "execution_count": 91,
   "id": "224ca4da",
   "metadata": {},
   "outputs": [
    {
     "name": "stdout",
     "output_type": "stream",
     "text": [
      "2054707048128\n",
      "[1, 2, 3, 'a', 'b', 'c', 'abc', 'a', 'b', 'c', 'a', 'b', 'c']\n"
     ]
    }
   ],
   "source": [
    "# Другой вариант расширения одного списка другим\n",
    "\n",
    "a.extend(b)\n",
    "print(id(a))\n",
    "print(a)"
   ]
  },
  {
   "cell_type": "markdown",
   "id": "f48bdd47",
   "metadata": {},
   "source": [
    "## Умножение списка"
   ]
  },
  {
   "cell_type": "code",
   "execution_count": 92,
   "id": "a06676d9",
   "metadata": {},
   "outputs": [
    {
     "name": "stdout",
     "output_type": "stream",
     "text": [
      "[0, 0, 0, 0, 0, 0, 0, 0, 0, 0, 0, 0, 0, 0, 0, 0, 0, 0, 0, 0]\n"
     ]
    }
   ],
   "source": [
    "# Умножение списка на число\n",
    "\n",
    "d = [0] * 20\n",
    "print(d)"
   ]
  },
  {
   "cell_type": "markdown",
   "id": "0f4fd921",
   "metadata": {},
   "source": [
    "## clear()"
   ]
  },
  {
   "cell_type": "code",
   "execution_count": 93,
   "id": "80aaf62e",
   "metadata": {},
   "outputs": [
    {
     "name": "stdout",
     "output_type": "stream",
     "text": [
      "['a', 'b', 'c']\n",
      "2054706943232\n",
      "[]\n",
      "2054706943232\n"
     ]
    }
   ],
   "source": [
    "# Очистка списка\n",
    "\n",
    "print(b)\n",
    "print(id(b))\n",
    "b.clear()\n",
    "print(b)\n",
    "print(id(b))"
   ]
  },
  {
   "cell_type": "markdown",
   "id": "e41a8191",
   "metadata": {},
   "source": [
    "## Варианты удаления элементов списка. remove(), pop(), del()"
   ]
  },
  {
   "cell_type": "code",
   "execution_count": 94,
   "id": "f77b358f",
   "metadata": {},
   "outputs": [
    {
     "name": "stdout",
     "output_type": "stream",
     "text": [
      "[1, 2, 3, 'a', 'b', 'c', 'abc', 'a', 'b', 'c', 'a', 'b', 'c']\n",
      "[1, 2, 3, 'b', 'c', 'abc', 'a', 'b', 'c', 'a', 'b', 'c']\n"
     ]
    }
   ],
   "source": [
    "# Варианты удаления.\n",
    "# Удаление из списка первого элемента с данным значением.\n",
    "\n",
    "print(a)\n",
    "if 'a' in a:\n",
    "    a.remove('a')\n",
    "print(a)"
   ]
  },
  {
   "cell_type": "code",
   "execution_count": 95,
   "id": "e84bb5c2",
   "metadata": {},
   "outputs": [
    {
     "name": "stdout",
     "output_type": "stream",
     "text": [
      "c\n",
      "[1, 2, 3, 'b', 'c', 'abc', 'a', 'b', 'c', 'a', 'b']\n",
      "[1, 2, 'b', 'c', 'abc', 'a', 'b', 'c', 'a', 'b']\n"
     ]
    }
   ],
   "source": [
    "# Удаление элемента с i-ым номером и возврат этого значения. Если i не указано, \n",
    "# то удаляется последний элемент\n",
    "\n",
    "print(a.pop())\n",
    "print(a)\n",
    "a.pop(2)\n",
    "print(a)"
   ]
  },
  {
   "cell_type": "code",
   "execution_count": 96,
   "id": "27a22b86",
   "metadata": {},
   "outputs": [
    {
     "name": "stdout",
     "output_type": "stream",
     "text": [
      "[2, 'b', 'c', 'abc', 'a', 'b', 'c', 'a', 'b']\n",
      "['b', 'abc', 'b', 'a']\n"
     ]
    }
   ],
   "source": [
    "# Инструкция del\n",
    "# Удаляется не объект, а ссылка на него \n",
    "# (если на объект ссылаются откуда-то ещё, сам объект останется, если нет - будет собран сборщиком мусора).\n",
    "\n",
    "del a[0]\n",
    "print(a)\n",
    "del a[::2]\n",
    "print(a)"
   ]
  },
  {
   "cell_type": "code",
   "execution_count": 97,
   "id": "2a6aed24",
   "metadata": {},
   "outputs": [
    {
     "ename": "NameError",
     "evalue": "name 'a' is not defined",
     "output_type": "error",
     "traceback": [
      "\u001b[1;31m---------------------------------------------------------------------------\u001b[0m",
      "\u001b[1;31mNameError\u001b[0m                                 Traceback (most recent call last)",
      "Input \u001b[1;32mIn [97]\u001b[0m, in \u001b[0;36m<cell line: 2>\u001b[1;34m()\u001b[0m\n\u001b[0;32m      1\u001b[0m \u001b[38;5;28;01mdel\u001b[39;00m a\n\u001b[1;32m----> 2\u001b[0m \u001b[38;5;28mprint\u001b[39m(\u001b[43ma\u001b[49m)\n",
      "\u001b[1;31mNameError\u001b[0m: name 'a' is not defined"
     ]
    }
   ],
   "source": [
    "del a\n",
    "print(a)"
   ]
  },
  {
   "cell_type": "code",
   "execution_count": 98,
   "id": "69ed5fe8",
   "metadata": {},
   "outputs": [
    {
     "name": "stdout",
     "output_type": "stream",
     "text": [
      "[[1, 2, 3], [7, 8, 9]]\n",
      "[4, 5, 6]\n"
     ]
    }
   ],
   "source": [
    "row0 = [1, 2, 3]\n",
    "row1 = [4, 5, 6]\n",
    "row2 = [7, 8, 9]\n",
    "\n",
    "table = [row0, row1, row2]\n",
    "\n",
    "del table[1]\n",
    "\n",
    "print(table)\n",
    "print(row1)"
   ]
  },
  {
   "cell_type": "code",
   "execution_count": 99,
   "id": "2ddb99fe",
   "metadata": {},
   "outputs": [
    {
     "name": "stdout",
     "output_type": "stream",
     "text": [
      "[3, 4, 5]\n"
     ]
    }
   ],
   "source": [
    "# Удаление с помощью среза:\n",
    "\n",
    "my_list = [1, 2, 3, 4, 5]\n",
    "my_list[:2] = []    # или del my_list[:2]\n",
    "print(my_list) "
   ]
  },
  {
   "cell_type": "markdown",
   "id": "d3b5e976",
   "metadata": {},
   "source": [
    "## Разворот списка и сортировка"
   ]
  },
  {
   "cell_type": "code",
   "execution_count": 103,
   "id": "76c928a3",
   "metadata": {},
   "outputs": [
    {
     "name": "stdout",
     "output_type": "stream",
     "text": [
      "['t', 's', 'i', 'l']\n"
     ]
    }
   ],
   "source": [
    "# reverse() - разворачивает список\n",
    "var = ['l', 'i', 's', 't']\n",
    "var.reverse()\n",
    "print(var)\n",
    " "
   ]
  },
  {
   "cell_type": "code",
   "execution_count": 100,
   "id": "90ac84c5",
   "metadata": {},
   "outputs": [
    {
     "name": "stdout",
     "output_type": "stream",
     "text": [
      "None\n",
      "[0, 1, 2, 3, 4, 5, 6, 7, 8, 9]\n",
      "[9, 8, 7, 6, 5, 4, 3, 2, 1, 0]\n",
      "[0, 1, 2, 3, 4, 5, 6, 7, 8, 9]\n"
     ]
    }
   ],
   "source": [
    "# Сортировка списка list.sort([key=ключ сортировки],[reverse=False])\n",
    "\n",
    "a = [1, 2, 7, 9, 0, 3, 5, 4, 6, 8]\n",
    "a.sort()\n",
    "print(a.sort())\n",
    "print(a)\n",
    "a.sort(reverse=True)\n",
    "print(a)\n",
    "a.reverse()\n",
    "print(a)"
   ]
  },
  {
   "cell_type": "code",
   "execution_count": 101,
   "id": "96fda860",
   "metadata": {},
   "outputs": [
    {
     "name": "stdout",
     "output_type": "stream",
     "text": [
      "[1, 2, 7, 9, 0, 3, 5, 4, 6, 8]\n",
      "[0, 1, 2, 3, 4, 5, 6, 7, 8, 9]\n"
     ]
    }
   ],
   "source": [
    "a = [1, 2, 7, 9, 0, 3, 5, 4, 6, 8]\n",
    "b = sorted(a)\n",
    "print(a)\n",
    "print(b)"
   ]
  },
  {
   "cell_type": "code",
   "execution_count": 102,
   "id": "c70bfc04",
   "metadata": {},
   "outputs": [
    {
     "name": "stdout",
     "output_type": "stream",
     "text": [
      "['a', 'b', 'c', 'i', 'o', 'q', 'r', 't']\n"
     ]
    }
   ],
   "source": [
    "s = 'abcrtqio'\n",
    "b = sorted(s)\n",
    "print(b)"
   ]
  }
 ],
 "metadata": {
  "kernelspec": {
   "display_name": "Python 3 (ipykernel)",
   "language": "python",
   "name": "python3"
  },
  "language_info": {
   "codemirror_mode": {
    "name": "ipython",
    "version": 3
   },
   "file_extension": ".py",
   "mimetype": "text/x-python",
   "name": "python",
   "nbconvert_exporter": "python",
   "pygments_lexer": "ipython3",
   "version": "3.9.12"
  },
  "toc": {
   "base_numbering": 1,
   "nav_menu": {},
   "number_sections": true,
   "sideBar": true,
   "skip_h1_title": false,
   "title_cell": "Table of Contents",
   "title_sidebar": "Contents",
   "toc_cell": true,
   "toc_position": {},
   "toc_section_display": true,
   "toc_window_display": false
  }
 },
 "nbformat": 4,
 "nbformat_minor": 5
}
