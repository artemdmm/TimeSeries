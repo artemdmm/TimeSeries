{
 "cells": [
  {
   "cell_type": "markdown",
   "id": "579b408b",
   "metadata": {
    "toc": true
   },
   "source": [
    "<h1>Table of Contents<span class=\"tocSkip\"></span></h1>\n",
    "<div class=\"toc\"><ul class=\"toc-item\"><li><span><a href=\"#Кортежи--tuple\" data-toc-modified-id=\"Кортежи--tuple-1\"><span class=\"toc-item-num\">1&nbsp;&nbsp;</span>Кортежи  tuple</a></span><ul class=\"toc-item\"><li><span><a href=\"#Определение\" data-toc-modified-id=\"Определение-1.1\"><span class=\"toc-item-num\">1.1&nbsp;&nbsp;</span>Определение</a></span></li><li><span><a href=\"#Методы-для-работы-с-кортежами\" data-toc-modified-id=\"Методы-для-работы-с-кортежами-1.2\"><span class=\"toc-item-num\">1.2&nbsp;&nbsp;</span>Методы для работы с кортежами</a></span></li></ul></li><li><span><a href=\"#Множества-Set\" data-toc-modified-id=\"Множества-Set-2\"><span class=\"toc-item-num\">2&nbsp;&nbsp;</span>Множества Set</a></span><ul class=\"toc-item\"><li><span><a href=\"#Определение\" data-toc-modified-id=\"Определение-2.1\"><span class=\"toc-item-num\">2.1&nbsp;&nbsp;</span>Определение</a></span></li><li><span><a href=\"#Методы-для-работы-со-множествами\" data-toc-modified-id=\"Методы-для-работы-со-множествами-2.2\"><span class=\"toc-item-num\">2.2&nbsp;&nbsp;</span>Методы для работы со множествами</a></span></li></ul></li><li><span><a href=\"#Frozenset\" data-toc-modified-id=\"Frozenset-3\"><span class=\"toc-item-num\">3&nbsp;&nbsp;</span>Frozenset</a></span></li></ul></div>"
   ]
  },
  {
   "cell_type": "markdown",
   "id": "8c9c6e15",
   "metadata": {},
   "source": [
    "# Кортежи  tuple\n",
    "\n",
    "## Определение\n",
    "\n",
    "Как говорилось ранее, кортежи это неизменяемые списки. Их удобно использовать для защиты данных, которые не должны быть изменены. Создать кортеж можно следующим образом:"
   ]
  },
  {
   "cell_type": "code",
   "execution_count": 1,
   "id": "810ff323",
   "metadata": {},
   "outputs": [
    {
     "name": "stdout",
     "output_type": "stream",
     "text": [
      "(1, 2, 3, 4, 5, 6)\n"
     ]
    }
   ],
   "source": [
    "a = (1, 2, 3, 4, 5, 6)\n",
    "print(a)"
   ]
  },
  {
   "cell_type": "markdown",
   "id": "a170f941",
   "metadata": {},
   "source": [
    "Чтобы создать пустой кортеж, необходимо применить метод tuple():"
   ]
  },
  {
   "cell_type": "code",
   "execution_count": 3,
   "id": "165e5dbb",
   "metadata": {},
   "outputs": [
    {
     "name": "stdout",
     "output_type": "stream",
     "text": [
      "()\n"
     ]
    }
   ],
   "source": [
    "a = tuple()\n",
    "print(a)"
   ]
  },
  {
   "cell_type": "markdown",
   "id": "b771c10d",
   "metadata": {},
   "source": [
    "Если вам нужен кортеж из одного элемента, то он создается следующим образом:"
   ]
  },
  {
   "cell_type": "code",
   "execution_count": 4,
   "id": "83b31229",
   "metadata": {},
   "outputs": [
    {
     "name": "stdout",
     "output_type": "stream",
     "text": [
      "(1,)\n"
     ]
    }
   ],
   "source": [
    "a = (1,)\n",
    "print(a)"
   ]
  },
  {
   "cell_type": "markdown",
   "id": "7390d641",
   "metadata": {},
   "source": [
    "Если не указать на конце запятую, тогда мы получим не кортеж, а элемент того типа, который мы указали:"
   ]
  },
  {
   "cell_type": "code",
   "execution_count": 5,
   "id": "e3f0d77f",
   "metadata": {},
   "outputs": [
    {
     "name": "stdout",
     "output_type": "stream",
     "text": [
      "1\n"
     ]
    }
   ],
   "source": [
    "a = (1)\n",
    "print(a)"
   ]
  },
  {
   "cell_type": "markdown",
   "id": "151932f1",
   "metadata": {},
   "source": [
    "Кстати, необязательно даже указывать скобки, кортеж можно создать и без них:"
   ]
  },
  {
   "cell_type": "code",
   "execution_count": 6,
   "id": "4b305631",
   "metadata": {},
   "outputs": [
    {
     "name": "stdout",
     "output_type": "stream",
     "text": [
      "(1, 2, 3, 4)\n"
     ]
    }
   ],
   "source": [
    "a = 1, 2, 3, 4\n",
    "print(a)"
   ]
  },
  {
   "cell_type": "markdown",
   "id": "2c0e4292",
   "metadata": {},
   "source": [
    "## Методы для работы с кортежами\n",
    "\n",
    "**Над кортежами работают все операции, работающие со списками, которые не вносят изменения в список.**"
   ]
  },
  {
   "cell_type": "code",
   "execution_count": 8,
   "id": "caafd074",
   "metadata": {},
   "outputs": [
    {
     "name": "stdout",
     "output_type": "stream",
     "text": [
      "2\n"
     ]
    }
   ],
   "source": [
    "print(a[1])"
   ]
  },
  {
   "cell_type": "code",
   "execution_count": 9,
   "id": "ee6f8c33",
   "metadata": {},
   "outputs": [
    {
     "ename": "TypeError",
     "evalue": "'tuple' object does not support item assignment",
     "output_type": "error",
     "traceback": [
      "\u001b[1;31m---------------------------------------------------------------------------\u001b[0m",
      "\u001b[1;31mTypeError\u001b[0m                                 Traceback (most recent call last)",
      "Input \u001b[1;32mIn [9]\u001b[0m, in \u001b[0;36m<cell line: 1>\u001b[1;34m()\u001b[0m\n\u001b[1;32m----> 1\u001b[0m a[\u001b[38;5;241m1\u001b[39m] \u001b[38;5;241m=\u001b[39m \u001b[38;5;241m3\u001b[39m\n\u001b[0;32m      2\u001b[0m \u001b[38;5;28mprint\u001b[39m(a)\n",
      "\u001b[1;31mTypeError\u001b[0m: 'tuple' object does not support item assignment"
     ]
    }
   ],
   "source": [
    "a[1] = 3\n",
    "print(a)"
   ]
  },
  {
   "cell_type": "markdown",
   "id": "f3140676",
   "metadata": {},
   "source": [
    "# Множества Set\n",
    "## Определение"
   ]
  },
  {
   "cell_type": "markdown",
   "id": "2c9f4866",
   "metadata": {},
   "source": [
    "Множества содержат **неповторяющиеся** данные **в произвольном порядке**. \n",
    "\n",
    "Все встроенные ***неизменяемые*** типы данных, такие как float, frozenset, int, str и tuple могут добавляться во множества. \n",
    "\n",
    "Встроенные ***изменяемые*** типы данных, такие как dict, list и set не могут добавляться в множества.\n",
    "\n",
    "\n",
    "\n",
    "Создадим множество несколькими способами:"
   ]
  },
  {
   "cell_type": "code",
   "execution_count": 10,
   "id": "401a4969",
   "metadata": {},
   "outputs": [
    {
     "name": "stdout",
     "output_type": "stream",
     "text": [
      "set()\n"
     ]
    }
   ],
   "source": [
    "a = set()\n",
    "print(a)"
   ]
  },
  {
   "cell_type": "code",
   "execution_count": 12,
   "id": "96bef091",
   "metadata": {},
   "outputs": [
    {
     "name": "stdout",
     "output_type": "stream",
     "text": [
      "{'h', 'o', 'l', 'e'}\n"
     ]
    }
   ],
   "source": [
    "# Из повторяющихся символов в множество будет записан только один.\n",
    "\n",
    "a = set('hello')\n",
    "print(a)"
   ]
  },
  {
   "cell_type": "code",
   "execution_count": 13,
   "id": "306251a0",
   "metadata": {},
   "outputs": [
    {
     "name": "stdout",
     "output_type": "stream",
     "text": [
      "{'a', 'b', 'c', 'd'}\n"
     ]
    }
   ],
   "source": [
    "a = {'a', 'b', 'c', 'd'}\n",
    "print(a)"
   ]
  },
  {
   "cell_type": "code",
   "execution_count": 14,
   "id": "048a21dd",
   "metadata": {},
   "outputs": [
    {
     "name": "stdout",
     "output_type": "stream",
     "text": [
      "{0, 1, 64, 4, 36, 9, 16, 49, 81, 25}\n"
     ]
    }
   ],
   "source": [
    "a = {i ** 2 for i in range(10)}\n",
    "print(a)"
   ]
  },
  {
   "cell_type": "markdown",
   "id": "9064f3a2",
   "metadata": {},
   "source": [
    "Множества удобно использовать для удаления повторяющихся элементов:"
   ]
  },
  {
   "cell_type": "code",
   "execution_count": 15,
   "id": "7932757b",
   "metadata": {},
   "outputs": [
    {
     "name": "stdout",
     "output_type": "stream",
     "text": [
      "{'mum', 'daddy', 'hello'}\n"
     ]
    }
   ],
   "source": [
    "words = ['hello', 'daddy', 'hello', 'mum']\n",
    "w = set(words)\n",
    "print(w)"
   ]
  },
  {
   "cell_type": "markdown",
   "id": "e9c7625d",
   "metadata": {},
   "source": [
    "## Методы для работы со множествами"
   ]
  },
  {
   "cell_type": "markdown",
   "id": "3c0c0344",
   "metadata": {},
   "source": [
    "Методы множеств, в основном, вызываются по схеме: set.method(). \n",
    "\n",
    "Ниже будут перечислены полезные методы для работы с множествами.\n",
    "\n",
    "**Методы, НЕ вносящие изменения в множество**\n",
    "\n",
    "- **len(s)** - число элементов в множестве (размер множества)\n",
    "\n",
    "- **x in s** - принадлежит ли x множеству s\n",
    "\n",
    "- **isdisjoint(other)** - истина, если set и other не имеют общих элементов\n",
    "\n",
    "- **issubset(other)** или **set <= other** - истина, если все элементы set принадлежат other\n",
    "\n",
    "- **issuperset(other)** или **set >= other** - истина, если все элементы other принадлежат set\n",
    "\n",
    "- **union(other, ...)** или **set | other | ...** - возвращает объединение нескольких множеств\n",
    "\n",
    "- **intersection(other, ...)** или **set & other & ...** - возвращает пересечение множеств\n",
    "\n",
    "- **difference(other, ...)** или **set - other - ...** -возвращает множество из всех элементов set, не принадлежащие ни одному из other\n",
    "\n",
    "- **symmetric_difference(other)** или **set ^ other** - возвращает новое множество, включающее все элементы, присутствующие в множествах set и other, за исключением элементов, присутствующих в обоих множествах одновременно\n",
    "\n",
    "- **copy()** - копия множества\n",
    "\n",
    "**Методы, вносящие изменения в множество**\n",
    "\n",
    "- **update(other, ...)** или **set |= other | ...** - объединение множеств. Метод, вносящий изменения в множество\n",
    "\n",
    "\n",
    "- **intersection_update(other, ...)** или **set &= other & ...** - пересечение множеств. Метод, вносящий изменения в множество\n",
    "\n",
    "\n",
    "- **difference_update(other, ...)** или **set -= other | ...** - вычитание множеств. Метод, вносящий изменения в множество\n",
    "\n",
    "- **symmetric_difference_update(other)** или **set ^= other** - множество из элементов, встречающихся в одном множестве, но не встречающиеся в обоих. Метод, вносящий изменения в множество\n",
    "\n",
    "- **add(elem)** - добавляет элемент в множество. Метод, вносящий изменения в множество\n",
    "\n",
    "- **remove(elem)** - удаляет элемент из множества. KeyError, если такого элемента не существует. Метод, вносящий изменения в множество\n",
    "\n",
    "- **discard(elem)** - удаляет элемент, если он находится в множестве. Метод, вносящий изменения в множество\n",
    "\n",
    "- **pop()** - удаляет первый элемент из множества. Так как множества не упорядочены, нельзя точно сказать, какой элемент будет первым. Метод, вносящий изменения в множество\n",
    "\n",
    "- **clear()** - очистка множества. Метод, вносящий изменения в множество"
   ]
  },
  {
   "cell_type": "markdown",
   "id": "3f83509f",
   "metadata": {},
   "source": [
    "**Методы, НЕ вносящие изменения в множество**"
   ]
  },
  {
   "cell_type": "code",
   "execution_count": 16,
   "id": "e1b2c73f",
   "metadata": {},
   "outputs": [
    {
     "name": "stdout",
     "output_type": "stream",
     "text": [
      "{'язык', 'awesome', 'Питон', 'программирования', 'и', 'hello', '!', 'is', 'удобный', 'простой', 'Python'}\n"
     ]
    }
   ],
   "source": [
    "words = ['hello', 'Python', 'is', 'awesome', '!', 'Питон', 'удобный', 'и', 'простой', 'язык', 'программирования' ]\n",
    "w = set(words)\n",
    "print(w)"
   ]
  },
  {
   "cell_type": "code",
   "execution_count": 17,
   "id": "deb6dd2f",
   "metadata": {},
   "outputs": [
    {
     "name": "stdout",
     "output_type": "stream",
     "text": [
      "11\n"
     ]
    }
   ],
   "source": [
    "# len(s) - число элементов в множестве (размер множества)\n",
    "\n",
    "print (len(w))"
   ]
  },
  {
   "cell_type": "code",
   "execution_count": 20,
   "id": "2a1ceb02",
   "metadata": {},
   "outputs": [
    {
     "name": "stdout",
     "output_type": "stream",
     "text": [
      "is Python in w? True\n",
      "is Питончик in w? False\n"
     ]
    }
   ],
   "source": [
    "# x in s - принадлежит ли x множеству s\n",
    "\n",
    "print(f\"is Python in w? {'Python' in w}\")\n",
    "print(f\"is Питончик in w? {'Питончик' in w}\")\n"
   ]
  },
  {
   "cell_type": "code",
   "execution_count": 23,
   "id": "e04e4413",
   "metadata": {},
   "outputs": [
    {
     "name": "stdout",
     "output_type": "stream",
     "text": [
      "множество a = {'mum', 'daddy', 'hello'}\n",
      "множество b = {'daddy', 'mum'}\n",
      "множество w = {'язык', 'awesome', 'Питон', 'программирования', 'и', 'hello', '!', 'is', 'удобный', 'простой', 'Python'}\n",
      "множество a и w множество НЕ имеют общих элементов = False\n",
      "множество b и w множество НЕ имеют общих элементов = True\n"
     ]
    }
   ],
   "source": [
    "# isdisjoint(other) - истина, если set и other не имеют общих элементов\n",
    "a = {'hello', 'daddy', 'mum'}\n",
    "b = {'daddy', 'mum'}\n",
    "\n",
    "print (f\"множество a = {a}\")\n",
    "print (f\"множество b = {b}\")\n",
    "print (f\"множество w = {w}\")\n",
    "\n",
    "print(f\"множество a и w множество НЕ имеют общих элементов = {w.isdisjoint(a)}\")\n",
    "print(f\"множество b и w множество НЕ имеют общих элементов = {w.isdisjoint(b)}\")\n",
    "\n"
   ]
  },
  {
   "cell_type": "code",
   "execution_count": 32,
   "id": "51a7c17f",
   "metadata": {},
   "outputs": [
    {
     "name": "stdout",
     "output_type": "stream",
     "text": [
      "множество a = {'mum', 'daddy', 'hello'}\n",
      "множество b = {'hello', 'Python'}\n",
      "множество w = {'язык', 'awesome', 'Питон', 'программирования', 'и', 'hello', '!', 'is', 'удобный', 'простой', 'Python'}\n",
      "все элементы a содержатся в  w = False\n",
      "все элементы b содержатся в  w = True\n",
      "все элементы a содержатся в  w = False\n",
      "все элементы b содержатся в  w = True\n"
     ]
    }
   ],
   "source": [
    "# issubset(other) или set <= other - истина, если все элементы set принадлежат other\n",
    " \n",
    "a = {'hello', 'daddy', 'mum'}\n",
    "b = {'hello', 'Python'}\n",
    "\n",
    "print (f\"множество a = {a}\")\n",
    "print (f\"множество b = {b}\")\n",
    "print (f\"множество w = {w}\")\n",
    "\n",
    "print(f\"все элементы a содержатся в  w = {a.issubset(w)}\")\n",
    "print(f\"все элементы b содержатся в  w = {b.issubset(w)}\")\n",
    "\n",
    "\n",
    "print(f\"все элементы a содержатся в  w = {a <= w}\")\n",
    "print(f\"все элементы b содержатся в  w = {b <= w}\")\n",
    "\n"
   ]
  },
  {
   "cell_type": "code",
   "execution_count": 36,
   "id": "36ece72e",
   "metadata": {},
   "outputs": [
    {
     "name": "stdout",
     "output_type": "stream",
     "text": [
      "множество a = {'mum', 'daddy', 'hello'}\n",
      "множество b = {'hello', 'Python'}\n",
      "множество w = {'язык', 'awesome', 'Питон', 'программирования', 'и', 'hello', '!', 'is', 'удобный', 'простой', 'Python'}\n",
      "все элементы a содержатся в  w = False\n",
      "все элементы b содержатся в  w = True\n",
      "все элементы a содержатся в  w = False\n",
      "все элементы b содержатся в  w = True\n"
     ]
    }
   ],
   "source": [
    "# issuperset(other) или set >= other -  истина, если все элементы other принадлежат set\n",
    "\n",
    "a = {'hello', 'daddy', 'mum'}\n",
    "b = {'hello', 'Python'}\n",
    "\n",
    "print (f\"множество a = {a}\")\n",
    "print (f\"множество b = {b}\")\n",
    "print (f\"множество w = {w}\")\n",
    "\n",
    "print(f\"все элементы a содержатся в  w = {w.issuperset(a)}\")\n",
    "print(f\"все элементы b содержатся в  w = {w.issuperset(b)}\")\n",
    "\n",
    "\n",
    "print(f\"все элементы a содержатся в  w = {w >= a}\")\n",
    "print(f\"все элементы b содержатся в  w = {w >= b}\")\n",
    "\n"
   ]
  },
  {
   "cell_type": "code",
   "execution_count": 39,
   "id": "2a423881",
   "metadata": {},
   "outputs": [
    {
     "name": "stdout",
     "output_type": "stream",
     "text": [
      "множество a = {'mum', 'daddy', 'hello'}\n",
      "множество b = {'hello', 'Python'}\n",
      "множество w = {'язык', 'awesome', 'Питон', 'программирования', 'и', 'hello', '!', 'is', 'удобный', 'простой', 'Python'}\n",
      "\n",
      "множество w.union(a, b) = \n",
      " {'язык', 'awesome', 'Питон', 'программирования', 'и', 'hello', '!', 'daddy', 'is', 'удобный', 'простой', 'mum', 'Python'}\n",
      "\n",
      "множество w.union(a) = \n",
      " {'язык', 'awesome', 'Питон', 'программирования', 'и', 'hello', '!', 'daddy', 'is', 'удобный', 'простой', 'mum', 'Python'}\n",
      "\n",
      "множество w | a =  \n",
      " {'язык', 'awesome', 'Питон', 'программирования', 'и', 'hello', '!', 'daddy', 'is', 'удобный', 'простой', 'mum', 'Python'}\n",
      "\n",
      "множество w | a | b = \n",
      " {'язык', 'awesome', 'Питон', 'программирования', 'и', 'hello', '!', 'daddy', 'is', 'удобный', 'простой', 'mum', 'Python'}\n"
     ]
    }
   ],
   "source": [
    "# union(other, ...) или set | other | ... - возвращает объединение нескольких множеств\n",
    "\n",
    "new_set_1 = w.union(a, b)\n",
    "new_set_2 = w.union(a)\n",
    "new_set_3 = w | a\n",
    "new_set_4 = w | a | b\n",
    "\n",
    "print (f\"множество a = {a}\")\n",
    "print (f\"множество b = {b}\")\n",
    "print (f\"множество w = {w}\")\n",
    "\n",
    "\n",
    "\n",
    "print (f\"\\nмножество w.union(a, b) = \\n {new_set_1}\")\n",
    "print (f\"\\nмножество w.union(a) = \\n {new_set_2}\")\n",
    "print (f\"\\nмножество w | a =  \\n {new_set_3}\")\n",
    "print (f\"\\nмножество w | a | b = \\n {new_set_4}\")\n",
    "\n"
   ]
  },
  {
   "cell_type": "code",
   "execution_count": 45,
   "id": "65da91f6",
   "metadata": {},
   "outputs": [
    {
     "name": "stdout",
     "output_type": "stream",
     "text": [
      "\n",
      " пересечение множество w и new_set_1 \n",
      " {'язык', 'awesome', 'Питон', 'программирования', 'и', 'hello', '!', 'is', 'удобный', 'простой', 'Python'}\n",
      "\n",
      " пересечение множество w и a \n",
      " {'hello'}\n"
     ]
    }
   ],
   "source": [
    "# intersection(other, ...) или set & other & ... - возвращает пересечение множеств (общие элементы)\n",
    "\n",
    "print (f\"\\n пересечение множество w и new_set_1 \\n {w & new_set_1}\")\n",
    "print (f\"\\n пересечение множество w и a \\n {w.intersection(a)}\")\n"
   ]
  },
  {
   "cell_type": "code",
   "execution_count": 50,
   "id": "6b16ef47",
   "metadata": {},
   "outputs": [
    {
     "name": "stdout",
     "output_type": "stream",
     "text": [
      "множество a = {'mum', 'daddy', 'hello'}\n",
      "множество b = {'hello', 'Python'}\n",
      "множество w = {'язык', 'awesome', 'Питон', 'программирования', 'и', 'hello', '!', 'is', 'удобный', 'простой', 'Python'}\n",
      "\n",
      " элементы множества w, которые не входят в a \n",
      " {'язык', 'awesome', 'Питон', 'программирования', 'и', '!', 'is', 'удобный', 'простой', 'Python'}\n",
      "\n",
      " элементы множества a, которые не входят в w \n",
      " {'daddy', 'mum'}\n",
      "\n",
      " элементы множества w, которые не входят в b \n",
      " {'язык', 'awesome', 'Питон', 'программирования', 'и', '!', 'is', 'удобный', 'простой'}\n",
      "\n",
      " элементы множества b, которые не входят в w \n",
      " set()\n"
     ]
    }
   ],
   "source": [
    "# difference(other, ...) или set - other - ... -возвращает множество из всех элементов set, не принадлежащие ни одному из other\n",
    "\n",
    "print (f\"множество a = {a}\")\n",
    "print (f\"множество b = {b}\")\n",
    "print (f\"множество w = {w}\")\n",
    "\n",
    "\n",
    "print (f\"\\n элементы множества w, которые не входят в a \\n {w.difference(a)}\")\n",
    "\n",
    "print (f\"\\n элементы множества a, которые не входят в w \\n {a.difference(w)}\")\n",
    "\n",
    "\n",
    "print (f\"\\n элементы множества w, которые не входят в b \\n {w - b}\")\n",
    "\n",
    "print (f\"\\n элементы множества b, которые не входят в w \\n {b - w}\")"
   ]
  },
  {
   "cell_type": "code",
   "execution_count": 5,
   "id": "8fd828f7",
   "metadata": {},
   "outputs": [
    {
     "name": "stdout",
     "output_type": "stream",
     "text": [
      "множество a = {'number', 'hello', 'awesome'}\n",
      "множество b = {'Python', 'программирования'}\n",
      "множество w = {'awesome', 'Питон', 'язык', 'hello', 'программирования', 'и'}\n",
      "\n",
      "  w.symmetric_difference(a) \n",
      " {'number', 'Питон', 'язык', 'программирования', 'и'}\n",
      "\n",
      " a.symmetric_difference(w) \n",
      " {'number', 'Питон', 'язык', 'программирования', 'и'}\n",
      "\n",
      " w ^ b \n",
      " {'Питон', 'awesome', 'язык', 'Python', 'hello', 'и'}\n",
      "\n",
      " b ^ w \n",
      " {'awesome', 'Питон', 'язык', 'Python', 'hello', 'и'}\n"
     ]
    }
   ],
   "source": [
    "# symmetric_difference(other) или set ^ other - \n",
    "# возвращает новое множество, включающее все элементы, присутствующие в множествах set и other,\n",
    "# за исключением элементов, присутствующих в обоих множествах одновременно\n",
    "\n",
    "a = {'number', 'awesome', 'hello'}\n",
    "b = {'Python', 'программирования'}\n",
    "w = {'язык', 'awesome', 'Питон', 'программирования', 'и', 'hello'}\n",
    "\n",
    "print (f\"множество a = {a}\")\n",
    "print (f\"множество b = {b}\")\n",
    "print (f\"множество w = {w}\")\n",
    "\n",
    "\n",
    "print (f\"\\n  w.symmetric_difference(a) \\n {w.symmetric_difference(a)}\")\n",
    "\n",
    "print (f\"\\n a.symmetric_difference(w) \\n {a.symmetric_difference(w)}\")\n",
    "\n",
    "\n",
    "print (f\"\\n w ^ b \\n {w ^ b}\")\n",
    "\n",
    "print (f\"\\n b ^ w \\n {b ^ w}\")\n"
   ]
  },
  {
   "cell_type": "code",
   "execution_count": 6,
   "id": "14dd698f",
   "metadata": {},
   "outputs": [
    {
     "name": "stdout",
     "output_type": "stream",
     "text": [
      "{'a', 'd', 'c', 'b'}\n"
     ]
    }
   ],
   "source": [
    "# copy() - копия множества\n",
    "a = {'a', 'b', 'c', 'd'}\n",
    "d = a.copy()\n",
    "\n",
    "print(d)"
   ]
  },
  {
   "cell_type": "markdown",
   "id": "dfb13cb9",
   "metadata": {},
   "source": [
    "**Методы, вносящие изменения в множество**"
   ]
  },
  {
   "cell_type": "code",
   "execution_count": 15,
   "id": "338a171a",
   "metadata": {},
   "outputs": [
    {
     "name": "stdout",
     "output_type": "stream",
     "text": [
      "{'z', 'w', 'a', 'd', 'c', 'b'}\n",
      "{'a', 'd', 'c', 'b'}\n",
      "множество а не изменилось, так как множество содержит только уникальные значения, \n",
      "и множество d - полная копия а:\n",
      "  {'w', 'b', 'z', 'a', 'd', 'c'}\n",
      "множество а изменилось:\n",
      " {'w', 1, 2, 3, 'b', 'z', 'a', 'd', 'c'}\n"
     ]
    }
   ],
   "source": [
    "# update(other, ...) или set |= other | ... - объединение множеств. Метод, вносящий изменения в множество\n",
    "\n",
    "a = {'a', 'b', 'c', 'd'}\n",
    "\n",
    "a.update({'w','z'})\n",
    "print(a)\n",
    "\n",
    "\n",
    "\n",
    "a.update(d)\n",
    "print(d)\n",
    "print(f\"множество а не изменилось, так как множество содержит только уникальные значения, \\nи множество d - полная копия а:\\n  {a}\")\n",
    "\n",
    "\n",
    "c = {1, 2, 3}\n",
    "a.update(c)\n",
    "print(f\"множество а изменилось:\\n {a}\")\n"
   ]
  },
  {
   "cell_type": "code",
   "execution_count": 16,
   "id": "b43ebdc1",
   "metadata": {},
   "outputs": [
    {
     "name": "stdout",
     "output_type": "stream",
     "text": [
      "{'a', 'd'}\n"
     ]
    }
   ],
   "source": [
    "# intersection_update(other, ...) или set &= other & ... - пересечение множеств. Метод, вносящий изменения в множество\n",
    "\n",
    "\n",
    "a = {'a', 'b', 'c', 'd'}\n",
    "a.intersection_update({'a','d'})\n",
    "\n",
    "print(a)\n"
   ]
  },
  {
   "cell_type": "code",
   "execution_count": 17,
   "id": "5f5426de",
   "metadata": {},
   "outputs": [
    {
     "name": "stdout",
     "output_type": "stream",
     "text": [
      "{'c', 'b'}\n"
     ]
    }
   ],
   "source": [
    "# difference_update(other, ...) или set -= other | ... - вычитание множеств. Метод, вносящий изменения в множество\n",
    "\n",
    "a = {'a', 'b', 'c', 'd'}\n",
    "a.difference_update({'a','d'})\n",
    "print(a)\n",
    "\n"
   ]
  },
  {
   "cell_type": "code",
   "execution_count": 18,
   "id": "e4b93311",
   "metadata": {},
   "outputs": [
    {
     "name": "stdout",
     "output_type": "stream",
     "text": [
      "{'d', 'c'}\n"
     ]
    }
   ],
   "source": [
    "# symmetric_difference_update(other) или set ^= other - обновляет множество set, записывая все элементы, \n",
    "# присутствующие в множествах set и other,\n",
    "# за исключением элементов, присутствующих в обоих множествах одновременно\n",
    "\n",
    "a = {'a', 'b', 'c', 'd'}\n",
    "a.symmetric_difference_update({'a','b'})\n",
    "print(a)\n"
   ]
  },
  {
   "cell_type": "code",
   "execution_count": 19,
   "id": "1bfd4ed3",
   "metadata": {},
   "outputs": [
    {
     "name": "stdout",
     "output_type": "stream",
     "text": [
      "{'b', 'r', 'a', 'd', 'c'}\n"
     ]
    }
   ],
   "source": [
    "# add(elem) - добавляет элемент в множество. Метод, вносящий изменения в множество\n",
    "\n",
    "a = {'a', 'b', 'c', 'd'}\n",
    "a.add('r')\n",
    "print(a)\n",
    "\n"
   ]
  },
  {
   "cell_type": "code",
   "execution_count": 20,
   "id": "5f534186",
   "metadata": {},
   "outputs": [
    {
     "name": "stdout",
     "output_type": "stream",
     "text": [
      "{'a', 'd', 'c'}\n"
     ]
    }
   ],
   "source": [
    "# remove(elem) - удаляет элемент из множества. \n",
    "# KeyError, если такого элемента не существует. Метод, вносящий изменения в множество\n",
    "\n",
    "a = {'a', 'b', 'c', 'd'}\n",
    "a.remove('b')\n",
    "print(a)"
   ]
  },
  {
   "cell_type": "code",
   "execution_count": 21,
   "id": "0045f97f",
   "metadata": {},
   "outputs": [
    {
     "name": "stdout",
     "output_type": "stream",
     "text": [
      "{'a', 'd', 'b'}\n"
     ]
    }
   ],
   "source": [
    "# discard(elem) - удаляет элемент, если он находится в множестве. Метод, вносящий изменения в множество\n",
    "\n",
    "a = {'a', 'b', 'c', 'd'}\n",
    "a.discard('c')\n",
    "print(a)\n",
    "\n"
   ]
  },
  {
   "cell_type": "code",
   "execution_count": 23,
   "id": "06b44b68",
   "metadata": {},
   "outputs": [
    {
     "name": "stdout",
     "output_type": "stream",
     "text": [
      "a\n",
      "{'d', 'c', 'b'}\n"
     ]
    }
   ],
   "source": [
    "# pop() - удаляет первый элемент из множества. Так как множества не упорядочены, нельзя точно сказать, \n",
    "# какой элемент будет первым. Метод, вносящий изменения в множество\n",
    "\n",
    "a = {'a', 'b', 'c', 'd'}\n",
    "с = a.pop()\n",
    "\n",
    "print(с)\n",
    "print(a)"
   ]
  },
  {
   "cell_type": "code",
   "execution_count": 24,
   "id": "928377db",
   "metadata": {},
   "outputs": [
    {
     "name": "stdout",
     "output_type": "stream",
     "text": [
      "set()\n"
     ]
    }
   ],
   "source": [
    "# clear() - очистка множества. Метод, вносящий изменения в множество\n",
    "\n",
    "a = {'a', 'b', 'c', 'd'}\n",
    "a.clear()\n",
    "print(a)\n",
    "\n"
   ]
  },
  {
   "cell_type": "markdown",
   "id": "c73db48f",
   "metadata": {},
   "source": [
    "# Frozenset\n",
    "\n",
    "**frozenset**\n",
    "единственное отличие от set заключается в том, что frozenset не меняется, соответственно, к frozenset можно применить только те методы, которые не меняют множество."
   ]
  }
 ],
 "metadata": {
  "kernelspec": {
   "display_name": "Python 3 (ipykernel)",
   "language": "python",
   "name": "python3"
  },
  "language_info": {
   "codemirror_mode": {
    "name": "ipython",
    "version": 3
   },
   "file_extension": ".py",
   "mimetype": "text/x-python",
   "name": "python",
   "nbconvert_exporter": "python",
   "pygments_lexer": "ipython3",
   "version": "3.9.12"
  },
  "toc": {
   "base_numbering": 1,
   "nav_menu": {},
   "number_sections": true,
   "sideBar": true,
   "skip_h1_title": false,
   "title_cell": "Table of Contents",
   "title_sidebar": "Contents",
   "toc_cell": true,
   "toc_position": {},
   "toc_section_display": true,
   "toc_window_display": false
  }
 },
 "nbformat": 4,
 "nbformat_minor": 5
}
