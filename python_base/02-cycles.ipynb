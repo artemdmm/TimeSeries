{
 "cells": [
  {
   "cell_type": "markdown",
   "id": "915f5cc9",
   "metadata": {},
   "source": [
    "# Циклы\n",
    "\n",
    "**Циклы** это специальные выражения, которые позволяют выполнять часть кода несколько раз, если оно того требует. Циклы очень полезны в программировании, поскольку это позволяет не прописывать вручную одну и ту же операцию несколько раз. Допустим нам надо вывести на экран 13 чисел от 1 до 13, как бы это выглядело без циклов:"
   ]
  },
  {
   "cell_type": "code",
   "execution_count": null,
   "id": "1e859782",
   "metadata": {},
   "outputs": [],
   "source": [
    "print(1)\n",
    "print(2)\n",
    "print(3)\n",
    "print(4)\n",
    "print(5)\n",
    "print(6)\n",
    "print(7)\n",
    "print(8)\n",
    "print(9)\n",
    "print(10)\n",
    "print(11)\n",
    "print(12)\n",
    "print(13)"
   ]
  },
  {
   "cell_type": "markdown",
   "id": "a0881e50",
   "metadata": {},
   "source": [
    "# Цикл while\n",
    "\n",
    "\n",
    "\n",
    "Самый простой вид циклов, выполняет инструкцию в блоке до тех пор, пока условие не станет ложным."
   ]
  },
  {
   "cell_type": "code",
   "execution_count": 1,
   "id": "fc6e221f",
   "metadata": {},
   "outputs": [
    {
     "name": "stdout",
     "output_type": "stream",
     "text": [
      "1\n",
      "2\n",
      "3\n",
      "4\n",
      "5\n",
      "6\n",
      "7\n",
      "8\n",
      "9\n",
      "10\n",
      "11\n",
      "12\n",
      "13\n"
     ]
    }
   ],
   "source": [
    "# создаем переменную, равную 1\n",
    "var = 1\n",
    "# прописываем цикл с условием - выполнять до тех пор, пока переменная\n",
    "# меньше или равна 13\n",
    "while var <= 13:\n",
    "# выводим значение переменной\n",
    "    print(var)\n",
    "# увеличиваем переменную на 1\n",
    "    var += 1"
   ]
  },
  {
   "cell_type": "markdown",
   "id": "90997363",
   "metadata": {},
   "source": [
    "*Необходимо всегда помнить, что при использовании цикла while, нужно следить за тем, чтобы было прописано условие выхода из цикла. Если бы в примере выше мы не увеличивали переменную var на 1, тогда цикл бы стал бесконечным.*\n",
    "\n",
    "В нашем случае мы реализуем цикл while с помощью комбинации условие + действие. Действие будет повторяться до тех пор, пока не выполнится условие. Из схемы видно, что если мы уберем блок действия var=var+1 , то наше условие не будет выполнено никогда и цикл будет бесконечным."
   ]
  },
  {
   "cell_type": "markdown",
   "id": "a23c2c0e",
   "metadata": {},
   "source": [
    "# Цикл for\n",
    "\n",
    "\n",
    "Цикл for менее универсальный, но работает быстрее, чем цикл while. Он способен проходить по любому итерируемому объекту, будь то списки, словари, кортежи, строки и не требует ручного увеличения счетчика итераций:"
   ]
  },
  {
   "cell_type": "code",
   "execution_count": 2,
   "id": "e185a97e",
   "metadata": {},
   "outputs": [
    {
     "name": "stdout",
     "output_type": "stream",
     "text": [
      "1\n",
      "2\n",
      "3\n",
      "4\n",
      "5\n",
      "6\n",
      "7\n",
      "8\n",
      "9\n",
      "10\n",
      "11\n",
      "12\n",
      "13\n"
     ]
    }
   ],
   "source": [
    "for i in [1, 2, 3, 4, 5 ,6 ,7 ,8 ,9 , 10, 11, 12, 13]:\n",
    "    print(i)"
   ]
  },
  {
   "cell_type": "markdown",
   "id": "def05fb1",
   "metadata": {},
   "source": [
    "В примере выше написана программа с использованием цикла for. Мы указываем, что наша вложенная инструкция print(i) должна выполняться для каждого элемента из массива [1, 2, 3, 4, 5 ,6 ,7 ,8 ,9 , 10, 11, 12, 13]. То есть данный цикл описывает конструкцию:"
   ]
  },
  {
   "cell_type": "code",
   "execution_count": 3,
   "id": "180ee72b",
   "metadata": {},
   "outputs": [
    {
     "name": "stdout",
     "output_type": "stream",
     "text": [
      "1\n",
      "2\n",
      "3\n",
      "13\n"
     ]
    }
   ],
   "source": [
    "i =1 \n",
    "print(i)\n",
    "i =2 \n",
    "print(i)\n",
    "i =3 \n",
    "print(i)\n",
    "...\n",
    "i = 13\n",
    "print(i)"
   ]
  },
  {
   "cell_type": "markdown",
   "id": "7919f166",
   "metadata": {},
   "source": [
    "В нашем примере все равно отсутствует элегантность, присущая языку Python. Давайте попробуем что-нибудь сделать с массивом из 13 чисел. Что если нам понадобится выводить 100 или 100000 чисел? Для этих целей применим функцию range(), которая поможет нам автоматически сгенерировать последовательность чисел."
   ]
  },
  {
   "cell_type": "code",
   "execution_count": 5,
   "id": "afd19c20",
   "metadata": {},
   "outputs": [
    {
     "name": "stdout",
     "output_type": "stream",
     "text": [
      "1 2 3 4 5 6 7 8 9 10 11 12 13\n"
     ]
    }
   ],
   "source": [
    "var = range(1, 14)\n",
    "\n",
    "print(*var[:])"
   ]
  },
  {
   "cell_type": "code",
   "execution_count": 7,
   "id": "a5ebb654",
   "metadata": {},
   "outputs": [
    {
     "name": "stdout",
     "output_type": "stream",
     "text": [
      "1\n",
      "2\n",
      "3\n",
      "4\n",
      "5\n",
      "6\n",
      "7\n",
      "8\n",
      "9\n",
      "10\n",
      "11\n",
      "12\n",
      "13\n"
     ]
    }
   ],
   "source": [
    "for i in var:\n",
    "    print(i)"
   ]
  },
  {
   "cell_type": "code",
   "execution_count": 8,
   "id": "89bd2e8c",
   "metadata": {},
   "outputs": [
    {
     "name": "stdout",
     "output_type": "stream",
     "text": [
      "1\n",
      "2\n",
      "3\n",
      "4\n",
      "5\n",
      "6\n",
      "7\n",
      "8\n",
      "9\n",
      "10\n",
      "11\n",
      "12\n",
      "13\n"
     ]
    }
   ],
   "source": [
    "for i in range(1,14):\n",
    "    print(i)"
   ]
  },
  {
   "cell_type": "markdown",
   "id": "7f353bc6",
   "metadata": {},
   "source": [
    "# Оператор continue\n",
    "\n",
    "Оператор continue позволяет начать следующий проход цикла, минуя оставшиеся инструкции:"
   ]
  },
  {
   "cell_type": "code",
   "execution_count": 9,
   "id": "716ac5c7",
   "metadata": {},
   "outputs": [
    {
     "name": "stdout",
     "output_type": "stream",
     "text": [
      "P\n",
      "y\n",
      "t\n",
      "o\n",
      "n\n"
     ]
    }
   ],
   "source": [
    "for var in 'Python':\n",
    "    if var == 'h':\n",
    "        continue\n",
    "    print(var)\n",
    "    "
   ]
  },
  {
   "cell_type": "markdown",
   "id": "123dbc36",
   "metadata": {},
   "source": [
    "# Оператор break\n",
    "\n",
    "Оператор break досрочно прерывает цикл. Повторите пример ниже и посмотрите, что получится."
   ]
  },
  {
   "cell_type": "code",
   "execution_count": 10,
   "id": "83f0a964",
   "metadata": {},
   "outputs": [
    {
     "name": "stdout",
     "output_type": "stream",
     "text": [
      "P\n",
      "y\n",
      "t\n"
     ]
    }
   ],
   "source": [
    "for var in 'Python':\n",
    "    if var == 'h':\n",
    "        break\n",
    "    print(var)"
   ]
  },
  {
   "cell_type": "markdown",
   "id": "aa0049b7",
   "metadata": {},
   "source": [
    "# Оператор else\n",
    "\n",
    "Оператор else проверяет цикл на экстренный выход (break). Если экстренного выхода не было, т.е. оператор break не был выполнен, блок инструкций вложенный в оператор else - выполняется."
   ]
  },
  {
   "cell_type": "code",
   "execution_count": 11,
   "id": "6d9ad7ed",
   "metadata": {},
   "outputs": [
    {
     "name": "stdout",
     "output_type": "stream",
     "text": [
      "Символа a нет в слове Python\n"
     ]
    }
   ],
   "source": [
    "for var in 'Python':\n",
    "    if var == 'a':\n",
    "        break \n",
    "else:\n",
    "    print('Символа a нет в слове Python')"
   ]
  },
  {
   "cell_type": "code",
   "execution_count": null,
   "id": "29eeabf5",
   "metadata": {},
   "outputs": [],
   "source": []
  },
  {
   "cell_type": "code",
   "execution_count": null,
   "id": "476896d2",
   "metadata": {},
   "outputs": [],
   "source": []
  }
 ],
 "metadata": {
  "kernelspec": {
   "display_name": "Python 3 (ipykernel)",
   "language": "python",
   "name": "python3"
  },
  "language_info": {
   "codemirror_mode": {
    "name": "ipython",
    "version": 3
   },
   "file_extension": ".py",
   "mimetype": "text/x-python",
   "name": "python",
   "nbconvert_exporter": "python",
   "pygments_lexer": "ipython3",
   "version": "3.9.13"
  }
 },
 "nbformat": 4,
 "nbformat_minor": 5
}
