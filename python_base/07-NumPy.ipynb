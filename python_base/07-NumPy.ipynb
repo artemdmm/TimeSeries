{
 "cells": [
  {
   "cell_type": "markdown",
   "id": "2f6129c8",
   "metadata": {
    "toc": true
   },
   "source": [
    "<h1>Table of Contents<span class=\"tocSkip\"></span></h1>\n",
    "<div class=\"toc\"><ul class=\"toc-item\"><li><span><a href=\"#Что-такое-NumPy?\" data-toc-modified-id=\"Что-такое-NumPy?-1\"><span class=\"toc-item-num\">1&nbsp;&nbsp;</span>Что такое NumPy?</a></span></li><li><span><a href=\"#Создание-массива\" data-toc-modified-id=\"Создание-массива-2\"><span class=\"toc-item-num\">2&nbsp;&nbsp;</span>Создание массива</a></span></li><li><span><a href=\"#Доступ-к-элементам,-срезы\" data-toc-modified-id=\"Доступ-к-элементам,-срезы-3\"><span class=\"toc-item-num\">3&nbsp;&nbsp;</span>Доступ к элементам, срезы</a></span></li><li><span><a href=\"#Форма-массива-и-ее-изменение\" data-toc-modified-id=\"Форма-массива-и-ее-изменение-4\"><span class=\"toc-item-num\">4&nbsp;&nbsp;</span>Форма массива и ее изменение</a></span></li><li><span><a href=\"#Перестановка-осей-и-траспонирование\" data-toc-modified-id=\"Перестановка-осей-и-траспонирование-5\"><span class=\"toc-item-num\">5&nbsp;&nbsp;</span>Перестановка осей и траспонирование</a></span></li><li><span><a href=\"#Объединение-массивов\" data-toc-modified-id=\"Объединение-массивов-6\"><span class=\"toc-item-num\">6&nbsp;&nbsp;</span>Объединение массивов</a></span></li><li><span><a href=\"#Клонирование-данных\" data-toc-modified-id=\"Клонирование-данных-7\"><span class=\"toc-item-num\">7&nbsp;&nbsp;</span>Клонирование данных</a></span></li><li><span><a href=\"#Математические-операции-над-элементами-массива\" data-toc-modified-id=\"Математические-операции-над-элементами-массива-8\"><span class=\"toc-item-num\">8&nbsp;&nbsp;</span>Математические операции над элементами массива</a></span></li><li><span><a href=\"#Матричное-умножение\" data-toc-modified-id=\"Матричное-умножение-9\"><span class=\"toc-item-num\">9&nbsp;&nbsp;</span>Матричное умножение</a></span></li><li><span><a href=\"#Агрегаторы\" data-toc-modified-id=\"Агрегаторы-10\"><span class=\"toc-item-num\">10&nbsp;&nbsp;</span>Агрегаторы</a></span></li><li><span><a href=\"#Пример.-Работа-с-изображением-в-NumPy\" data-toc-modified-id=\"Пример.-Работа-с-изображением-в-NumPy-11\"><span class=\"toc-item-num\">11&nbsp;&nbsp;</span>Пример. Работа с изображением в NumPy</a></span></li></ul></div>"
   ]
  },
  {
   "cell_type": "markdown",
   "id": "5eccdb58",
   "metadata": {},
   "source": [
    "# Что такое NumPy?\n",
    "\n",
    "\n",
    "Пакет NumPy является незаменимым помощником Python. Он тянет на себе анализ данных, машинное обучение и научные вычисления, а также существенно облегчает обработку векторов и матриц. \n",
    "\n",
    "Некоторые ведущие пакеты Python используют NumPy как основной элемент своей инфраструктуры. К их числу относятся scikit-learn, SciPy, pandas и tensorflow.  \n",
    "\n",
    "\n",
    "В силу того, что NumPy базируется на Fortran, это быстрая библиотека. А в силу того, что поддерживает векторные операции с многомерными массивами — крайне удобная.\n",
    "\n",
    "Кроме базового варианта (многомерные массивы в базовом варианте) NumPy включает в себя набор пакетов для решения специализированных задач, например:\n",
    "\n",
    "numpy.linalg — реализует операции линейной алгебры (простое умножение векторов и матриц есть в базовом варианте);\n",
    "\n",
    "numpy.random — реализует функции для работы со случайными величинами;\n",
    "\n",
    "numpy.fft — реализует прямое и обратное преобразование Фурье.\n"
   ]
  },
  {
   "cell_type": "code",
   "execution_count": 2,
   "id": "72d77cfd",
   "metadata": {},
   "outputs": [],
   "source": [
    "import numpy as np"
   ]
  },
  {
   "cell_type": "markdown",
   "id": "1a078d85",
   "metadata": {},
   "source": [
    "# Создание массива\n",
    "\n",
    "\n",
    "Создать массив можно несколькими способами:\n",
    "\n",
    "Преобразовать список в массив:\n"
   ]
  },
  {
   "cell_type": "code",
   "execution_count": 3,
   "id": "940de5d2",
   "metadata": {},
   "outputs": [
    {
     "data": {
      "text/plain": [
       "array([[1, 2, 3],\n",
       "       [4, 5, 6]])"
      ]
     },
     "execution_count": 3,
     "metadata": {},
     "output_type": "execute_result"
    }
   ],
   "source": [
    "A = np.array([[1, 2, 3], [4, 5, 6]])\n",
    "A"
   ]
  },
  {
   "cell_type": "markdown",
   "id": "34f87541",
   "metadata": {},
   "source": [
    "Cкопировать массив:\n"
   ]
  },
  {
   "cell_type": "code",
   "execution_count": 4,
   "id": "5038e7b7",
   "metadata": {},
   "outputs": [
    {
     "data": {
      "text/plain": [
       "array([[1, 2, 3],\n",
       "       [4, 5, 6]])"
      ]
     },
     "execution_count": 4,
     "metadata": {},
     "output_type": "execute_result"
    }
   ],
   "source": [
    "B = A.copy()\n",
    "B"
   ]
  },
  {
   "cell_type": "markdown",
   "id": "ebbfa607",
   "metadata": {},
   "source": [
    "Cоздать нулевой или единичный массив заданного размера:"
   ]
  },
  {
   "cell_type": "code",
   "execution_count": 7,
   "id": "b7ee5247",
   "metadata": {},
   "outputs": [
    {
     "data": {
      "text/plain": [
       "array([[0., 0., 0.],\n",
       "       [0., 0., 0.]])"
      ]
     },
     "execution_count": 7,
     "metadata": {},
     "output_type": "execute_result"
    }
   ],
   "source": [
    "# (2, 3) - кортеж с размерами массива\n",
    "\n",
    "A = np.zeros((2, 3))\n",
    "A"
   ]
  },
  {
   "cell_type": "code",
   "execution_count": 8,
   "id": "5d76124f",
   "metadata": {},
   "outputs": [
    {
     "data": {
      "text/plain": [
       "array([[1., 1.],\n",
       "       [1., 1.],\n",
       "       [1., 1.]])"
      ]
     },
     "execution_count": 8,
     "metadata": {},
     "output_type": "execute_result"
    }
   ],
   "source": [
    "# (3, 2) - кортеж с размерами массива\n",
    "\n",
    "B = np.ones((3, 2))\n",
    "B"
   ]
  },
  {
   "cell_type": "code",
   "execution_count": 9,
   "id": "1ab08a58",
   "metadata": {},
   "outputs": [
    {
     "data": {
      "text/plain": [
       "array([[0, 0, 0],\n",
       "       [0, 0, 0]])"
      ]
     },
     "execution_count": 9,
     "metadata": {},
     "output_type": "execute_result"
    }
   ],
   "source": [
    "# или взять размеры уже существующего массива\n",
    "\n",
    "A = np.array([[1, 2, 3], [4, 5, 6]])\n",
    "B = np.zeros_like(A)\n",
    "B\n",
    "\n"
   ]
  },
  {
   "cell_type": "code",
   "execution_count": 10,
   "id": "6b8d972a",
   "metadata": {},
   "outputs": [
    {
     "data": {
      "text/plain": [
       "array([[1, 1, 1],\n",
       "       [1, 1, 1]])"
      ]
     },
     "execution_count": 10,
     "metadata": {},
     "output_type": "execute_result"
    }
   ],
   "source": [
    "B = np.ones_like(A)\n",
    "B"
   ]
  },
  {
   "cell_type": "markdown",
   "id": "1138da92",
   "metadata": {},
   "source": [
    "Можно явно указать тип элементов:"
   ]
  },
  {
   "cell_type": "code",
   "execution_count": 15,
   "id": "e5abd430",
   "metadata": {},
   "outputs": [
    {
     "data": {
      "text/plain": [
       "array([[0, 0, 0],\n",
       "       [0, 0, 0]])"
      ]
     },
     "execution_count": 15,
     "metadata": {},
     "output_type": "execute_result"
    }
   ],
   "source": [
    "A = np.zeros((2, 3), 'int')\n",
    "A"
   ]
  },
  {
   "cell_type": "code",
   "execution_count": 16,
   "id": "54d191cc",
   "metadata": {},
   "outputs": [
    {
     "data": {
      "text/plain": [
       "array([[1.+0.j, 1.+0.j],\n",
       "       [1.+0.j, 1.+0.j],\n",
       "       [1.+0.j, 1.+0.j]])"
      ]
     },
     "execution_count": 16,
     "metadata": {},
     "output_type": "execute_result"
    }
   ],
   "source": [
    "B = np.ones((3, 2), 'complex')\n",
    "B"
   ]
  },
  {
   "cell_type": "markdown",
   "id": "97da787b",
   "metadata": {},
   "source": [
    "Используя метод astype, можно привести массив к другому типу. В качестве параметра указывается желаемый тип:"
   ]
  },
  {
   "cell_type": "code",
   "execution_count": 17,
   "id": "48ae434a",
   "metadata": {},
   "outputs": [
    {
     "data": {
      "text/plain": [
       "array([['1.0', '1.0'],\n",
       "       ['1.0', '1.0'],\n",
       "       ['1.0', '1.0']], dtype='<U32')"
      ]
     },
     "execution_count": 17,
     "metadata": {},
     "output_type": "execute_result"
    }
   ],
   "source": [
    "A = np.ones((3, 2))\n",
    "B = A.astype('str')\n",
    "B"
   ]
  },
  {
   "cell_type": "code",
   "execution_count": 19,
   "id": "b53af3ff",
   "metadata": {},
   "outputs": [
    {
     "data": {
      "text/plain": [
       "{'int': [numpy.int8, numpy.int16, numpy.int32, numpy.int64],\n",
       " 'uint': [numpy.uint8, numpy.uint16, numpy.uint32, numpy.uint64],\n",
       " 'float': [numpy.float16, numpy.float32, numpy.float64],\n",
       " 'complex': [numpy.complex64, numpy.complex128],\n",
       " 'others': [bool, object, bytes, str, numpy.void]}"
      ]
     },
     "execution_count": 19,
     "metadata": {},
     "output_type": "execute_result"
    }
   ],
   "source": [
    "# словарь всех возможных типов:\n",
    "\n",
    "np.sctypes"
   ]
  },
  {
   "cell_type": "markdown",
   "id": "1ba0a8cb",
   "metadata": {},
   "source": [
    "При создании двумерного квадратного массива можно сразу сделать его единичной диагональной матрицей:"
   ]
  },
  {
   "cell_type": "code",
   "execution_count": 11,
   "id": "9301f35e",
   "metadata": {},
   "outputs": [
    {
     "data": {
      "text/plain": [
       "array([[1., 0., 0.],\n",
       "       [0., 1., 0.],\n",
       "       [0., 0., 1.]])"
      ]
     },
     "execution_count": 11,
     "metadata": {},
     "output_type": "execute_result"
    }
   ],
   "source": [
    "A = np.eye(3)\n",
    "A"
   ]
  },
  {
   "cell_type": "markdown",
   "id": "1c34af3f",
   "metadata": {},
   "source": [
    "Построить массив чисел от From (включая) до To (не включая) с шагом Step"
   ]
  },
  {
   "cell_type": "code",
   "execution_count": 12,
   "id": "9e578f26",
   "metadata": {},
   "outputs": [
    {
     "data": {
      "text/plain": [
       "array([2.5, 3. , 3.5, 4. , 4.5, 5. , 5.5, 6. , 6.5])"
      ]
     },
     "execution_count": 12,
     "metadata": {},
     "output_type": "execute_result"
    }
   ],
   "source": [
    "From = 2.5\n",
    "To = 7\n",
    "Step = 0.5\n",
    "A = np.arange(From, To, Step)\n",
    "A"
   ]
  },
  {
   "cell_type": "markdown",
   "id": "c8e826da",
   "metadata": {},
   "source": [
    "По умолчанию from = 0, step = 1, поэтому возможен вариант с одним параметром, интерпретируемым как To:"
   ]
  },
  {
   "cell_type": "code",
   "execution_count": 13,
   "id": "a03947c5",
   "metadata": {},
   "outputs": [
    {
     "data": {
      "text/plain": [
       "array([0, 1, 2, 3, 4, 5, 6, 7, 8, 9])"
      ]
     },
     "execution_count": 13,
     "metadata": {},
     "output_type": "execute_result"
    }
   ],
   "source": [
    "A = np.arange(10)\n",
    "A"
   ]
  },
  {
   "cell_type": "markdown",
   "id": "0031cfee",
   "metadata": {},
   "source": [
    "Либо с двумя — как From и To:"
   ]
  },
  {
   "cell_type": "code",
   "execution_count": 14,
   "id": "142b082a",
   "metadata": {},
   "outputs": [
    {
     "data": {
      "text/plain": [
       "array([10, 11, 12, 13, 14, 15, 16, 17, 18, 19, 20, 21, 22, 23, 24, 25, 26,\n",
       "       27, 28, 29, 30, 31, 32, 33, 34, 35, 36, 37, 38, 39])"
      ]
     },
     "execution_count": 14,
     "metadata": {},
     "output_type": "execute_result"
    }
   ],
   "source": [
    "A = np.arange(10, 40)\n",
    "A"
   ]
  },
  {
   "cell_type": "markdown",
   "id": "1a25c96a",
   "metadata": {},
   "source": [
    "# Доступ к элементам, срезы"
   ]
  },
  {
   "cell_type": "markdown",
   "id": "ff14f625",
   "metadata": {},
   "source": [
    "Доступ к элементам массива осуществляется по целочисленным индексами, начинается отсчет с 0:"
   ]
  },
  {
   "cell_type": "code",
   "execution_count": 20,
   "id": "33eb2805",
   "metadata": {},
   "outputs": [
    {
     "data": {
      "text/plain": [
       "5"
      ]
     },
     "execution_count": 20,
     "metadata": {},
     "output_type": "execute_result"
    }
   ],
   "source": [
    "A = np.array([[1, 2, 3], [4, 5, 6]])\n",
    "A[1, 1]"
   ]
  },
  {
   "cell_type": "markdown",
   "id": "c1cf5673",
   "metadata": {},
   "source": [
    "Если представить многомерный массив как систему вложенных одномерных массивов (линейный массив, элементы которого могут быть линейными массивами), становится очевидной возможность получать доступ к подмассивам с использованием неполного набора индексов:"
   ]
  },
  {
   "cell_type": "code",
   "execution_count": 21,
   "id": "ccd23de5",
   "metadata": {},
   "outputs": [
    {
     "data": {
      "text/plain": [
       "array([4, 5, 6])"
      ]
     },
     "execution_count": 21,
     "metadata": {},
     "output_type": "execute_result"
    }
   ],
   "source": [
    "A = np.array([[1, 2, 3], [4, 5, 6]])\n",
    "A[1]"
   ]
  },
  {
   "cell_type": "markdown",
   "id": "b5e65f73",
   "metadata": {},
   "source": [
    "Еще один вариант доступа к одному элементу:\n"
   ]
  },
  {
   "cell_type": "code",
   "execution_count": 22,
   "id": "f2e81774",
   "metadata": {},
   "outputs": [
    {
     "data": {
      "text/plain": [
       "5"
      ]
     },
     "execution_count": 22,
     "metadata": {},
     "output_type": "execute_result"
    }
   ],
   "source": [
    "A = np.array([[1, 2, 3], [4, 5, 6]])\n",
    "A[1][1]"
   ]
  },
  {
   "cell_type": "markdown",
   "id": "48dc49b3",
   "metadata": {},
   "source": [
    "При использовании неполного набора индексов, недостающие индексы неявно заменяются списком всех возможных индексов вдоль соответствующей оси. \n",
    "Сделать это явным образом можно, поставив \":\". \n"
   ]
  },
  {
   "cell_type": "code",
   "execution_count": 24,
   "id": "268d2db4",
   "metadata": {},
   "outputs": [
    {
     "data": {
      "text/plain": [
       "array([4, 5, 6])"
      ]
     },
     "execution_count": 24,
     "metadata": {},
     "output_type": "execute_result"
    }
   ],
   "source": [
    "A = np.array([[1, 2, 3], [4, 5, 6]])\n",
    "A[1, :]"
   ]
  },
  {
   "cell_type": "markdown",
   "id": "f60a3e84",
   "metadata": {},
   "source": [
    "«Пропустить» индекс можно вдоль любой оси или осей, если за «пропущенной» осью последуют оси с индексацией, \n",
    "то \":\" обязательно:"
   ]
  },
  {
   "cell_type": "code",
   "execution_count": 25,
   "id": "0314486b",
   "metadata": {},
   "outputs": [
    {
     "data": {
      "text/plain": [
       "array([2, 5])"
      ]
     },
     "execution_count": 25,
     "metadata": {},
     "output_type": "execute_result"
    }
   ],
   "source": [
    "A = np.array([[1, 2, 3], [4, 5, 6]])\n",
    "A[:, 1]"
   ]
  },
  {
   "cell_type": "markdown",
   "id": "83db2e7a",
   "metadata": {},
   "source": [
    "Индексы могут принимать отрицательные целые значения. В этом случае отсчет ведется от конца массива:"
   ]
  },
  {
   "cell_type": "code",
   "execution_count": 26,
   "id": "6eaa30a2",
   "metadata": {},
   "outputs": [
    {
     "name": "stdout",
     "output_type": "stream",
     "text": [
      "[0 1 2 3 4]\n"
     ]
    },
    {
     "data": {
      "text/plain": [
       "4"
      ]
     },
     "execution_count": 26,
     "metadata": {},
     "output_type": "execute_result"
    }
   ],
   "source": [
    "A = np.arange(5)\n",
    "print(A)\n",
    "A[-1]"
   ]
  },
  {
   "cell_type": "markdown",
   "id": "cf2cf028",
   "metadata": {},
   "source": [
    "Можно использовать не одиночные индексы, а списки индексов вдоль каждой оси:"
   ]
  },
  {
   "cell_type": "code",
   "execution_count": 27,
   "id": "292d211d",
   "metadata": {},
   "outputs": [
    {
     "name": "stdout",
     "output_type": "stream",
     "text": [
      "[0 1 2 3 4]\n"
     ]
    },
    {
     "data": {
      "text/plain": [
       "array([0, 1, 4])"
      ]
     },
     "execution_count": 27,
     "metadata": {},
     "output_type": "execute_result"
    }
   ],
   "source": [
    "A = np.arange(5)\n",
    "print(A)\n",
    "A[[0, 1, -1]]"
   ]
  },
  {
   "cell_type": "markdown",
   "id": "f3644894",
   "metadata": {},
   "source": [
    "\n",
    "Либо диапазоны индексов в виде «From:To:Step». Такая конструкция называется срезом. \n",
    "Выбираются все элементы по списку индексов начиная с индекса From включительно, до индекса To не включая с шагом Step:"
   ]
  },
  {
   "cell_type": "code",
   "execution_count": 29,
   "id": "f2766758",
   "metadata": {},
   "outputs": [
    {
     "name": "stdout",
     "output_type": "stream",
     "text": [
      "[0 1 2 3 4]\n",
      "[0 2]\n"
     ]
    }
   ],
   "source": [
    "A = np.arange(5)\n",
    "print(A)\n",
    "B = A[0:4:2]\n",
    "print(B)"
   ]
  },
  {
   "cell_type": "markdown",
   "id": "f65f6bc5",
   "metadata": {},
   "source": [
    "Шаг индекса имеет значение по умолчанию 1 и может быть пропущен:"
   ]
  },
  {
   "cell_type": "code",
   "execution_count": 30,
   "id": "d3b21fb3",
   "metadata": {},
   "outputs": [
    {
     "name": "stdout",
     "output_type": "stream",
     "text": [
      "[0 1 2 3 4]\n"
     ]
    },
    {
     "data": {
      "text/plain": [
       "array([0, 1, 2, 3])"
      ]
     },
     "execution_count": 30,
     "metadata": {},
     "output_type": "execute_result"
    }
   ],
   "source": [
    "A = np.arange(5)\n",
    "print(A)\n",
    "A[0:4]"
   ]
  },
  {
   "cell_type": "markdown",
   "id": "01ef2da2",
   "metadata": {},
   "source": [
    "Значения From и To тоже имеют дефолтные значения: 0 и размер массива по оси индексации соответственно:"
   ]
  },
  {
   "cell_type": "code",
   "execution_count": 31,
   "id": "8b776d91",
   "metadata": {},
   "outputs": [
    {
     "name": "stdout",
     "output_type": "stream",
     "text": [
      "[0 1 2 3 4]\n"
     ]
    },
    {
     "data": {
      "text/plain": [
       "array([0, 1, 2, 3])"
      ]
     },
     "execution_count": 31,
     "metadata": {},
     "output_type": "execute_result"
    }
   ],
   "source": [
    "A = np.arange(5)\n",
    "print(A)\n",
    "A[:4]"
   ]
  },
  {
   "cell_type": "code",
   "execution_count": 32,
   "id": "b92ef40d",
   "metadata": {},
   "outputs": [
    {
     "name": "stdout",
     "output_type": "stream",
     "text": [
      "[0 1 2 3 4]\n"
     ]
    },
    {
     "data": {
      "text/plain": [
       "array([2, 3, 4])"
      ]
     },
     "execution_count": 32,
     "metadata": {},
     "output_type": "execute_result"
    }
   ],
   "source": [
    "A = np.arange(5)\n",
    "print(A)\n",
    "A[-3:]"
   ]
  },
  {
   "cell_type": "markdown",
   "id": "3145ddf3",
   "metadata": {},
   "source": [
    "Если вы хотите использовать From и To по умолчанию (все индексы по данной оси) а шаг отличный от 1, то вам необходимо использовать две пары двоеточий, чтобы интерпретатор смог идентифицировать единственный параметр как Step. Следующий код «разворачивает» массив вдоль второй оси, а вдоль первой не меняет:"
   ]
  },
  {
   "cell_type": "code",
   "execution_count": 33,
   "id": "f482c2ff",
   "metadata": {},
   "outputs": [
    {
     "name": "stdout",
     "output_type": "stream",
     "text": [
      "A [[1 2 3]\n",
      " [4 5 6]]\n",
      "B [[3 2 1]\n",
      " [6 5 4]]\n"
     ]
    }
   ],
   "source": [
    "A = np.array([[1, 2, 3], [4, 5, 6]])\n",
    "\n",
    "B = A[:, ::-1]\n",
    "\n",
    "print(\"A\", A)\n",
    "print(\"B\", B)"
   ]
  },
  {
   "cell_type": "code",
   "execution_count": 34,
   "id": "4a55ef10",
   "metadata": {},
   "outputs": [
    {
     "name": "stdout",
     "output_type": "stream",
     "text": [
      "[[1 2 3]\n",
      " [4 5 6]]\n",
      "[[1 2 0]\n",
      " [4 5 6]]\n"
     ]
    }
   ],
   "source": [
    "# Попробуем выполнить\n",
    "\n",
    "print(A)\n",
    "B[0, 0] = 0\n",
    "print(A)"
   ]
  },
  {
   "cell_type": "markdown",
   "id": "00342f2e",
   "metadata": {},
   "source": [
    "Как видите, через B мы изменили данные в A. \n",
    "\n",
    "Вот почему в реальных задачах важно использовать копии. \n",
    "\n",
    "Пример выше должен был бы выглядеть так:"
   ]
  },
  {
   "cell_type": "code",
   "execution_count": 37,
   "id": "21cbb0ca",
   "metadata": {},
   "outputs": [
    {
     "name": "stdout",
     "output_type": "stream",
     "text": [
      "A [[1 2 3]\n",
      " [4 5 6]]\n",
      "B [[3 2 1]\n",
      " [6 5 4]]\n",
      "A [[1 2 3]\n",
      " [4 5 6]]\n",
      "B [[0 2 1]\n",
      " [6 5 4]]\n"
     ]
    }
   ],
   "source": [
    "A = np.array([[1, 2, 3], [4, 5, 6]])\n",
    "B = A.copy()[:, ::-1]\n",
    "print(\"A\", A)\n",
    "print(\"B\", B)\n",
    "\n",
    "B[0, 0] = 0\n",
    "print(\"A\", A)\n",
    "print(\"B\", B)"
   ]
  },
  {
   "cell_type": "markdown",
   "id": "8dc4cc4e",
   "metadata": {},
   "source": [
    "В NumPy также реализована возможность доступа ко множеству элементов массива через булев индексный массив. Индексный массив должен совпадать по форме с индексируемым."
   ]
  },
  {
   "cell_type": "code",
   "execution_count": 38,
   "id": "66c9ec81",
   "metadata": {},
   "outputs": [
    {
     "data": {
      "text/plain": [
       "array([3, 4, 6])"
      ]
     },
     "execution_count": 38,
     "metadata": {},
     "output_type": "execute_result"
    }
   ],
   "source": [
    "A = np.array([[1, 2, 3], [4, 5, 6]])\n",
    "I = np.array([[False, False, True], [ True, False, True]])\n",
    "A[I]"
   ]
  },
  {
   "cell_type": "markdown",
   "id": "739b1174",
   "metadata": {},
   "source": [
    "Такая конструкция возвращает плоский массив, состоящий из элементов индексируемого массива, соответствующих истинным индексам. Однако, если мы используем такой доступ к элементам массива для изменения их значений, то форма массива сохранится:\n"
   ]
  },
  {
   "cell_type": "code",
   "execution_count": 39,
   "id": "2bb34469",
   "metadata": {},
   "outputs": [
    {
     "name": "stdout",
     "output_type": "stream",
     "text": [
      "[[1 2 0]\n",
      " [0 5 0]]\n"
     ]
    }
   ],
   "source": [
    "A = np.array([[1, 2, 3], [4, 5, 6]])\n",
    "I = np.array([[False, False, True], [ True, False, True]])\n",
    "A[I] = 0\n",
    "print(A)"
   ]
  },
  {
   "cell_type": "markdown",
   "id": "ba0a9ce0",
   "metadata": {},
   "source": [
    "Над индексирующими булевыми массивами определены логические операции logical_and, logical_or и logical_not выполняющие логические операции И, ИЛИ и НЕ поэлементно:"
   ]
  },
  {
   "cell_type": "code",
   "execution_count": 40,
   "id": "ce5a4b51",
   "metadata": {},
   "outputs": [
    {
     "name": "stdout",
     "output_type": "stream",
     "text": [
      "B\n",
      " [[1 2 3]\n",
      " [4 5 0]]\n",
      "\n",
      "C\n",
      " [[1 0 0]\n",
      " [0 5 0]]\n",
      "\n",
      "D\n",
      " [[0 0 3]\n",
      " [4 0 6]]\n"
     ]
    }
   ],
   "source": [
    "A = np.array([[1, 2, 3], [4, 5, 6]])\n",
    "\n",
    "I1 = np.array([[False, False, True], [True, False, True]])\n",
    "I2 = np.array([[False, True, False], [False, False, True]])\n",
    "\n",
    "B = A.copy()\n",
    "C = A.copy()\n",
    "D = A.copy()\n",
    "\n",
    "B[np.logical_and(I1, I2)] = 0\n",
    "C[np.logical_or(I1, I2)] = 0\n",
    "D[np.logical_not(I1)] = 0\n",
    "\n",
    "print('B\\n', B)\n",
    "print('\\nC\\n', C)\n",
    "print('\\nD\\n', D)\n"
   ]
  },
  {
   "cell_type": "markdown",
   "id": "a842250a",
   "metadata": {},
   "source": [
    "Можно использовать операторы &, | и ~ для выполнения И, ИЛИ и НЕ соответственно с любым количеством операндов:"
   ]
  },
  {
   "cell_type": "code",
   "execution_count": 41,
   "id": "018d62ee",
   "metadata": {},
   "outputs": [
    {
     "name": "stdout",
     "output_type": "stream",
     "text": [
      "[[1 2 0]\n",
      " [0 5 0]]\n"
     ]
    }
   ],
   "source": [
    "A = np.array([[1, 2, 3], [4, 5, 6]])\n",
    "\n",
    "I1 = np.array([[False, False, True], [True, False, True]])\n",
    "I2 = np.array([[False, True, False], [False, False, True]])\n",
    "\n",
    "A[I1 & (I1 | ~ I2)] = 0\n",
    "\n",
    "print(A)"
   ]
  },
  {
   "cell_type": "markdown",
   "id": "84ce2d7b",
   "metadata": {},
   "source": [
    "Получить индексирующий логический массив, соответсвующий по форме массиву значений можно, записав логическое условие с именем массива в качестве операнда. Булево значение индекса будет рассчитано как истинность выражения для соответствующего элемента массива.\n",
    "\n",
    "Найдем индексирующий массив I элементов, которые больше, чем 3, а элементы со значениями меньше чем 2 и больше 4 — обнулим:"
   ]
  },
  {
   "cell_type": "code",
   "execution_count": 42,
   "id": "8250f18d",
   "metadata": {},
   "outputs": [
    {
     "name": "stdout",
     "output_type": "stream",
     "text": [
      "A before\n",
      " [[1 2 3]\n",
      " [4 5 6]]\n",
      "I\n",
      " [[False False False]\n",
      " [ True  True  True]]\n",
      "A after\n",
      " [[0 2 3]\n",
      " [4 0 0]]\n"
     ]
    }
   ],
   "source": [
    "A = np.array([[1, 2, 3], [4, 5, 6]])\n",
    "print('A before\\n', A)\n",
    "\n",
    "I = A > 3\n",
    "print('I\\n', I)\n",
    "\n",
    "A[np.logical_or(A < 2, A > 4)] = 0\n",
    "print('A after\\n', A)"
   ]
  },
  {
   "cell_type": "markdown",
   "id": "a8838a74",
   "metadata": {},
   "source": [
    "# Форма массива и ее изменение\n",
    "\n",
    "Многомерный массив можно представить как одномерный массив максимальной длины, нарезанный на фрагменты по длине самой последней оси и уложенный слоями по осям, начиная с последних."
   ]
  },
  {
   "cell_type": "code",
   "execution_count": 44,
   "id": "45c45be6",
   "metadata": {},
   "outputs": [
    {
     "name": "stdout",
     "output_type": "stream",
     "text": [
      "A\n",
      " [ 0  1  2  3  4  5  6  7  8  9 10 11 12 13 14 15 16 17 18 19 20 21 22 23]\n",
      "B\n",
      " [[ 0  1  2  3  4  5]\n",
      " [ 6  7  8  9 10 11]\n",
      " [12 13 14 15 16 17]\n",
      " [18 19 20 21 22 23]]\n",
      "\n",
      "C\n",
      " [[[ 0  1]\n",
      "  [ 2  3]\n",
      "  [ 4  5]]\n",
      "\n",
      " [[ 6  7]\n",
      "  [ 8  9]\n",
      "  [10 11]]\n",
      "\n",
      " [[12 13]\n",
      "  [14 15]\n",
      "  [16 17]]\n",
      "\n",
      " [[18 19]\n",
      "  [20 21]\n",
      "  [22 23]]]\n"
     ]
    }
   ],
   "source": [
    "A = np.arange(24)\n",
    "B = A.reshape(4, 6)\n",
    "C = A.reshape(4, 3, 2)\n",
    "print('A\\n', A)\n",
    "print('B\\n', B)\n",
    "print('\\nC\\n', C)"
   ]
  },
  {
   "cell_type": "markdown",
   "id": "306f62c5",
   "metadata": {},
   "source": [
    "В этом примере мы из одномерного массива длиной 24 элемента сформировали 2 новых массива. Массив B, размером 4 на 6. Если посмотреть на порядок значений, то видно, что вдоль второго измерения идут цепочки последовательных значений.\n",
    "\n",
    "В массиве C, размером 4 на 3 на 2, непрерывные значения идут вдоль последней оси. Вдоль второй оси идут последовательно блоки, объединение которых дало бы в результате строки вдоль второй оси массива B.\n",
    "\n",
    "А учитывая, что мы не делали копии, становится понятно, что это разные формы преставления одного и того же массива данных. Поэтому можно легко и быстро менять форму массива, не изменяя самих данных.\n",
    "\n",
    "Чтобы узнать размерность массива (количество осей), можно использовать поле ndim (число), а чтобы узнать размер вдоль каждой оси — shape (кортеж). Размерность можно также узнать и по длине shape. Чтобы узнать полное количество элементов в массиве можно воспользоваться значением size:"
   ]
  },
  {
   "cell_type": "code",
   "execution_count": 45,
   "id": "2469f678",
   "metadata": {},
   "outputs": [
    {
     "name": "stdout",
     "output_type": "stream",
     "text": [
      "3 (4, 3, 2) 3 24\n"
     ]
    }
   ],
   "source": [
    "A = np.arange(24)\n",
    "C = A.reshape(4, 3, 2)\n",
    "\n",
    "print(C.ndim, C.shape, len(C.shape), A.size)\n"
   ]
  },
  {
   "cell_type": "markdown",
   "id": "9d3a74cc",
   "metadata": {},
   "source": [
    "Чтобы увидеть массив одномерным, можно воспользоваться функцией ravel:"
   ]
  },
  {
   "cell_type": "code",
   "execution_count": 46,
   "id": "8ae70e53",
   "metadata": {},
   "outputs": [
    {
     "data": {
      "text/plain": [
       "array([1, 2, 3, 4, 5, 6])"
      ]
     },
     "execution_count": 46,
     "metadata": {},
     "output_type": "execute_result"
    }
   ],
   "source": [
    "A = np.array([[1, 2, 3], [4, 5, 6]])\n",
    "A.ravel()"
   ]
  },
  {
   "cell_type": "markdown",
   "id": "ee4c3fe4",
   "metadata": {},
   "source": [
    "Чтобы поменять размеры вдоль осей или размерность используется метод reshape:"
   ]
  },
  {
   "cell_type": "code",
   "execution_count": 47,
   "id": "9cb419ff",
   "metadata": {},
   "outputs": [
    {
     "data": {
      "text/plain": [
       "array([[1, 2],\n",
       "       [3, 4],\n",
       "       [5, 6]])"
      ]
     },
     "execution_count": 47,
     "metadata": {},
     "output_type": "execute_result"
    }
   ],
   "source": [
    "A = np.array([[1, 2, 3], [4, 5, 6]])\n",
    "A.reshape(3, 2)"
   ]
  },
  {
   "cell_type": "markdown",
   "id": "3d8a8202",
   "metadata": {},
   "source": [
    "Важно, чтобы количество элементов сохранилось. Иначе возникнет ошибка:"
   ]
  },
  {
   "cell_type": "code",
   "execution_count": 48,
   "id": "25285573",
   "metadata": {},
   "outputs": [
    {
     "ename": "ValueError",
     "evalue": "cannot reshape array of size 6 into shape (3,3)",
     "output_type": "error",
     "traceback": [
      "\u001b[1;31m---------------------------------------------------------------------------\u001b[0m",
      "\u001b[1;31mValueError\u001b[0m                                Traceback (most recent call last)",
      "Input \u001b[1;32mIn [48]\u001b[0m, in \u001b[0;36m<cell line: 1>\u001b[1;34m()\u001b[0m\n\u001b[1;32m----> 1\u001b[0m \u001b[43mA\u001b[49m\u001b[38;5;241;43m.\u001b[39;49m\u001b[43mreshape\u001b[49m\u001b[43m(\u001b[49m\u001b[38;5;241;43m3\u001b[39;49m\u001b[43m,\u001b[49m\u001b[43m \u001b[49m\u001b[38;5;241;43m3\u001b[39;49m\u001b[43m)\u001b[49m\n",
      "\u001b[1;31mValueError\u001b[0m: cannot reshape array of size 6 into shape (3,3)"
     ]
    }
   ],
   "source": [
    "A.reshape(3, 3)"
   ]
  },
  {
   "cell_type": "markdown",
   "id": "10722856",
   "metadata": {},
   "source": [
    "Учитывая, что количество элементов постоянно, размер вдоль одной любой оси при выполнении reshape может быть вычислен из значений длины вдоль других осей. Размер вдоль одной оси можно обозначить -1 и тогда он будет вычислен автоматически:\n"
   ]
  },
  {
   "cell_type": "code",
   "execution_count": 49,
   "id": "d9ecea71",
   "metadata": {},
   "outputs": [
    {
     "name": "stdout",
     "output_type": "stream",
     "text": [
      "(4, 6) (4, 3, 2)\n"
     ]
    }
   ],
   "source": [
    "A = np.arange(24)\n",
    "B = A.reshape(4, -1)\n",
    "C = A.reshape(4, -1, 2)\n",
    "\n",
    "print(B.shape, C.shape)"
   ]
  },
  {
   "cell_type": "code",
   "execution_count": 50,
   "id": "a83e30fe",
   "metadata": {},
   "outputs": [
    {
     "name": "stdout",
     "output_type": "stream",
     "text": [
      "(6,)\n"
     ]
    }
   ],
   "source": [
    "# Можно reshape использовать вместо ravel:\n",
    "\n",
    "A = np.array([[1, 2, 3], [4, 5, 6]])\n",
    "B = A.reshape(-1)\n",
    "print(B.shape)"
   ]
  },
  {
   "cell_type": "markdown",
   "id": "5c3e7dfc",
   "metadata": {},
   "source": [
    "# Перестановка осей и траспонирование\n",
    "\n",
    "В кроме изменения формы массива при неизменном порядке единиц данных, часто встречается необходимость изменить порядок следования осей, что естественным образом повлечет перестановки блоков данных.\n",
    "\n",
    "Примером такого преобразования может быть транспонирование матрицы: взаимозамена строк и столбцов."
   ]
  },
  {
   "cell_type": "code",
   "execution_count": 51,
   "id": "b1d815a7",
   "metadata": {},
   "outputs": [
    {
     "name": "stdout",
     "output_type": "stream",
     "text": [
      "A\n",
      " [[1 2 3]\n",
      " [4 5 6]]\n",
      "\n",
      "A data\n",
      " [1 2 3 4 5 6]\n",
      "\n",
      "B\n",
      " [[1 4]\n",
      " [2 5]\n",
      " [3 6]]\n",
      "\n",
      "B data\n",
      " [1 4 2 5 3 6]\n"
     ]
    }
   ],
   "source": [
    "\n",
    "A = np.array([[1, 2, 3], [4, 5, 6]])\n",
    "print('A\\n', A)\n",
    "print('\\nA data\\n', A.ravel())\n",
    "\n",
    "B = A.T\n",
    "print('\\nB\\n', B)\n",
    "print('\\nB data\\n', B.ravel())"
   ]
  },
  {
   "cell_type": "markdown",
   "id": "2ca08af0",
   "metadata": {},
   "source": [
    "В этом примере для транспонирования матрицы A использовалась конструкция A.T. Оператор транспонирования инвертирует порядок осей. Рассмотрим еще один пример с тремя осями:"
   ]
  },
  {
   "cell_type": "code",
   "execution_count": 52,
   "id": "b3265140",
   "metadata": {},
   "outputs": [
    {
     "name": "stdout",
     "output_type": "stream",
     "text": [
      "(4, 3, 2) (2, 3, 4)\n",
      "\n",
      "[[0 1]\n",
      " [2 3]\n",
      " [4 5]]\n",
      "\n",
      "[[0 2 4]\n",
      " [1 3 5]]\n"
     ]
    }
   ],
   "source": [
    "C = np.arange(24).reshape(4, -1, 2)\n",
    "\n",
    "print(C.shape, np.transpose(C).shape)\n",
    "print()\n",
    "print(C[0])\n",
    "print()\n",
    "print(C.T[:, :, 0])"
   ]
  },
  {
   "cell_type": "markdown",
   "id": "b6ad7a74",
   "metadata": {},
   "source": [
    "У этой короткой записи есть более длинный аналог: np.transpose(A). Это более универсальный инструмент для замены порядка осей. Вторым параметром можно задать кортеж номеров осей исходного массива, определяющий порядок их положения в результирующем массиве."
   ]
  },
  {
   "cell_type": "markdown",
   "id": "b054add9",
   "metadata": {},
   "source": [
    "# Объединение массивов\n",
    "\n",
    "Объединяемые массивы должны иметь одинаковое количество осей. Объединять массивы можно с образованием новой оси, либо вдоль уже существующей.\n",
    "\n",
    "Для объединения с образованием новой оси исходные массивы должны иметь одинаковые размеры вдоль всех осей:"
   ]
  },
  {
   "cell_type": "code",
   "execution_count": 53,
   "id": "009b2a42",
   "metadata": {},
   "outputs": [
    {
     "name": "stdout",
     "output_type": "stream",
     "text": [
      "(3, 2, 4)\n"
     ]
    },
    {
     "data": {
      "text/plain": [
       "array([[[1, 2, 3, 4],\n",
       "        [5, 6, 7, 8]],\n",
       "\n",
       "       [[5, 6, 7, 8],\n",
       "        [1, 2, 3, 4]],\n",
       "\n",
       "       [[4, 3, 2, 1],\n",
       "        [8, 7, 6, 5]]])"
      ]
     },
     "execution_count": 53,
     "metadata": {},
     "output_type": "execute_result"
    }
   ],
   "source": [
    "A = np.array([[1, 2, 3, 4], [5, 6, 7, 8]])\n",
    "B = A[::-1]\n",
    "C = A[:, ::-1]\n",
    "\n",
    "D = np.stack((A, B, C))\n",
    "print(D.shape)\n",
    "D"
   ]
  },
  {
   "cell_type": "markdown",
   "id": "50263277",
   "metadata": {},
   "source": [
    "Как видно из примера, массивы-операнды стали подмассивами нового объекта и выстроились вдоль новой оси, которая стоит самой первой по порядку.\n",
    "\n",
    "Для объединения массивов вдоль существующей оси, они должны иметь одинаковый размер по всем осям, кроме выбранной для объединения, а по ней могут иметь произвольные размеры:"
   ]
  },
  {
   "cell_type": "code",
   "execution_count": 54,
   "id": "9dcb1f48",
   "metadata": {},
   "outputs": [
    {
     "name": "stdout",
     "output_type": "stream",
     "text": [
      "(2, 4, 2)\n"
     ]
    },
    {
     "data": {
      "text/plain": [
       "array([[[1., 1.],\n",
       "        [0., 0.],\n",
       "        [0., 0.],\n",
       "        [0., 0.]],\n",
       "\n",
       "       [[1., 1.],\n",
       "        [0., 0.],\n",
       "        [0., 0.],\n",
       "        [0., 0.]]])"
      ]
     },
     "execution_count": 54,
     "metadata": {},
     "output_type": "execute_result"
    }
   ],
   "source": [
    "A = np.ones((2, 1, 2))\n",
    "B = np.zeros((2, 3, 2))\n",
    "\n",
    "C = np.concatenate((A, B), 1)\n",
    "print(C.shape)\n",
    "C"
   ]
  },
  {
   "cell_type": "markdown",
   "id": "d296ab1b",
   "metadata": {},
   "source": [
    "Для объединения по первой или второй оси можно использовать методы vstack и hstack соответсвенно.\n",
    "\n",
    "Обратите внимание на то, что происходит с памятью, при объединении массивов:"
   ]
  },
  {
   "cell_type": "code",
   "execution_count": 55,
   "id": "4fd961c4",
   "metadata": {},
   "outputs": [
    {
     "name": "stdout",
     "output_type": "stream",
     "text": [
      "[[1 2 3 4]\n",
      " [5 6 7 8]]\n"
     ]
    }
   ],
   "source": [
    "A = np.array([[1, 2, 3, 4], [5, 6, 7, 8]])\n",
    "B = A[::-1]\n",
    "C = A[:, ::-1]\n",
    "\n",
    "D = np.stack((A, B, C))\n",
    "D[0, 0, 0] = 0\n",
    "print(A)"
   ]
  },
  {
   "cell_type": "markdown",
   "id": "eeb6c187",
   "metadata": {},
   "source": [
    "Так как создается новый объект, данные в него копируются из исходных массивов, поэтому изменения в новых данных не влияют на исходные"
   ]
  },
  {
   "cell_type": "markdown",
   "id": "618840da",
   "metadata": {},
   "source": [
    "# Клонирование данных\n",
    "\n",
    "Оператор np.repeat(A, n) вернет одномерный массив с элементами массива A, каждый из которых будет повторен n раз."
   ]
  },
  {
   "cell_type": "code",
   "execution_count": 56,
   "id": "8255d91f",
   "metadata": {},
   "outputs": [
    {
     "name": "stdout",
     "output_type": "stream",
     "text": [
      "[1 1 2 2 3 3 4 4 5 5 6 6 7 7 8 8]\n"
     ]
    }
   ],
   "source": [
    "A = np.array([[1, 2, 3, 4], [5, 6, 7, 8]])\n",
    "print(np.repeat(A, 2))"
   ]
  },
  {
   "cell_type": "markdown",
   "id": "2e0e3e03",
   "metadata": {},
   "source": [
    "После этого преобразования, можно перестроить геометрию массива и собрать повторяющиеся данные в одну ось:"
   ]
  },
  {
   "cell_type": "code",
   "execution_count": 57,
   "id": "fe8da728",
   "metadata": {},
   "outputs": [
    {
     "name": "stdout",
     "output_type": "stream",
     "text": [
      "[[[1 1]\n",
      "  [2 2]\n",
      "  [3 3]\n",
      "  [4 4]]\n",
      "\n",
      " [[5 5]\n",
      "  [6 6]\n",
      "  [7 7]\n",
      "  [8 8]]]\n"
     ]
    }
   ],
   "source": [
    "A = np.array([[1, 2, 3, 4], [5, 6, 7, 8]])\n",
    "B = np.repeat(A, 2).reshape(A.shape[0], A.shape[1], -1)\n",
    "print(B)"
   ]
  },
  {
   "cell_type": "markdown",
   "id": "cf259bf8",
   "metadata": {},
   "source": [
    "Этот вариант отличается от объединения массива с самим собой оператором stack только положением оси, вдоль которой стоят одинаковые данные. В примере выше это последняя ось, если использовать stack — первая:"
   ]
  },
  {
   "cell_type": "code",
   "execution_count": 58,
   "id": "7909aa16",
   "metadata": {},
   "outputs": [
    {
     "name": "stdout",
     "output_type": "stream",
     "text": [
      "[[[1 2 3 4]\n",
      "  [5 6 7 8]]\n",
      "\n",
      " [[1 2 3 4]\n",
      "  [5 6 7 8]]]\n"
     ]
    }
   ],
   "source": [
    "A = np.array([[1, 2, 3, 4], [5, 6, 7, 8]])\n",
    "B = np.stack((A, A))\n",
    "print(B)"
   ]
  },
  {
   "cell_type": "markdown",
   "id": "d6cf5a46",
   "metadata": {},
   "source": [
    "Как бы ни было выполнено клонирование данных, следующим шагом можно переместить ось, вдоль которой стоят одинаковые значения, в любую позицию в системе осей:\n"
   ]
  },
  {
   "cell_type": "code",
   "execution_count": 59,
   "id": "86a8771f",
   "metadata": {},
   "outputs": [
    {
     "name": "stdout",
     "output_type": "stream",
     "text": [
      "B\n",
      " [[[1 2 3 4]\n",
      "  [1 2 3 4]]\n",
      "\n",
      " [[5 6 7 8]\n",
      "  [5 6 7 8]]]\n",
      "\n",
      "C\n",
      " [[[1 2 3 4]\n",
      "  [1 2 3 4]]\n",
      "\n",
      " [[5 6 7 8]\n",
      "  [5 6 7 8]]]\n"
     ]
    }
   ],
   "source": [
    "A = np.array([[1, 2, 3, 4], [5, 6, 7, 8]])\n",
    "\n",
    "B = np.transpose(np.stack((A, A)), (1, 0, 2))\n",
    "C = np.transpose(np.repeat(A, 2).reshape(A.shape[0], A.shape[1], -1), (0, 2, 1))\n",
    "\n",
    "print('B\\n', B)\n",
    "print('\\nC\\n', C)"
   ]
  },
  {
   "cell_type": "markdown",
   "id": "2bc4ab12",
   "metadata": {},
   "source": [
    "# Математические операции над элементами массива\n",
    "\n",
    "\n",
    "Если A и B массивы одинакового размера, то их можно складывать, умножать, вычитать, делить и возводить в степень. \n",
    "\n",
    "Эти операции выполняются поэлементно, результирующий массив будет совпадать по геометрии с исходными массивами, а каждый его элемент будет результатом выполнения соответствующей операции над парой элементов из исходных массивов.\n"
   ]
  },
  {
   "cell_type": "code",
   "execution_count": 60,
   "id": "2aee55ae",
   "metadata": {},
   "outputs": [
    {
     "name": "stdout",
     "output_type": "stream",
     "text": [
      "+\n",
      " [[ 0.  0.  0.]\n",
      " [11. 13. 15.]\n",
      " [11. 13. 15.]] \n",
      "\n",
      "-\n",
      " [[-2.  4.  6.]\n",
      " [-3. -3. -3.]\n",
      " [ 3.  3.  3.]] \n",
      "\n",
      "*\n",
      " [[-1. -4. -9.]\n",
      " [28. 40. 54.]\n",
      " [28. 40. 54.]] \n",
      "\n",
      "/\n",
      " [[-1.         -1.         -1.        ]\n",
      " [ 0.57142857  0.625       0.66666667]\n",
      " [ 1.75        1.6         1.5       ]] \n",
      "\n",
      "**\n",
      " [[-1.0000000e+00  2.5000000e-01  3.7037037e-02]\n",
      " [ 1.6384000e+04  3.9062500e+05  1.0077696e+07]\n",
      " [ 2.4010000e+03  3.2768000e+04  5.3144100e+05]] \n",
      "\n"
     ]
    }
   ],
   "source": [
    "A = np.array([[-1., 2., 3.], [4., 5., 6.], [7., 8., 9.]])\n",
    "B = np.array([[1., -2., -3.], [7., 8., 9.], [4., 5., 6.], ])\n",
    "\n",
    "C = A + B\n",
    "D = A - B\n",
    "E = A * B\n",
    "F = A / B\n",
    "G = A ** B\n",
    "\n",
    "print('+\\n', C, '\\n')\n",
    "print('-\\n', D, '\\n')\n",
    "print('*\\n', E, '\\n')\n",
    "print('/\\n', F, '\\n')\n",
    "print('**\\n', G, '\\n')\n"
   ]
  },
  {
   "cell_type": "markdown",
   "id": "6fffb957",
   "metadata": {},
   "source": [
    "Можно выполнить любую операцию из приведенных выше над массивом и числом. В этом случае операция также выполнится над каждым из элементов массива:"
   ]
  },
  {
   "cell_type": "code",
   "execution_count": 61,
   "id": "8191f94e",
   "metadata": {},
   "outputs": [
    {
     "name": "stdout",
     "output_type": "stream",
     "text": [
      "+\n",
      " [[-3.  0.  1.]\n",
      " [ 2.  3.  4.]\n",
      " [ 5.  6.  7.]] \n",
      "\n",
      "-\n",
      " [[ 1.  4.  5.]\n",
      " [ 6.  7.  8.]\n",
      " [ 9. 10. 11.]] \n",
      "\n",
      "*\n",
      " [[  2.  -4.  -6.]\n",
      " [ -8. -10. -12.]\n",
      " [-14. -16. -18.]] \n",
      "\n",
      "/\n",
      " [[ 0.5 -1.  -1.5]\n",
      " [-2.  -2.5 -3. ]\n",
      " [-3.5 -4.  -4.5]] \n",
      "\n",
      "**\n",
      " [[1.         0.25       0.11111111]\n",
      " [0.0625     0.04       0.02777778]\n",
      " [0.02040816 0.015625   0.01234568]] \n",
      "\n"
     ]
    }
   ],
   "source": [
    "A = np.array([[-1., 2., 3.], [4., 5., 6.], [7., 8., 9.]])\n",
    "B = -2.\n",
    "\n",
    "C = A + B\n",
    "D = A - B\n",
    "E = A * B\n",
    "F = A / B\n",
    "G = A ** B\n",
    "\n",
    "print('+\\n', C, '\\n')\n",
    "print('-\\n', D, '\\n')\n",
    "print('*\\n', E, '\\n')\n",
    "print('/\\n', F, '\\n')\n",
    "print('**\\n', G, '\\n')"
   ]
  },
  {
   "cell_type": "markdown",
   "id": "cec553bd",
   "metadata": {},
   "source": [
    "Учитывая, что многомерный массив можно рассматривать как плоский массив (первая ось), элементы которого — массивы (остальные оси), возможно выполнение рассматриваемых операций над массивами A и B в случае, когда геометрия B совпадает с геометрией подмассивов A при фиксированном значении по первой оси. Иными словами, при совпадающем количестве осей и размерах A[i] и B. Этом случае каждый из массивов A[i] и B будут операндами для операций, определенных над массивами.\n"
   ]
  },
  {
   "cell_type": "code",
   "execution_count": 62,
   "id": "736629e7",
   "metadata": {},
   "outputs": [
    {
     "name": "stdout",
     "output_type": "stream",
     "text": [
      "+\n",
      " [[-0.1  2.8  5.7]\n",
      " [ 0.9  3.8  6.7]\n",
      " [ 1.9  4.8  7.7]] \n",
      "\n",
      "-\n",
      " [[ 2.1  5.2  8.3]\n",
      " [ 3.1  6.2  9.3]\n",
      " [ 4.1  7.2 10.3]] \n",
      "\n",
      "*\n",
      " [[ -1.1  -4.8  -9.1]\n",
      " [ -2.2  -6.  -10.4]\n",
      " [ -3.3  -7.2 -11.7]] \n",
      "\n",
      "/\n",
      " [[-0.90909091 -3.33333333 -5.38461538]\n",
      " [-1.81818182 -4.16666667 -6.15384615]\n",
      " [-2.72727273 -5.         -6.92307692]] \n",
      "\n",
      "**\n",
      " [[1.         0.18946457 0.07968426]\n",
      " [0.4665165  0.14495593 0.06698584]\n",
      " [0.29865282 0.11647119 0.05747576]] \n",
      "\n"
     ]
    }
   ],
   "source": [
    "A = np.array([[1., 2., 3.], [4., 5., 6.], [7., 8., 9.]])\n",
    "B = np.array([-1.1, -1.2, -1.3])\n",
    "\n",
    "C = A.T + B\n",
    "D = A.T - B\n",
    "E = A.T * B\n",
    "F = A.T / B\n",
    "G = A.T ** B\n",
    "\n",
    "print('+\\n', C, '\\n')\n",
    "print('-\\n', D, '\\n')\n",
    "print('*\\n', E, '\\n')\n",
    "print('/\\n', F, '\\n')\n",
    "print('**\\n', G, '\\n')"
   ]
  },
  {
   "cell_type": "markdown",
   "id": "2b8c07b1",
   "metadata": {},
   "source": [
    "В этом примере массив B подвергается операции с каждой строкой массива A. При необходимости умножения/деления/сложения/вычитания/возведения степень подмассивов вдоль другой оси, необходимо использовать транспонирование, чтобы поставить нужную ось на место первой, а затем вернуть ее на свое место. Рассмотри пример выше, но с умножением на вектор B столбцов массива A:"
   ]
  },
  {
   "cell_type": "code",
   "execution_count": 63,
   "id": "4ac1b586",
   "metadata": {},
   "outputs": [
    {
     "name": "stdout",
     "output_type": "stream",
     "text": [
      "+\n",
      " [[-0.1  0.9  1.9]\n",
      " [ 2.8  3.8  4.8]\n",
      " [ 5.7  6.7  7.7]] \n",
      "\n",
      "-\n",
      " [[ 2.1  3.1  4.1]\n",
      " [ 5.2  6.2  7.2]\n",
      " [ 8.3  9.3 10.3]] \n",
      "\n",
      "*\n",
      " [[ -1.1  -2.2  -3.3]\n",
      " [ -4.8  -6.   -7.2]\n",
      " [ -9.1 -10.4 -11.7]] \n",
      "\n",
      "/\n",
      " [[-0.90909091 -1.81818182 -2.72727273]\n",
      " [-3.33333333 -4.16666667 -5.        ]\n",
      " [-5.38461538 -6.15384615 -6.92307692]] \n",
      "\n",
      "**\n",
      " [[1.         0.4665165  0.29865282]\n",
      " [0.18946457 0.14495593 0.11647119]\n",
      " [0.07968426 0.06698584 0.05747576]] \n",
      "\n"
     ]
    }
   ],
   "source": [
    "A = np.array([[1., 2., 3.], [4., 5., 6.], [7., 8., 9.]])\n",
    "B = np.array([-1.1, -1.2, -1.3])\n",
    "\n",
    "C = (A.T + B).T\n",
    "D = (A.T - B).T\n",
    "E = (A.T * B).T\n",
    "F = (A.T / B).T\n",
    "G = (A.T ** B).T\n",
    "\n",
    "print('+\\n', C, '\\n')\n",
    "print('-\\n', D, '\\n')\n",
    "print('*\\n', E, '\\n')\n",
    "print('/\\n', F, '\\n')\n",
    "print('**\\n', G, '\\n')"
   ]
  },
  {
   "cell_type": "markdown",
   "id": "e2eb81e5",
   "metadata": {},
   "source": [
    "Применение более сложных функций (например, для тригонометрических, экспоненты, логарифма, преобразования между градусами и радианами, модуля, корня квадратного и.д.)."
   ]
  },
  {
   "cell_type": "code",
   "execution_count": 64,
   "id": "17411f9e",
   "metadata": {},
   "outputs": [
    {
     "name": "stdout",
     "output_type": "stream",
     "text": [
      "A [[1. 2. 3.]\n",
      " [4. 5. 6.]\n",
      " [7. 8. 9.]] \n",
      "\n",
      "B [[2.71828183e+00 7.38905610e+00 2.00855369e+01]\n",
      " [5.45981500e+01 1.48413159e+02 4.03428793e+02]\n",
      " [1.09663316e+03 2.98095799e+03 8.10308393e+03]] \n",
      "\n",
      "C [[1. 2. 3.]\n",
      " [4. 5. 6.]\n",
      " [7. 8. 9.]] \n",
      "\n"
     ]
    }
   ],
   "source": [
    "A = np.array([[1., 2., 3.], [4., 5., 6.], [7., 8., 9.]])\n",
    "B = np.exp(A)\n",
    "C = np.log(B)\n",
    "\n",
    "print('A', A, '\\n')\n",
    "print('B', B, '\\n')\n",
    "print('C', C, '\\n')"
   ]
  },
  {
   "cell_type": "markdown",
   "id": "faf881ed",
   "metadata": {},
   "source": [
    "Список функций https://numpy.org/doc/stable/reference/routines.math.html"
   ]
  },
  {
   "cell_type": "markdown",
   "id": "8660bf90",
   "metadata": {},
   "source": [
    "# Матричное умножение\n",
    "\n",
    "Описанная выше операция произведения массивов выполняется поэлементно. А при необходимости выполнения операций по правилам линейной алгебры над массивами как над тензорами можно воспользоваться методом dot(A, B). В зависимости от вида операндов, функция выполнит:\n",
    "\n",
    "1. если аргументы скаляры (числа), то выполнится умножение;\n",
    "1. если аргументы вектор (одномерный массив) и скаляр, то выполнится умножение массива на число;\n",
    "1. если аргументы вектора, то выполнится скалярное умножение (сумма поэлементных произведений);\n",
    "1. если аргументы тензор (многомерный массив) и скаляр, то выполнится умножение вектора на число;\n",
    "1. если аргументы тензора, то выполнится произведение тензоров по последней оси первого аргумента и предпоследней — второго;\n",
    "1. если аргументы матрицы, то выполнится произведение матриц (это частный случай произведения тензоров);\n",
    "1. если аргументы матрица и вектор, то выполнится произведение матрицы и вектора (это тоже частный случай произведения тензоров).\n",
    "\n",
    "Для выполнения операций должны совпадать соответсвующие размеры: для векторов длины, для тензоров — длины вдоль осей, по которым будет происходить суммирование поэлементных произведений."
   ]
  },
  {
   "cell_type": "code",
   "execution_count": 65,
   "id": "afb04750",
   "metadata": {},
   "outputs": [
    {
     "name": "stdout",
     "output_type": "stream",
     "text": [
      "6 \n",
      "\n",
      "[ 6.  9. 12.] \n",
      "\n",
      "-5.0 \n",
      "\n",
      "[[ 4.  6.  8.]\n",
      " [10. 12. 14.]] \n",
      "\n"
     ]
    }
   ],
   "source": [
    "# скаляры\n",
    "A = 2\n",
    "B = 3\n",
    "\n",
    "print(np.dot(A, B), '\\n')\n",
    "\n",
    "# вектор и скаляр\n",
    "A = np.array([2., 3., 4.])\n",
    "B = 3\n",
    "\n",
    "print(np.dot(A, B), '\\n')\n",
    "\n",
    "# вектора\n",
    "A = np.array([2., 3., 4.])\n",
    "B = np.array([-2., 1., -1.])\n",
    "\n",
    "print(np.dot(A, B), '\\n')\n",
    "\n",
    "# тензор и скаляр\n",
    "A = np.array([[2., 3., 4.], [5., 6., 7.]])\n",
    "B = 2\n",
    "\n",
    "print(np.dot(A, B), '\\n')\n"
   ]
  },
  {
   "cell_type": "markdown",
   "id": "6df2d0f0",
   "metadata": {},
   "source": [
    "С тензорами посмотрим только на то, как меняется размер геометрия результирующего массива:"
   ]
  },
  {
   "cell_type": "code",
   "execution_count": 66,
   "id": "ed586fbb",
   "metadata": {},
   "outputs": [
    {
     "name": "stdout",
     "output_type": "stream",
     "text": [
      "A: (5, 6) \n",
      "B: (6,) \n",
      "result: (5,) \n",
      "\n",
      "\n",
      "A: (5, 6) \n",
      "B: (6, 7) \n",
      "result: (5, 7) \n",
      "\n",
      "\n",
      "A: (5, 6, 7, 8) \n",
      "B: (1, 2, 3, 8, 4) \n",
      "result: (5, 6, 7, 1, 2, 3, 4) \n",
      "\n",
      "\n"
     ]
    }
   ],
   "source": [
    "# матрица (тензор 2) и вектор (тензор 1)\n",
    "A = np.ones((5, 6))\n",
    "B = np.ones(6)\n",
    "\n",
    "print('A:', A.shape, '\\nB:', B.shape, '\\nresult:', np.dot(A, B).shape, '\\n\\n')\n",
    "\n",
    "# матрицы (тензора 2)\n",
    "A = np.ones((5, 6))\n",
    "B = np.ones((6, 7))\n",
    "\n",
    "print('A:', A.shape, '\\nB:', B.shape, '\\nresult:', np.dot(A, B).shape, '\\n\\n')\n",
    "\n",
    "# многомерные тензора\n",
    "A = np.ones((5, 6, 7, 8))\n",
    "B = np.ones((1, 2, 3, 8, 4))\n",
    "\n",
    "print('A:', A.shape, '\\nB:', B.shape, '\\nresult:', np.dot(A, B).shape, '\\n\\n')"
   ]
  },
  {
   "cell_type": "markdown",
   "id": "35a87f41",
   "metadata": {},
   "source": [
    "Для выполнения произведения тензоров с использованием других осей, вместо определенных для dot можно воспользоваться tensordot с явным указанием осей:"
   ]
  },
  {
   "cell_type": "code",
   "execution_count": 67,
   "id": "6eea9a23",
   "metadata": {},
   "outputs": [
    {
     "name": "stdout",
     "output_type": "stream",
     "text": [
      "A: (1, 3, 7, 4) \n",
      "B: (5, 7, 6, 7, 8) \n",
      "result: (1, 3, 4, 5, 6, 7, 8) \n",
      "\n",
      "\n"
     ]
    }
   ],
   "source": [
    "# Мы явно указали, что используем третью ось первого массива и вторую — второго (размеры по этим осям должны совпадать).\n",
    "\n",
    "A = np.ones((1, 3, 7, 4))\n",
    "B = np.ones((5, 7, 6, 7, 8))\n",
    "\n",
    "print('A:', A.shape, '\\nB:', B.shape, '\\nresult:', np.tensordot(A, B, [2, 1]).shape, '\\n\\n')\n"
   ]
  },
  {
   "cell_type": "markdown",
   "id": "2ccb045f",
   "metadata": {},
   "source": [
    "# Агрегаторы\n",
    "\n",
    "Агрегаторы — это методы NumPy позволяющие заменять данные интегральными характеристиками вдоль некоторых осей. Например, можно посчитать среднее значение, максимальное, минимальное, вариацию или еще какую-то характеристику вдоль какой-либо оси или осей и сформировать из этих данных новый массив. Форма нового массива будет содержать все оси исходного массива, кроме тех, вдоль которых подсчитывался агрегатор.\n",
    "\n",
    "\n",
    "Список агрегаторов выглядит примерно так:\n",
    "\n",
    "1. сумма: sum и nansum — вариант корректно обходящийся с nan;\n",
    "1. произведение: prod и nanprod;\n",
    "1. среднее и матожидание: average и mean (nanmean), nanaverage нету;\n",
    "1. медиана: median и nanmedian;\n",
    "1. перцентиль: percentile и nanpercentile;\n",
    "1. вариация: var и nanvar;\n",
    "1. стандартное отклонение (квадратный корень из вариации): std и nanstd;\n",
    "1. минимальное значение: min и nanmin;\n",
    "1. максимальное значение: max и nanmax;\n",
    "1. индекс элемента, имеющего минимальное значение: argmin и nanargmin;\n",
    "1. индекс элемента, имеющего максимальное значение: argmax и nanargmax.\n",
    "\n",
    "\n",
    "\n",
    "Для примера, сформируем массив со случайными значениями. Затем найдем минимальное, максимальное и среднее значение в его столбцах:"
   ]
  },
  {
   "cell_type": "code",
   "execution_count": 72,
   "id": "c0d696c6",
   "metadata": {},
   "outputs": [
    {
     "name": "stdout",
     "output_type": "stream",
     "text": [
      "A\n",
      " [[0.59594834 0.70608089 0.26974038 0.17424988 0.6007721 ]\n",
      " [0.92810472 0.35347176 0.19060905 0.36699933 0.53659135]\n",
      " [0.75699332 0.22580619 0.94657887 0.02176047 0.31991132]\n",
      " [0.69946055 0.80295771 0.79003646 0.92521458 0.39708198]] \n",
      "\n",
      "min\n",
      " [0.59594834 0.22580619 0.19060905 0.02176047 0.31991132] \n",
      "\n",
      "max\n",
      " [0.92810472 0.80295771 0.94657887 0.92521458 0.6007721 ] \n",
      "\n",
      "mean\n",
      " [0.74512673 0.52207914 0.54924119 0.37205606 0.46358919] \n",
      "\n",
      "average\n",
      " [0.74512673 0.52207914 0.54924119 0.37205606 0.46358919] \n",
      "\n"
     ]
    }
   ],
   "source": [
    "A = np.random.rand(4, 5)\n",
    "\n",
    "print('A\\n', A, '\\n')\n",
    "\n",
    "print('min\\n', np.min(A, 0), '\\n')\n",
    "print('max\\n', np.max(A, 0), '\\n')\n",
    "print('mean\\n', np.mean(A, 0), '\\n')\n",
    "print('average\\n', np.average(A, 0), '\\n')"
   ]
  },
  {
   "cell_type": "markdown",
   "id": "60b48fc1",
   "metadata": {},
   "source": [
    "При таком использовании mean и average выглядят синонимами. Но эти функции обладают разным набором дополнительных параметров. У них разные возможности по маскированию и взвешиванию усредняемых данных.\n",
    "\n",
    "Можно подсчитать интегральные характеристики и по нескольким осям:"
   ]
  },
  {
   "cell_type": "code",
   "execution_count": 73,
   "id": "d6a56c04",
   "metadata": {},
   "outputs": [
    {
     "name": "stdout",
     "output_type": "stream",
     "text": [
      "sum\n",
      " [50. 50. 50. 50.] \n",
      "\n",
      "min\n",
      " [1. 1. 1. 1.] \n",
      "\n",
      "max\n",
      " [1. 1. 1. 1.] \n",
      "\n",
      "mean\n",
      " [1. 1. 1. 1.] \n",
      "\n"
     ]
    }
   ],
   "source": [
    "A = np.ones((10, 4, 5))\n",
    "\n",
    "print('sum\\n', np.sum(A, (0, 2)), '\\n')\n",
    "print('min\\n', np.min(A, (0, 2)), '\\n')\n",
    "print('max\\n', np.max(A, (0, 2)), '\\n')\n",
    "print('mean\\n', np.mean(A, (0, 2)), '\\n')"
   ]
  },
  {
   "cell_type": "markdown",
   "id": "4d3f813c",
   "metadata": {},
   "source": [
    "В случае использования argmin и argmax (соответственно, и nanargmin, и nanargmax) необходимо указывать одну ось, вдоль которой будет считаться характеристика.\n",
    "\n",
    "Если не указать оси, то по умолчанию все рассматриваемые характеристики считаются по всему массиву. В этом случае argmin и argmax тоже корректно отработают и найдут индекс максимального или минимального элемента так, как буд-то все данные в массиве вытянуты вдоль одной оси командой ravel().\n",
    "\n",
    "Еще следует отметить, агрегирующие методы определены не только как методы модуля NumPy, но и для самих массивов: запись np.aggregator(A, axes) эквивалентна записи A.aggregator(axes), где под aggregator подразумевается одна из рассмотренных выше функций, а под axes — индексы осей."
   ]
  },
  {
   "cell_type": "code",
   "execution_count": 74,
   "id": "33e56680",
   "metadata": {},
   "outputs": [
    {
     "name": "stdout",
     "output_type": "stream",
     "text": [
      "sum\n",
      " [50. 50. 50. 50.] \n",
      "\n",
      "min\n",
      " [1. 1. 1. 1.] \n",
      "\n",
      "max\n",
      " [1. 1. 1. 1.] \n",
      "\n",
      "mean\n",
      " [1. 1. 1. 1.] \n",
      "\n"
     ]
    }
   ],
   "source": [
    "A = np.ones((10, 4, 5))\n",
    "\n",
    "print('sum\\n', A.sum((0, 2)), '\\n')\n",
    "print('min\\n', A.min((0, 2)), '\\n')\n",
    "print('max\\n', A.max((0, 2)), '\\n')\n",
    "print('mean\\n', A.mean((0, 2)), '\\n')"
   ]
  },
  {
   "cell_type": "markdown",
   "id": "329e4102",
   "metadata": {},
   "source": [
    "# Пример. Работа с изображением в NumPy"
   ]
  },
  {
   "cell_type": "code",
   "execution_count": 75,
   "id": "3fe0e9e4",
   "metadata": {},
   "outputs": [
    {
     "ename": "ModuleNotFoundError",
     "evalue": "No module named 'cv2'",
     "output_type": "error",
     "traceback": [
      "\u001b[1;31m---------------------------------------------------------------------------\u001b[0m",
      "\u001b[1;31mModuleNotFoundError\u001b[0m                       Traceback (most recent call last)",
      "Input \u001b[1;32mIn [75]\u001b[0m, in \u001b[0;36m<cell line: 1>\u001b[1;34m()\u001b[0m\n\u001b[1;32m----> 1\u001b[0m \u001b[38;5;28;01mimport\u001b[39;00m \u001b[38;5;21;01mcv2\u001b[39;00m\n\u001b[0;32m      2\u001b[0m \u001b[38;5;28;01mfrom\u001b[39;00m \u001b[38;5;21;01mmatplotlib\u001b[39;00m \u001b[38;5;28;01mimport\u001b[39;00m pyplot \u001b[38;5;28;01mas\u001b[39;00m plt\n\u001b[0;32m      4\u001b[0m I \u001b[38;5;241m=\u001b[39m cv2\u001b[38;5;241m.\u001b[39mimread(\u001b[38;5;124m'\u001b[39m\u001b[38;5;124msaratov.jpg\u001b[39m\u001b[38;5;124m'\u001b[39m)[:, :, ::\u001b[38;5;241m-\u001b[39m\u001b[38;5;241m1\u001b[39m]\n",
      "\u001b[1;31mModuleNotFoundError\u001b[0m: No module named 'cv2'"
     ]
    }
   ],
   "source": [
    "import cv2\n",
    "from matplotlib import pyplot as plt\n",
    "\n",
    "I = cv2.imread('saratov.jpg')[:, :, ::-1]\n",
    "plt.figure(num=None, figsize=(15, 15), dpi=80, facecolor='w', edgecolor='k')\n",
    "plt.imshow(I)\n",
    "plt.show()"
   ]
  },
  {
   "cell_type": "markdown",
   "id": "6e0bd719",
   "metadata": {},
   "source": [
    "OpenCV работает с изображениями в формате BGR, а нам привычен RGB. Мы меняем порядок байтов вдоль оси цвета без обращения к функциям OpenCV, используя конструкцию\n",
    "\"[:, :, ::-1]\"."
   ]
  },
  {
   "cell_type": "markdown",
   "id": "289a25eb",
   "metadata": {},
   "source": [
    "Уменьшим изображение в 2 раза по каждой оси. Наше изображение имеет четные размеры по осям, соответственно, может быть уменьшено без интерполяции:"
   ]
  },
  {
   "cell_type": "code",
   "execution_count": null,
   "id": "aa631aff",
   "metadata": {},
   "outputs": [],
   "source": [
    "I_ = I.reshape(I.shape[0] // 2, 2, I.shape[1] // 2, 2, -1)\n",
    "print(I_.shape)\n",
    "\n",
    "plt.figure(num=None, figsize=(10, 10), dpi=80, facecolor='w', edgecolor='k')\n",
    "plt.imshow(I_[:, 0, :, 0])\n",
    "plt.show()"
   ]
  },
  {
   "cell_type": "markdown",
   "id": "6985166f",
   "metadata": {},
   "source": [
    "Поменяв форму массива, мы получили 2 новые оси, по 2 значения в каждой, им соответствуют кадры, составленные из нечетных и четных строк и столбцов исходного изображения.\n",
    "Низкое качество свзано с использованием Matplotlib, за то там видны размеры по осям. "
   ]
  },
  {
   "cell_type": "code",
   "execution_count": null,
   "id": "a76f49bb",
   "metadata": {},
   "outputs": [],
   "source": [
    "# транспонирование\n",
    "I_ = np.transpose(I, (1, 0, 2))\n",
    "# I_ = np.swapaxes(I, 0, 1)\n",
    "\n",
    "plt.figure(num=None, figsize=(15, 15), dpi=80, facecolor='w', edgecolor='k')\n",
    "plt.imshow(I_)\n",
    "plt.show()"
   ]
  },
  {
   "cell_type": "code",
   "execution_count": null,
   "id": "1f1a4964",
   "metadata": {},
   "outputs": [],
   "source": [
    "# Объединение\n",
    "\n",
    "I = cv2.imread('saratov.jpg')[:, :, ::-1]\n",
    "\n",
    "I_ = I.reshape(I.shape[0] // 2, 2, I.shape[1] // 2, 2, -1)\n",
    "\n",
    "Ih = np.hstack((I_[:, 0, :, 0], I_[:, 0, :, 1]))\n",
    "Iv = np.vstack((I_[:, 0, :, 0], I_[:, 1, :, 0]))\n",
    "\n",
    "plt.figure(num=None, figsize=(10, 10), dpi=80, facecolor='w', edgecolor='k')\n",
    "plt.imshow(Ih)\n",
    "plt.show()\n",
    "\n",
    "plt.figure(num=None, figsize=(10, 10), dpi=80, facecolor='w', edgecolor='k')\n",
    "plt.imshow(Iv)\n",
    "plt.show()"
   ]
  },
  {
   "cell_type": "code",
   "execution_count": null,
   "id": "0b3b3401",
   "metadata": {},
   "outputs": [],
   "source": [
    "# Растяжение изображения вдоль вертикальной оси за счет дублирования строк:\n",
    "\n",
    "I0 = cv2.imread('saratov.jpg')[:, :, ::-1]     # загрузили большое изображение\n",
    "I1 = I.reshape(I.shape[0] // 2, 2, I.shape[1] // 2, 2, -1)[:, 0, :, 0]  # уменьшили вдвое по каждому измерению\n",
    "\n",
    "I2 = np.repeat(I1, 2)  # склонировали данные\n",
    "I3 = I2.reshape(I1.shape[0], I1.shape[1], I1.shape[2], -1)\n",
    "I4 = np.transpose(I3, (0, 3, 1, 2)) # поменяли порядок осей\n",
    "I5 = I4.reshape(-1, I1.shape[1], I1.shape[2]) # объединили оси\n",
    "\n",
    "print('I0', I0.shape)\n",
    "print('I1', I1.shape)\n",
    "print('I2', I2.shape)\n",
    "print('I3', I3.shape)\n",
    "print('I4', I4.shape)\n",
    "print('I5', I5.shape)\n",
    "\n",
    "plt.figure(num=None, figsize=(10, 10), dpi=80, facecolor='w', edgecolor='k')\n",
    "plt.imshow(I5)\n",
    "plt.show()"
   ]
  },
  {
   "cell_type": "code",
   "execution_count": null,
   "id": "e960961e",
   "metadata": {},
   "outputs": [],
   "source": []
  },
  {
   "cell_type": "code",
   "execution_count": null,
   "id": "3a6ab31c",
   "metadata": {},
   "outputs": [],
   "source": []
  },
  {
   "cell_type": "code",
   "execution_count": null,
   "id": "0df0c9e4",
   "metadata": {},
   "outputs": [],
   "source": []
  },
  {
   "cell_type": "code",
   "execution_count": null,
   "id": "95519702",
   "metadata": {},
   "outputs": [],
   "source": []
  },
  {
   "cell_type": "code",
   "execution_count": null,
   "id": "0eee572c",
   "metadata": {},
   "outputs": [],
   "source": []
  }
 ],
 "metadata": {
  "kernelspec": {
   "display_name": "Python 3 (ipykernel)",
   "language": "python",
   "name": "python3"
  },
  "language_info": {
   "codemirror_mode": {
    "name": "ipython",
    "version": 3
   },
   "file_extension": ".py",
   "mimetype": "text/x-python",
   "name": "python",
   "nbconvert_exporter": "python",
   "pygments_lexer": "ipython3",
   "version": "3.9.12"
  },
  "toc": {
   "base_numbering": 1,
   "nav_menu": {},
   "number_sections": true,
   "sideBar": true,
   "skip_h1_title": false,
   "title_cell": "Table of Contents",
   "title_sidebar": "Contents",
   "toc_cell": true,
   "toc_position": {},
   "toc_section_display": true,
   "toc_window_display": false
  }
 },
 "nbformat": 4,
 "nbformat_minor": 5
}
