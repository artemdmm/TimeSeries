{
 "cells": [
  {
   "cell_type": "markdown",
   "id": "d6cc481a",
   "metadata": {
    "toc": true
   },
   "source": [
    "<h1>Table of Contents<span class=\"tocSkip\"></span></h1>\n",
    "<div class=\"toc\"><ul class=\"toc-item\"><li><span><a href=\"#Функции-в-Python.--Термины-и-определения\" data-toc-modified-id=\"Функции-в-Python.--Термины-и-определения-1\"><span class=\"toc-item-num\">1&nbsp;&nbsp;</span>Функции в Python.  Термины и определения</a></span></li><li><span><a href=\"#Важность-функций\" data-toc-modified-id=\"Важность-функций-2\"><span class=\"toc-item-num\">2&nbsp;&nbsp;</span>Важность функций</a></span><ul class=\"toc-item\"><li><span><a href=\"#Абстракция\" data-toc-modified-id=\"Абстракция-2.1\"><span class=\"toc-item-num\">2.1&nbsp;&nbsp;</span>Абстракция</a></span></li><li><span><a href=\"#Возможность-повторного-использования\" data-toc-modified-id=\"Возможность-повторного-использования-2.2\"><span class=\"toc-item-num\">2.2&nbsp;&nbsp;</span>Возможность повторного использования</a></span></li><li><span><a href=\"#Модульность\" data-toc-modified-id=\"Модульность-2.3\"><span class=\"toc-item-num\">2.3&nbsp;&nbsp;</span>Модульность</a></span></li></ul></li><li><span><a href=\"#Область-видимости-функций\" data-toc-modified-id=\"Область-видимости-функций-3\"><span class=\"toc-item-num\">3&nbsp;&nbsp;</span>Область видимости функций</a></span><ul class=\"toc-item\"><li><span><a href=\"#Локальная\" data-toc-modified-id=\"Локальная-3.1\"><span class=\"toc-item-num\">3.1&nbsp;&nbsp;</span>Локальная</a></span></li><li><span><a href=\"#Область-объемлющих-функций\" data-toc-modified-id=\"Область-объемлющих-функций-3.2\"><span class=\"toc-item-num\">3.2&nbsp;&nbsp;</span>Область объемлющих функций</a></span></li><li><span><a href=\"#Глобальная\" data-toc-modified-id=\"Глобальная-3.3\"><span class=\"toc-item-num\">3.3&nbsp;&nbsp;</span>Глобальная</a></span></li></ul></li><li><span><a href=\"#Аргументы\" data-toc-modified-id=\"Аргументы-4\"><span class=\"toc-item-num\">4&nbsp;&nbsp;</span>Аргументы</a></span><ul class=\"toc-item\"><li><span><a href=\"#Позиционные\" data-toc-modified-id=\"Позиционные-4.1\"><span class=\"toc-item-num\">4.1&nbsp;&nbsp;</span>Позиционные</a></span></li><li><span><a href=\"#Именованные\" data-toc-modified-id=\"Именованные-4.2\"><span class=\"toc-item-num\">4.2&nbsp;&nbsp;</span>Именованные</a></span></li><li><span><a href=\"#Необязательные-параметры-(параметры-по-умолчанию)\" data-toc-modified-id=\"Необязательные-параметры-(параметры-по-умолчанию)-4.3\"><span class=\"toc-item-num\">4.3&nbsp;&nbsp;</span>Необязательные параметры (параметры по умолчанию)</a></span></li><li><span><a href=\"#Аргументы-переменной-длины-(args,-kwargs)\" data-toc-modified-id=\"Аргументы-переменной-длины-(args,-kwargs)-4.4\"><span class=\"toc-item-num\">4.4&nbsp;&nbsp;</span>Аргументы переменной длины (args, kwargs)</a></span></li><li><span><a href=\"#Передача-по-значению-и-по-ссылке\" data-toc-modified-id=\"Передача-по-значению-и-по-ссылке-4.5\"><span class=\"toc-item-num\">4.5&nbsp;&nbsp;</span>Передача по значению и по ссылке</a></span></li><li><span><a href=\"#Словарь-в-качестве-аргументов-(упаковка)\" data-toc-modified-id=\"Словарь-в-качестве-аргументов-(упаковка)-4.6\"><span class=\"toc-item-num\">4.6&nbsp;&nbsp;</span>Словарь в качестве аргументов (упаковка)</a></span></li></ul></li><li><span><a href=\"#Возвращаемые-значения-(return)\" data-toc-modified-id=\"Возвращаемые-значения-(return)-5\"><span class=\"toc-item-num\">5&nbsp;&nbsp;</span>Возвращаемые значения (return)</a></span><ul class=\"toc-item\"><li><span><a href=\"#Что-можно-возвращать\" data-toc-modified-id=\"Что-можно-возвращать-5.1\"><span class=\"toc-item-num\">5.1&nbsp;&nbsp;</span>Что можно возвращать</a></span></li><li><span><a href=\"#Распаковка-возвращаемых-значений\" data-toc-modified-id=\"Распаковка-возвращаемых-значений-5.2\"><span class=\"toc-item-num\">5.2&nbsp;&nbsp;</span>Распаковка возвращаемых значений</a></span></li></ul></li><li><span><a href=\"#Пустая-функция\" data-toc-modified-id=\"Пустая-функция-6\"><span class=\"toc-item-num\">6&nbsp;&nbsp;</span>Пустая функция</a></span></li><li><span><a href=\"#Чистые-функции-и-побочные-эффекты\" data-toc-modified-id=\"Чистые-функции-и-побочные-эффекты-7\"><span class=\"toc-item-num\">7&nbsp;&nbsp;</span>Чистые функции и побочные эффекты</a></span></li><li><span><a href=\"#Lambda-функции\" data-toc-modified-id=\"Lambda-функции-8\"><span class=\"toc-item-num\">8&nbsp;&nbsp;</span>Lambda функции</a></span></li><li><span><a href=\"#Время-выполнения-функции\" data-toc-modified-id=\"Время-выполнения-функции-9\"><span class=\"toc-item-num\">9&nbsp;&nbsp;</span>Время выполнения функции</a></span></li><li><span><a href=\"#Вложенные-функции-и-рекурсия\" data-toc-modified-id=\"Вложенные-функции-и-рекурсия-10\"><span class=\"toc-item-num\">10&nbsp;&nbsp;</span>Вложенные функции и рекурсия</a></span></li><li><span><a href=\"#Проверка-типов-параметров\" data-toc-modified-id=\"Проверка-типов-параметров-11\"><span class=\"toc-item-num\">11&nbsp;&nbsp;</span>Проверка типов параметров</a></span></li><li><span><a href=\"#Документирование\" data-toc-modified-id=\"Документирование-12\"><span class=\"toc-item-num\">12&nbsp;&nbsp;</span>Документирование</a></span></li></ul></div>"
   ]
  },
  {
   "cell_type": "markdown",
   "id": "aef86a25",
   "metadata": {},
   "source": [
    "# Функции в Python.  Термины и определения\n",
    "\n",
    "\n",
    "Функция в программировании, или подпрограмма — фрагмент программного кода, к которому можно обратиться из другого места программы.\n",
    "\n",
    "Функции в Python это объекты, принимающие аргументы и возвращающие значение. \n",
    "\n",
    "Функции определяются с помощью инструкции def\n",
    "\n",
    "Общий вид определения функций в python:"
   ]
  },
  {
   "cell_type": "code",
   "execution_count": null,
   "id": "2cc61238",
   "metadata": {},
   "outputs": [],
   "source": [
    "def <имя_функции>(<параметры>):\n",
    "    <тело функции>\n",
    "    return <возвращаемое значение>"
   ]
  },
  {
   "cell_type": "code",
   "execution_count": null,
   "id": "0e2f48b6",
   "metadata": {},
   "outputs": [],
   "source": [
    "# пример функции\n",
    "\n",
    "def sum(x, y):\n",
    "    return x + y"
   ]
  },
  {
   "cell_type": "markdown",
   "id": "5b33f622",
   "metadata": {},
   "source": [
    "Аргументы часто путают с параметрами:\n",
    "\n",
    "**Параметр** — это переменная, которой будет присваиваться входящее в функцию значение.\n",
    "\n",
    "**Аргумент** — само это значение, которое передается в функцию при её вызове.\n",
    "\n",
    "\n",
    "![image](img6/argsl.svg)"
   ]
  },
  {
   "cell_type": "markdown",
   "id": "0eab3dce",
   "metadata": {},
   "source": [
    "Функции позволяют упаковывать часть кода для его последующего повторного вызова. \n",
    "\n",
    "В примере выше определена функция с именем sum, которая принимает два параметра x и y, и возвращает результат их суммы. \n",
    "\n",
    "Обратившись к этой функции по имени и задав параметры, мы можем получить результат:"
   ]
  },
  {
   "cell_type": "code",
   "execution_count": null,
   "id": "9b47e1b8",
   "metadata": {},
   "outputs": [],
   "source": [
    "sum(34, 12)"
   ]
  },
  {
   "cell_type": "code",
   "execution_count": null,
   "id": "d3b64b96",
   "metadata": {},
   "outputs": [],
   "source": [
    "sum('abc', 'def')"
   ]
  },
  {
   "cell_type": "markdown",
   "id": "67d0e828",
   "metadata": {},
   "source": [
    "***Ключевая особенность функций — возможность возвращать значение***\n",
    "\n",
    "\n",
    "Инструкция **return** позволяет вернуть значение, которое нам необходимо. Это необходимо для того, чтобы получить определенный результат и затем дальше использовать его в программе.\n",
    "\n",
    "Функция может быть любой сложности, внутри конструкции **def -> return**, мы можем написать любой код. \n",
    "\n",
    "Смысл в функциях заключается в том, чтобы не писать один и тот же код повторно, а просто, в нужный момент, вызывать заранее написанную функцию. \n",
    "\n",
    "Так же функция может быть без параметров или может не возвращать какое-то конкретное значение или не заканчиваться инструкцией return вовсе:"
   ]
  },
  {
   "cell_type": "code",
   "execution_count": null,
   "id": "c5b91884",
   "metadata": {},
   "outputs": [],
   "source": [
    "def fun():\n",
    "    var = 'Python'\n",
    "    if len(var) >= 6:\n",
    "        print(var)\n",
    "    return                      # В этом случае функция вернет значение None"
   ]
  },
  {
   "cell_type": "code",
   "execution_count": null,
   "id": "91b019de",
   "metadata": {},
   "outputs": [],
   "source": [
    "d = fun()\n",
    "print(d)"
   ]
  },
  {
   "cell_type": "markdown",
   "id": "fd6526fb",
   "metadata": {},
   "source": [
    "Главная фишка возвращаемых значений в том, что их можно использовать в дальнейшем коде: \n",
    "присваивать переменным, совершать с ними разные операции и передавать как аргументы в другие функции.\n",
    "\n",
    "\n",
    "**Пример**\n",
    "\n",
    "Предположим, вы часто умножаете числа. Вы не осведомлены заранее, целые они или вещественные, но хотите, чтобы результат был целым всегда."
   ]
  },
  {
   "cell_type": "code",
   "execution_count": null,
   "id": "98a59b79",
   "metadata": {},
   "outputs": [],
   "source": [
    "# функция принимает два множителя, а возвращает их округленное \n",
    "# до целого числа произведение\n",
    "def int_multiple(a, b):\n",
    "    product = a * b\n",
    "    # возвращаем значение\n",
    "    return int(product)"
   ]
  },
  {
   "cell_type": "code",
   "execution_count": null,
   "id": "14fdaad0",
   "metadata": {},
   "outputs": [],
   "source": [
    "print(int_multiple(341, 2.7))"
   ]
  },
  {
   "cell_type": "code",
   "execution_count": null,
   "id": "ad38f13b",
   "metadata": {},
   "outputs": [],
   "source": [
    "import math\n",
    "\n",
    "# найдём квадратный корень из возврата функции int_multiple \n",
    "# во встроенную функцию sqrt() мы передали вызов int_multiple\n",
    "print(math.sqrt(int_multiple(44, 44)))"
   ]
  },
  {
   "cell_type": "markdown",
   "id": "0820f2b3",
   "metadata": {},
   "source": [
    "Код под инструкцией def будет относиться к функции до тех пор, пока он вложен в эту инструкцию, то есть отступает от def."
   ]
  },
  {
   "cell_type": "markdown",
   "id": "bebfdb75",
   "metadata": {},
   "source": [
    "При определении параметров функции можно указывать тип параметров и возвращаемого значения."
   ]
  },
  {
   "cell_type": "code",
   "execution_count": null,
   "id": "145f6110",
   "metadata": {},
   "outputs": [],
   "source": [
    "def my_mul(s: str, n: int) -> str:\n",
    "    return s * n"
   ]
  },
  {
   "cell_type": "code",
   "execution_count": null,
   "id": "468014db",
   "metadata": {},
   "outputs": [],
   "source": [
    "my_mul('abc', 5)"
   ]
  },
  {
   "cell_type": "code",
   "execution_count": null,
   "id": "7a62529a",
   "metadata": {},
   "outputs": [],
   "source": [
    "my_mul(4, 5)"
   ]
  },
  {
   "cell_type": "code",
   "execution_count": null,
   "id": "d527a226",
   "metadata": {},
   "outputs": [],
   "source": [
    "my_mul(3,'abc')"
   ]
  },
  {
   "cell_type": "code",
   "execution_count": null,
   "id": "69d46b0f",
   "metadata": {},
   "outputs": [],
   "source": [
    "my_mul(['abc','df'], 5)"
   ]
  },
  {
   "cell_type": "markdown",
   "id": "5ebfc223",
   "metadata": {},
   "source": [
    "# Важность функций\n",
    "\n",
    "## Абстракция\n",
    "\n",
    "Человек бежит, машина едет, корабль плывёт, а самолёт летит. Всё это — объекты реального мира, которые выполняют однотипные действия. В данном случае, они перемещаются во времени и пространстве. Мы можем абстрагироваться от их природы, и рассматривать эти объекты с точки зрения того, какое расстояние они преодолели, и сколько времени на это ушло.\n",
    "\n",
    "Мы можем написать функцию, которая вычисляет скорость в каждом конкретном случае. Нам не важно, кто совершает движение: и для человека и для самолёта средняя скорость будет рассчитываться одинаково.\n"
   ]
  },
  {
   "cell_type": "code",
   "execution_count": null,
   "id": "2db9e32b",
   "metadata": {},
   "outputs": [],
   "source": [
    "def calculate_speed(distance, time):\n",
    "    return distance / time"
   ]
  },
  {
   "cell_type": "markdown",
   "id": "e98734c6",
   "metadata": {},
   "source": [
    "Это простой пример и простая функция, но абстракции могут быть куда более сложными. И именно тогда раскрывается настоящая сила функций. Вместо того чтобы решать задачу для каждого конкретного случая, проще написать функцию, которая находит решение для целого ряда однотипных, в рамках применяемой абстракции, объектов. В случае сложных и длинных вычислений, это повлечёт за собой значительное сокращение объёмов кода, а значит и времени на его написание."
   ]
  },
  {
   "cell_type": "markdown",
   "id": "6f6c4b3a",
   "metadata": {},
   "source": [
    "## Возможность повторного использования\n",
    "\n",
    "Функции были созданы ради возможности их многократного применения. Код без функций превратился бы в огромное нечитаемое полотно, на порядки превышающее по длине аналогичную программу с их использованием. \n",
    "\n",
    "Например, при работе с массивами чисел, вам нужно часто их сортировать. Вместо того чтобы реализовать простой алгоритм сортировки (или использовать встроенную функцию), вам пришлось бы каждый раз перепечатывать тело этой или похожей функции:"
   ]
  },
  {
   "cell_type": "code",
   "execution_count": null,
   "id": "4f9d910e",
   "metadata": {},
   "outputs": [],
   "source": [
    "# пузырьковая сортировка\n",
    "def bubble_sort(nums):\n",
    "    for i in range(0, len(nums) - 1):\n",
    "        for j in range(len(nums) - 1):\n",
    "            if nums[j] > nums[j + 1]:\n",
    "                nums[j], nums[j + 1] = nums[j + 1], nums[j]\n",
    "    return nums"
   ]
  },
  {
   "cell_type": "markdown",
   "id": "739e3903",
   "metadata": {},
   "source": [
    "## Модульность\n",
    "\n",
    "\n",
    "Разбитие больших и сложных процессов на простые составляющие — важная часть, как кодинга, так и реальной жизни. В повседневности мы занимаемся этим неосознанно. Когда убираемся в квартире, мы пылесосим, моем полы и окна, очищаем поверхности от пыли и наводим блеск на всё блестящее. Всё это — составляющие одного большого процесса под названием \"уборка\", но каждую из них также можно разбить на более простые подпроцессы.\n",
    "\n",
    "В программировании модульность строится на использовании функций. Для каждой подзадачи — своя функция. Такая компоновка в разы улучшает читабельность кода и уменьшает сложность его дальнейшей поддержки.\n",
    "\n",
    "Допустим, мы работаем с базой данных. Нам нужна программа, которая считывает значения из базы, обрабатывает их, выводит результат на экран, а затем записывает его обратно в базу.\n",
    "\n",
    "Без применения модульности получится сплошная последовательность инструкций:"
   ]
  },
  {
   "cell_type": "code",
   "execution_count": null,
   "id": "3034d9fc",
   "metadata": {},
   "outputs": [],
   "source": [
    "# Database operation program\n",
    "\n",
    "# Код для чтения данных из базы\n",
    "# ...\n",
    "# ...\n",
    "\n",
    "# Код для выполнения операций над данными\n",
    "# ...\n",
    "# ...\n",
    "\n",
    "# Код для вывода результата\n",
    "# ...\n",
    "# ...\n",
    "\n",
    "# Код для записи данных в базу\n",
    "# ...\n",
    "# ..."
   ]
  },
  {
   "cell_type": "markdown",
   "id": "642efbe8",
   "metadata": {},
   "source": [
    "Но если вынести каждую операцию в отдельную функцию, то текст главной программы получится маленьким и аккуратным."
   ]
  },
  {
   "cell_type": "code",
   "execution_count": null,
   "id": "ea241473",
   "metadata": {},
   "outputs": [],
   "source": [
    "def read_from_db():\n",
    "    # Код для чтения данных из базы\n",
    "    # ...\n",
    "    # ...\n",
    "    # ...\n",
    "    pass\n",
    "\n",
    "def operate_with_data():\n",
    "    # Код для выполнения операций над данными\n",
    "    # ...\n",
    "    # ...\n",
    "    # ...\n",
    "    pass\n",
    "\n",
    "def print_result():\n",
    "    # Код для вывода результата\n",
    "    # ...\n",
    "    # ...\n",
    "    # ...\n",
    "    pass\n",
    "\n",
    "def write_to_db():\n",
    "    # Код для записи данных в базу\n",
    "    # ...\n",
    "    # ...\n",
    "    # ...\n",
    "    pass"
   ]
  },
  {
   "cell_type": "code",
   "execution_count": null,
   "id": "341a2eee",
   "metadata": {},
   "outputs": [],
   "source": [
    "# код основной программы\n",
    "# Database operation program\n",
    "read_from_db()\n",
    "operate_with_data()\n",
    "print_result()\n",
    "write_to_db()\n",
    "\n",
    "read_from_db()\n",
    "operate_with_data()\n",
    "write_to_db()\n"
   ]
  },
  {
   "cell_type": "markdown",
   "id": "e413b4bc",
   "metadata": {},
   "source": [
    "# Область видимости функций\n",
    "\n",
    "## Локальная\n",
    "\n",
    "Локальная область видимости находится внутри def:"
   ]
  },
  {
   "cell_type": "code",
   "execution_count": null,
   "id": "7b404e06",
   "metadata": {},
   "outputs": [],
   "source": [
    "def L():\n",
    "    # переменная i_am_local является локальной внутри L()\n",
    "    i_am_local = 5\n",
    "    print (i_am_local)"
   ]
  },
  {
   "cell_type": "code",
   "execution_count": null,
   "id": "b47f9d45",
   "metadata": {},
   "outputs": [],
   "source": [
    "i_am_local = 7\n",
    "\n",
    "L()\n",
    "\n",
    "print (i_am_local)"
   ]
  },
  {
   "cell_type": "markdown",
   "id": "8d785130",
   "metadata": {},
   "source": [
    "## Область объемлющих функций\n",
    "\n",
    "Объявили функцию e(). \n",
    "\n",
    "Внутри неё объявили функцию inner_e(). \n",
    "\n",
    "Относительно inner_e() все переменные, объявленные в e() будут относиться к области объемлющих функций. \n",
    "\n",
    "Такие переменные являются нелокальными в inner_e(). \n",
    "\n",
    "Чтобы с ними взаимодействовать, нужно использовать ключевое слово nonlocal: "
   ]
  },
  {
   "cell_type": "code",
   "execution_count": null,
   "id": "fe98217a",
   "metadata": {},
   "outputs": [],
   "source": [
    "def e():\n",
    "    x = 5\n",
    "\n",
    "    def inner_e():\n",
    "        nonlocal x\n",
    "        x = x + 1\n",
    "        return x\n",
    "\n",
    "    return inner_e()"
   ]
  },
  {
   "cell_type": "code",
   "execution_count": null,
   "id": "d44ad00a",
   "metadata": {},
   "outputs": [],
   "source": [
    "e()"
   ]
  },
  {
   "cell_type": "code",
   "execution_count": null,
   "id": "c91f0079",
   "metadata": {},
   "outputs": [],
   "source": [
    "inner_e()"
   ]
  },
  {
   "cell_type": "markdown",
   "id": "6904ef5b",
   "metadata": {},
   "source": [
    "## Глобальная\n",
    "\n",
    "Глобальная область видимости лежит за пределами всех def."
   ]
  },
  {
   "cell_type": "code",
   "execution_count": null,
   "id": "ce799c43",
   "metadata": {},
   "outputs": [],
   "source": [
    "num = 42\n",
    "ls = [2,3]\n",
    "\n",
    "\n",
    "def some_function(n):\n",
    "    res = n + num\n",
    "    ls[0] = [3,7]\n",
    "    return res"
   ]
  },
  {
   "cell_type": "code",
   "execution_count": null,
   "id": "d0573193",
   "metadata": {},
   "outputs": [],
   "source": [
    "print(some_function(1))"
   ]
  },
  {
   "cell_type": "code",
   "execution_count": null,
   "id": "6021cd26",
   "metadata": {},
   "outputs": [],
   "source": [
    "ls"
   ]
  },
  {
   "cell_type": "code",
   "execution_count": null,
   "id": "1d59d26a",
   "metadata": {},
   "outputs": [],
   "source": [
    "num = 42\n",
    "ls = [2,3]\n",
    "\n",
    "\n",
    "def some_function(n):\n",
    "    global ls     # теперь эта переменная внутри функции будет рассматриваться как глобальная\n",
    "    res = n + num\n",
    "    ls[0] = [3,7]\n",
    "    return res"
   ]
  },
  {
   "cell_type": "code",
   "execution_count": null,
   "id": "7a4cb602",
   "metadata": {},
   "outputs": [],
   "source": [
    "print(some_function(1))\n",
    "ls"
   ]
  },
  {
   "cell_type": "markdown",
   "id": "245ea671",
   "metadata": {},
   "source": [
    "# Аргументы\n",
    "\n",
    "## Позиционные\n",
    "\n",
    "Вспомним, аргумент — это конкретное значение, которое передаётся в функцию. Аргументом может быть любой объект. Он может передаваться, как в литеральной форме, так и в виде переменной.\n",
    "\n",
    "Значения в позиционных аргументах подставляются согласно позиции имён аргументов:"
   ]
  },
  {
   "cell_type": "code",
   "execution_count": null,
   "id": "164f870f",
   "metadata": {},
   "outputs": [],
   "source": [
    "nums = [42, 11, 121, 13, 7]\n",
    "state = True\n",
    "\n",
    "\n",
    "# в данном примере\n",
    "#    1-я позиция \"nums\" -> parameter_1\n",
    "#    2-я позиция \"state\" -> parameter_2\n",
    "def test_params(parameter_1, parameter_2):\n",
    "    print(parameter_1)\n",
    "    print(parameter_2)\n",
    "    pass\n",
    "\n",
    "\n",
    "# равнозначные варианты вызова функции\n",
    "test_params(nums, state)\n",
    "test_params([42, 11, 121, 13, 7], True)"
   ]
  },
  {
   "cell_type": "markdown",
   "id": "1a49c568",
   "metadata": {},
   "source": [
    "## Именованные\n",
    "\n",
    "Пусть есть функция, принимающая три аргумента, а затем выводящая их на экран. \n",
    "Python позволяет явно задавать соответствия между значениями и именами аргументов.\n",
    "При вызове соответствие будет определяться по именам, а не по позициям аргументов."
   ]
  },
  {
   "cell_type": "code",
   "execution_count": null,
   "id": "c9701183",
   "metadata": {},
   "outputs": [],
   "source": [
    "def print_trio(a, b, c):\n",
    "    print(a, b, c)\n"
   ]
  },
  {
   "cell_type": "code",
   "execution_count": null,
   "id": "a539a3b1",
   "metadata": {},
   "outputs": [],
   "source": [
    "print_trio(c=4, b=5, a=6)"
   ]
  },
  {
   "cell_type": "markdown",
   "id": "0bc8ae30",
   "metadata": {},
   "source": [
    "## Необязательные параметры (параметры по умолчанию)\n",
    "\n",
    "Python позволяет делать отдельные параметры функции необязательными. Если при вызове значение такого аргумента не передается, то ему будет присвоено значение по умолчанию."
   ]
  },
  {
   "cell_type": "code",
   "execution_count": null,
   "id": "efeaa410",
   "metadata": {},
   "outputs": [],
   "source": [
    "def not_necessary_arg(x='Значение ', y='по умолчанию'):\n",
    "    print(x, y)"
   ]
  },
  {
   "cell_type": "code",
   "execution_count": null,
   "id": "9f9bbf79",
   "metadata": {},
   "outputs": [],
   "source": [
    "# если не передавать в функцию никаких значений, она отработает со значениями по умолчанию\n",
    "not_necessary_arg()"
   ]
  },
  {
   "cell_type": "code",
   "execution_count": null,
   "id": "f5d269eb",
   "metadata": {},
   "outputs": [],
   "source": [
    "# переданные значения заменяют собой значения по умолчанию\n",
    "not_necessary_arg(2, 1)"
   ]
  },
  {
   "cell_type": "markdown",
   "id": "3ad85020",
   "metadata": {},
   "source": [
    "## Аргументы переменной длины (args, kwargs)\n",
    "\n",
    "Когда заранее неизвестно, сколько конкретно аргументов будет передано в функцию, мы пользуемся аргументами переменной длины. Звёздочка \"*\" перед именем параметра сообщает интерпретатору о том, что количество позиционных аргументов будет переменным:"
   ]
  },
  {
   "cell_type": "code",
   "execution_count": null,
   "id": "a4b1d369",
   "metadata": {},
   "outputs": [],
   "source": [
    "def infinity(*args):\n",
    "    print(args)"
   ]
  },
  {
   "cell_type": "code",
   "execution_count": null,
   "id": "a69a4f80",
   "metadata": {},
   "outputs": [],
   "source": [
    "infinity(42, 12, 'test', [6, 5])"
   ]
  },
  {
   "cell_type": "markdown",
   "id": "e055471a",
   "metadata": {},
   "source": [
    "Переменная **args** составляет **кортеж** из переданных в функцию аргументов. \n",
    "\n",
    "\n",
    "Функции в питоне могут также принимать и переменное количество именованных аргументов. В этом случае перед названием параметра ставится \"**\":"
   ]
  },
  {
   "cell_type": "code",
   "execution_count": null,
   "id": "7f349b7a",
   "metadata": {},
   "outputs": [],
   "source": [
    "def named_infinity(**kwargs):\n",
    "    print(kwargs)"
   ]
  },
  {
   "cell_type": "code",
   "execution_count": null,
   "id": "0e26e971",
   "metadata": {},
   "outputs": [],
   "source": [
    "named_infinity(first='nothing', second='else', third='matters')"
   ]
  },
  {
   "cell_type": "markdown",
   "id": "bd97740a",
   "metadata": {},
   "source": [
    "Здесь **kwargs** уже заключает аргументы не в кортеж, а в **словарь**."
   ]
  },
  {
   "cell_type": "markdown",
   "id": "94d44f66",
   "metadata": {},
   "source": [
    "## Передача по значению и по ссылке\n",
    "\n",
    "В Python аргументы могут быть переданы, как по ссылке, так и по значению. Всё зависит от типа объекта.\n",
    "\n",
    "![image](img6/links.svg)\n",
    "\n",
    "Если объект **неизменяемый**, то он передаётся в функцию **по значению**. Неизменяемые объекты это:\n",
    "\n",
    "1. Числовые типы (int, float, complex).\n",
    "1. Строки (str).\n",
    "1. Кортежи (tuple)."
   ]
  },
  {
   "cell_type": "code",
   "execution_count": null,
   "id": "11d27adb",
   "metadata": {},
   "outputs": [],
   "source": [
    "def some_function(n):\n",
    "    # в \"n\" передается значение переменной num (42)\n",
    "    n = n + 10\n",
    "    print(f\"значение {n}\")"
   ]
  },
  {
   "cell_type": "code",
   "execution_count": null,
   "id": "c8e28200",
   "metadata": {},
   "outputs": [],
   "source": [
    "num = 42\n",
    "some_function(num)\n",
    "\n",
    "print(f\"старое значение {num}\")\n"
   ]
  },
  {
   "cell_type": "markdown",
   "id": "cb4be740",
   "metadata": {},
   "source": [
    "**Изменяемые объекты** передаются в функцию **по ссылке**. Изменяемыми они называются потому что их содержимое можно менять, при этом ссылка на сам объект остается неизменной.\n",
    "\n",
    "В Python изменяемые объекты это:\n",
    "\n",
    "1. Списки (list).\n",
    "1. Множества (set).\n",
    "1. Словари (dict)."
   ]
  },
  {
   "cell_type": "code",
   "execution_count": null,
   "id": "110e77d9",
   "metadata": {},
   "outputs": [],
   "source": [
    "def some_function(n):\n",
    "    # в \"n\" передается ссылка на переменную \"num\". \n",
    "    # \"n\" и \"num\" ссылаются на один и тот же объект\n",
    "    n[0] = 0\n",
    "    print(f\"значение {n}\")"
   ]
  },
  {
   "cell_type": "code",
   "execution_count": null,
   "id": "ca89ddba",
   "metadata": {},
   "outputs": [],
   "source": [
    "num = [42, 43, 44]\n",
    "\n",
    "print(f\"значение {num}\") \n",
    "\n",
    "some_function(num)\n",
    "\n",
    "print(f\"старое значение {num}\") "
   ]
  },
  {
   "cell_type": "markdown",
   "id": "ae4fddab",
   "metadata": {},
   "source": [
    "Будьте внимательны при передаче изменяемых объектов. Одна из частых проблем новичков.\n",
    "\n",
    "💭 В функциональном программировании существует понятие \"функциями с побочными эффектами\" — когда функция в процессе своей работы изменяет значения глобальных переменных. По возможности, надо избегать таких функций."
   ]
  },
  {
   "cell_type": "markdown",
   "id": "1a8f1339",
   "metadata": {},
   "source": [
    "## Словарь в качестве аргументов (упаковка)\n",
    "\n",
    "\n",
    "Передаваемые в функцию аргументы можно упаковать в словарь при помощи оператора \"**\""
   ]
  },
  {
   "cell_type": "code",
   "execution_count": null,
   "id": "e8805741",
   "metadata": {},
   "outputs": [],
   "source": [
    "def big_dict(**arguments):\n",
    "    print(arguments)"
   ]
  },
  {
   "cell_type": "code",
   "execution_count": null,
   "id": "07145fba",
   "metadata": {},
   "outputs": [],
   "source": [
    "big_dict(key1='value1', key2='value2')"
   ]
  },
  {
   "cell_type": "markdown",
   "id": "437d2c5d",
   "metadata": {},
   "source": [
    "# Возвращаемые значения (return)\n",
    "\n",
    "## Что можно возвращать\n",
    "Функции в Python способны возвращать любой тип объекта\n",
    "\n",
    "## Распаковка возвращаемых значений\n",
    "В Питоне поддерживается возврат функциями сразу несколько значений. Достаточно перечислить их через запятую после инструкции **return**. Возвращаемым типом будет кортеж (**tuple**), который можно распаковать в переменные."
   ]
  },
  {
   "cell_type": "code",
   "execution_count": null,
   "id": "9efa4949",
   "metadata": {},
   "outputs": [],
   "source": [
    "def calculate(num1, num2):\n",
    "    return num1 + num2, num1 - num2, num1 * num2"
   ]
  },
  {
   "cell_type": "code",
   "execution_count": null,
   "id": "844732bb",
   "metadata": {},
   "outputs": [],
   "source": [
    "# для так называемой распаковки нескольких значений \n",
    "# их следует присвоить равному количеству аргументов\n",
    "res1, res2, res3 = calculate(7, 6)\n",
    "\n",
    "print(res1, res2, res3)\n",
    "\n",
    "print(type(calculate(7, 6)))\n"
   ]
  },
  {
   "cell_type": "markdown",
   "id": "3618b5f6",
   "metadata": {},
   "source": [
    "Обратите внимание, что количество возвращаемых значение в кортеже должно совпадать с количеством переменных при распаковке. Иначе произойдет ошибка:"
   ]
  },
  {
   "cell_type": "code",
   "execution_count": null,
   "id": "bcaf9651",
   "metadata": {},
   "outputs": [],
   "source": [
    "res1, res2 = calculate(7, 6)\n",
    "print(res1, res2)"
   ]
  },
  {
   "cell_type": "code",
   "execution_count": null,
   "id": "48eed662",
   "metadata": {},
   "outputs": [],
   "source": [
    "res1, res2, res3, res4 = calculate(7, 6)\n",
    "\n",
    "print(res1, res2, res3, res4)"
   ]
  },
  {
   "cell_type": "markdown",
   "id": "caa7362a",
   "metadata": {},
   "source": [
    "# Пустая функция\n",
    "\n",
    "Иногда разработчики оставляют реализацию на потом, и чтобы объявленная функция не генерировала ошибки из-за отсутствия тела, в качестве заглушки используется ключевое слово pass:"
   ]
  },
  {
   "cell_type": "code",
   "execution_count": null,
   "id": "ba56f027",
   "metadata": {},
   "outputs": [],
   "source": [
    "def empty():\n",
    "    pass"
   ]
  },
  {
   "cell_type": "code",
   "execution_count": null,
   "id": "f2f8ee80",
   "metadata": {},
   "outputs": [],
   "source": [
    "empty()"
   ]
  },
  {
   "cell_type": "markdown",
   "id": "1d71a405",
   "metadata": {},
   "source": [
    "# Чистые функции и побочные эффекты\n",
    "\n",
    "\n",
    "Есть такие функции, которые при вызове меняют файлы и таблицы баз данных, отправляют данные на сервер или модифицируют глобальные переменные. Всё это — побочные эффекты.\n",
    "\n",
    "У чистых функций побочных эффектов нет. Такие функции не изменяют глобальные переменные в ходе выполнения, не рассылают и не выводят на печать никакие данные, не касаются объектов, и так далее.\n",
    "\n",
    "**Чистые функции производят вычисления по заданным аргументам и возвращают зависящий только от них самих результат.**"
   ]
  },
  {
   "cell_type": "markdown",
   "id": "76cfdbbf",
   "metadata": {},
   "source": [
    "# Lambda функции\n",
    "\n",
    "Кроме инструкции def в питоне можно создавать объекты функций в виде выражений. Так называемые анонимные функции создаются с помощью инструкции lambda. Чаще всего их применяют для получения встроенной функции или же для отложенного выполнения фрагмента программного кода."
   ]
  },
  {
   "cell_type": "code",
   "execution_count": null,
   "id": "7e9fdfde",
   "metadata": {},
   "outputs": [],
   "source": [
    "lambda_test = lambda a, b: pow(a, b)\n",
    "\n",
    "print(lambda_test(2, 4))"
   ]
  },
  {
   "cell_type": "code",
   "execution_count": null,
   "id": "06ede59b",
   "metadata": {},
   "outputs": [],
   "source": [
    "# Отсортируем список целых чисел в порядке возрастания остатков от деления этих чисел на 10\n",
    "\n",
    "a = [int(x) for x in input().split()]  # ввод с клавиатуры\n",
    "\n",
    "a.sort(key=lambda x: x % 10)  # lambda функция\n",
    "\n",
    "print(*a)"
   ]
  },
  {
   "cell_type": "code",
   "execution_count": null,
   "id": "029769db",
   "metadata": {},
   "outputs": [],
   "source": [
    "# Обычная функция \n",
    "def search_len(arg_1):\n",
    "    return len(arg_1) \n",
    "\n",
    "# Лямбда-функция \n",
    "result = lambda x: len(x)"
   ]
  },
  {
   "cell_type": "code",
   "execution_count": null,
   "id": "dd438502",
   "metadata": {},
   "outputs": [],
   "source": [
    "print (search_len('aaaa'))\n",
    "\n",
    "print (result('aaaa'))"
   ]
  },
  {
   "cell_type": "markdown",
   "id": "508bf038",
   "metadata": {},
   "source": [
    "# Время выполнения функции\n",
    "\n",
    "Способов много. Один из простейших - поместить её вызов внутрь следующего кода:"
   ]
  },
  {
   "cell_type": "code",
   "execution_count": null,
   "id": "822c27d3",
   "metadata": {},
   "outputs": [],
   "source": [
    "from datetime import datetime\n",
    "import time\n",
    "\n",
    "start_time = datetime.now()\n",
    "time.sleep(5)  # здесь вызываем функцию \n",
    "\n",
    "print(datetime.now() - start_time)"
   ]
  },
  {
   "cell_type": "markdown",
   "id": "38863390",
   "metadata": {},
   "source": [
    "# Вложенные функции и рекурсия\n",
    "\n",
    "Функции, которые объявляются и вызываются внутри других функций, называются вложенными."
   ]
  },
  {
   "cell_type": "code",
   "execution_count": null,
   "id": "d4a8cb67",
   "metadata": {},
   "outputs": [],
   "source": [
    "def outerFunc():\n",
    "    def firstInner():\n",
    "        print('This is first inner function')\n",
    "\n",
    "    def secondInner():\n",
    "        print('This is second inner function')\n",
    "\n",
    "    firstInner()\n",
    "    secondInner()"
   ]
  },
  {
   "cell_type": "code",
   "execution_count": null,
   "id": "50f8573a",
   "metadata": {},
   "outputs": [],
   "source": [
    "outerFunc()"
   ]
  },
  {
   "cell_type": "markdown",
   "id": "1d8066c9",
   "metadata": {},
   "source": [
    "Рекурсия - это функция, которая вызывает саму себя."
   ]
  },
  {
   "cell_type": "code",
   "execution_count": null,
   "id": "d079b083",
   "metadata": {},
   "outputs": [],
   "source": [
    "# посчитаем сумму чисел от 1 до num\n",
    "def sum_from_one(num):\n",
    "    if num == 1:\n",
    "        return 1\n",
    "    return num + sum_from_one(num - 1)"
   ]
  },
  {
   "cell_type": "code",
   "execution_count": null,
   "id": "8e70b063",
   "metadata": {},
   "outputs": [],
   "source": [
    "print(sum_from_one(5))"
   ]
  },
  {
   "cell_type": "markdown",
   "id": "d30f232e",
   "metadata": {},
   "source": [
    "# Проверка типов параметров\n",
    "\n",
    "В описании к функции написано, что она принимает список. А что, если ей на вход попадёт строка или словарь? \n",
    "\n",
    "В случае со строкой все будет нормально, но вот словарь вызовет ошибку. Чтобы избежать подобную ситуацию, мы можем прописать условия проверки входного параметра. Сделать это можно с помощью условия **assert**.\n"
   ]
  },
  {
   "cell_type": "code",
   "execution_count": null,
   "id": "dbe0d985",
   "metadata": {},
   "outputs": [],
   "source": [
    "def solve_without_assert(s):\n",
    "    ''' Функция solve(s) принимает список\n",
    "        создает пустой список   \n",
    "        находит элементы с четным индексом (включая 0)\n",
    "        заносит их в созданный список и возвращает его\n",
    "    '''\n",
    "   \n",
    "    c = []\n",
    "    for i in range(len(s)):\n",
    "        if i%2 == 0:\n",
    "            c.append(s[i])\n",
    "    return c"
   ]
  },
  {
   "cell_type": "code",
   "execution_count": null,
   "id": "96233ede",
   "metadata": {},
   "outputs": [],
   "source": [
    "def  solve_with_assert(s):\n",
    "    ''' Функция solve(s) принимает список\n",
    "        создает пустой список   \n",
    "        находит элементы с четным индексом (включая 0)\n",
    "        заносит их в созданный список и возвращает его\n",
    "    '''\n",
    "    assert type(s) == list\n",
    "    c = []\n",
    "    for i in range(len(s)):\n",
    "        if i%2 == 0:\n",
    "            c.append(s[i])\n",
    "    return c"
   ]
  },
  {
   "cell_type": "markdown",
   "id": "9a04198a",
   "metadata": {},
   "source": [
    "Данный инструмент полезно использовать для выявления неустранимых ошибок программы. То есть, в данном случае, наша функция не предполагает получения данных отличных от типа \"список\". Однако, в случае, когда что-то пошло не так, с помощью assert, мы будем знать об этом."
   ]
  },
  {
   "cell_type": "code",
   "execution_count": null,
   "id": "7e72dfd1",
   "metadata": {},
   "outputs": [],
   "source": [
    "ls = ['e', 't', 'g', 'e', 'w', 'h', 'b', 'c','n']\n",
    "solve_with_assert (ls)\n"
   ]
  },
  {
   "cell_type": "code",
   "execution_count": null,
   "id": "6c553834",
   "metadata": {},
   "outputs": [],
   "source": [
    "solve_without_assert(ls)"
   ]
  },
  {
   "cell_type": "code",
   "execution_count": null,
   "id": "8050d7b5",
   "metadata": {},
   "outputs": [],
   "source": [
    "str = 'Python'\n",
    "solve_with_assert (str)\n"
   ]
  },
  {
   "cell_type": "code",
   "execution_count": null,
   "id": "83aca7b6",
   "metadata": {},
   "outputs": [],
   "source": [
    "d = {'key1': 'value1', 'key2': 'value2', 'key3': 'value3'}"
   ]
  },
  {
   "cell_type": "code",
   "execution_count": null,
   "id": "271b3763",
   "metadata": {},
   "outputs": [],
   "source": [
    "solve_without_assert(d)"
   ]
  },
  {
   "cell_type": "code",
   "execution_count": null,
   "id": "e4ce03fe",
   "metadata": {},
   "outputs": [],
   "source": [
    "solve_with_assert(d)"
   ]
  },
  {
   "cell_type": "markdown",
   "id": "1e809ad9",
   "metadata": {},
   "source": [
    "# Документирование\n",
    "\n",
    "Всегда документируйте свой код! Вы забудете, что делали, очень быстро."
   ]
  },
  {
   "cell_type": "code",
   "execution_count": null,
   "id": "6f7c6671",
   "metadata": {},
   "outputs": [],
   "source": [
    "def solve(s):\n",
    "    ''' Функция solve(s) принимает список \n",
    "        создает пустой список   \n",
    "        находит элементы с четным индексом (включая 0) \n",
    "        заносит их в созданный список и возвращает его \n",
    "    '''\n",
    "    c = []\n",
    "    for i in range(len(s)):\n",
    "        if i%2 == 0:\n",
    "            c.append(s[i])\n",
    "    return c"
   ]
  },
  {
   "cell_type": "code",
   "execution_count": null,
   "id": "67a08e38",
   "metadata": {},
   "outputs": [],
   "source": []
  }
 ],
 "metadata": {
  "kernelspec": {
   "display_name": "Python 3 (ipykernel)",
   "language": "python",
   "name": "python3"
  },
  "language_info": {
   "codemirror_mode": {
    "name": "ipython",
    "version": 3
   },
   "file_extension": ".py",
   "mimetype": "text/x-python",
   "name": "python",
   "nbconvert_exporter": "python",
   "pygments_lexer": "ipython3",
   "version": "3.9.12"
  },
  "toc": {
   "base_numbering": 1,
   "nav_menu": {},
   "number_sections": true,
   "sideBar": true,
   "skip_h1_title": false,
   "title_cell": "Table of Contents",
   "title_sidebar": "Contents",
   "toc_cell": true,
   "toc_position": {},
   "toc_section_display": true,
   "toc_window_display": false
  }
 },
 "nbformat": 4,
 "nbformat_minor": 5
}
