{
 "cells": [
  {
   "cell_type": "markdown",
   "id": "5c330aa7",
   "metadata": {},
   "source": [
    "Синтаксис языка Python очень прост, главное помнить основные моменты:\n",
    "\n",
    "*Конец строки выражения является окончанием инструкции, никаких знаков на конце не требуется, исключением являются вложенные инструкции.*\n",
    "\n",
    "Определение\n",
    "\n",
    "**Инструкция** - элемент языка, определяющий действие, которое требуется выполнить\n",
    "\n",
    "В примере ниже инструкции var = \"first string\" и var = 2 + 9 называются заданием переменных. \n",
    "\n",
    "Переменная в этих случаях носит имя \"var\" (от английского слова \"variable\" - переменная). \n",
    "\n",
    "В принципе мы можем использовать практически любое имя (исключения прописаны в разделе \"Как не надо называть переменные\"). \n",
    "\n",
    "**Переменные** используются для хранения и передачи информации по ходу выполнения программы.\n",
    "Данные, которые передаются в переменную бывают разных типов, об этом мы расскажем подробнее в разделе \"Типы и объекты\".\n",
    "\n",
    " \n",
    "Примеры инструкций:"
   ]
  },
  {
   "cell_type": "code",
   "execution_count": 1,
   "id": "bd04e1bb",
   "metadata": {},
   "outputs": [
    {
     "name": "stdout",
     "output_type": "stream",
     "text": [
      "Python is awesome!\n"
     ]
    }
   ],
   "source": [
    "print(\"Python is awesome!\") "
   ]
  },
  {
   "cell_type": "code",
   "execution_count": 2,
   "id": "a9e4a74e",
   "metadata": {},
   "outputs": [
    {
     "name": "stdout",
     "output_type": "stream",
     "text": [
      "first string\n"
     ]
    }
   ],
   "source": [
    "var = \"first string\" \n",
    "print(var)"
   ]
  },
  {
   "cell_type": "code",
   "execution_count": 3,
   "id": "f7f799e7",
   "metadata": {},
   "outputs": [
    {
     "name": "stdout",
     "output_type": "stream",
     "text": [
      "11\n"
     ]
    }
   ],
   "source": [
    "var = 2 + 9 \n",
    "print(var)"
   ]
  },
  {
   "cell_type": "markdown",
   "id": "c7487f51",
   "metadata": {},
   "source": [
    "**Функция print() позволяет нам выводить различную информацию на экран.**\n",
    "\n",
    "Строковые выражения могут заключаться в одинарные, двойные и тройные кавычки. \n",
    "\n",
    "Также может встречаться комбинация из одинарных и двойных кавычек. Строковое выражение обрамленное в тройные кавычки может состоять из нескольких строчек. В случае, когда используются комбинации из двойных и одинарных кавычек, одна пара должна быть внешней - она обозначает начало и конец строкового выражения, а внутренняя пара является частью этого выражения. Попробуйте поэкспериментировать с командой print().\n",
    "\n",
    "Вопрос к размышлению\n",
    "Если одинарные и двойные кавычки ничем не отличаются по сути и играют одинаковую роль, т.е.  строковые выражения \"first string\" и 'first string' будут идентичны, тогда зачем нужны и те, и другие одновременно? \n",
    "\n",
    "\n",
    "На самом деле ответ кроется в самом вопросе. Если нам нужна кавычка в текстовом выражении, то очень удобно использовать их одновременно:"
   ]
  },
  {
   "cell_type": "code",
   "execution_count": 4,
   "id": "19794318",
   "metadata": {},
   "outputs": [
    {
     "name": "stdout",
     "output_type": "stream",
     "text": [
      "Monty Python's flying circus\n"
     ]
    }
   ],
   "source": [
    "print(\"Monty Python's flying circus\") "
   ]
  },
  {
   "cell_type": "markdown",
   "id": "ab4ffa4b",
   "metadata": {},
   "source": [
    "В противном случае при использовании кавычек только одного типа, строковое выражение будет распознано только внутри первой пары кавычек, а оставшаяся часть выражения будет неправильно интерпретирована:"
   ]
  },
  {
   "cell_type": "code",
   "execution_count": 5,
   "id": "1692100c",
   "metadata": {},
   "outputs": [
    {
     "ename": "SyntaxError",
     "evalue": "invalid syntax (Temp/ipykernel_17636/1182201729.py, line 1)",
     "output_type": "error",
     "traceback": [
      "\u001b[1;36m  File \u001b[1;32m\"C:\\Users\\Marina\\AppData\\Local\\Temp/ipykernel_17636/1182201729.py\"\u001b[1;36m, line \u001b[1;32m1\u001b[0m\n\u001b[1;33m    print('Monty Python's flying circus')\u001b[0m\n\u001b[1;37m                        ^\u001b[0m\n\u001b[1;31mSyntaxError\u001b[0m\u001b[1;31m:\u001b[0m invalid syntax\n"
     ]
    }
   ],
   "source": [
    "print('Monty Python's flying circus') "
   ]
  },
  {
   "cell_type": "markdown",
   "id": "ec6ef3a8",
   "metadata": {},
   "source": [
    "*В случае какой-либо ошибки в коде, Python сообщит нам об этом соответствующим сообщением*\n",
    "\n",
    " \n",
    "\n",
    "Существует способ, при котором можно избежать ошибки и при этом использовать кавычки только одного типа.\n",
    "Данный способ называется экранирование, с помощью символа \"\\\" мы отменили действие кавычки, и она стала восприниматься, как часть текста. Подобные элементы мы рассмотрим в разделе \"Строки\"."
   ]
  },
  {
   "cell_type": "code",
   "execution_count": 6,
   "id": "7c8dce8a",
   "metadata": {},
   "outputs": [
    {
     "name": "stdout",
     "output_type": "stream",
     "text": [
      "Monty Python's flying circus\n"
     ]
    }
   ],
   "source": [
    " print('Monty Python\\'s flying circus')"
   ]
  },
  {
   "cell_type": "markdown",
   "id": "5c613e4a",
   "metadata": {},
   "source": [
    "*Примеры использования кавычек для определения строковых выражений:*"
   ]
  },
  {
   "cell_type": "code",
   "execution_count": 7,
   "id": "050b6a67",
   "metadata": {},
   "outputs": [
    {
     "name": "stdout",
     "output_type": "stream",
     "text": [
      "String\n"
     ]
    }
   ],
   "source": [
    "print(\"String\") "
   ]
  },
  {
   "cell_type": "code",
   "execution_count": 8,
   "id": "d454f02b",
   "metadata": {},
   "outputs": [
    {
     "name": "stdout",
     "output_type": "stream",
     "text": [
      "String\n"
     ]
    }
   ],
   "source": [
    "print('String') "
   ]
  },
  {
   "cell_type": "code",
   "execution_count": 9,
   "id": "8d2742be",
   "metadata": {},
   "outputs": [
    {
     "name": "stdout",
     "output_type": "stream",
     "text": [
      "Str \n",
      "ing\n"
     ]
    }
   ],
   "source": [
    "print('''Str \n",
    "... ing''') "
   ]
  },
  {
   "cell_type": "code",
   "execution_count": 10,
   "id": "f8c92de9",
   "metadata": {},
   "outputs": [
    {
     "name": "stdout",
     "output_type": "stream",
     "text": [
      "Str\"ing\n"
     ]
    }
   ],
   "source": [
    "print('Str\"ing') "
   ]
  },
  {
   "cell_type": "markdown",
   "id": "8daa869d",
   "metadata": {},
   "source": [
    "**Функция input() позволяет вводить данные с клавиатуры**"
   ]
  },
  {
   "cell_type": "code",
   "execution_count": 1,
   "id": "319179c6",
   "metadata": {},
   "outputs": [
    {
     "name": "stdout",
     "output_type": "stream",
     "text": [
      "вавав\n"
     ]
    }
   ],
   "source": [
    "s = input() # Ввод строки"
   ]
  },
  {
   "cell_type": "code",
   "execution_count": 2,
   "id": "433fc0f6",
   "metadata": {},
   "outputs": [
    {
     "name": "stdout",
     "output_type": "stream",
     "text": [
      "2\n"
     ]
    }
   ],
   "source": [
    "s = int(input()) # Ввод целого числа"
   ]
  },
  {
   "cell_type": "code",
   "execution_count": 4,
   "id": "b4ebea51",
   "metadata": {},
   "outputs": [
    {
     "name": "stdout",
     "output_type": "stream",
     "text": [
      "Введите целое число: 4\n"
     ]
    }
   ],
   "source": [
    "s = int(input('Введите целое число: '))"
   ]
  },
  {
   "cell_type": "code",
   "execution_count": null,
   "id": "3a71ffce",
   "metadata": {},
   "outputs": [],
   "source": [
    "'''\n",
    "Ввод нескольких чисел из одной строки. Вариант 1:\n",
    "Вводить надо ровно столько значений, сколько ожидается. Иначе - ошибка.\n",
    "'''\n",
    "\n",
    "\n",
    "a, b, c = map(int, input().split())\n",
    "print(a)\n",
    "print(b)\n",
    "print(c)"
   ]
  },
  {
   "cell_type": "code",
   "execution_count": 7,
   "id": "d013414b",
   "metadata": {},
   "outputs": [
    {
     "name": "stdout",
     "output_type": "stream",
     "text": [
      "4 5 6\n",
      "4\n",
      "5\n",
      "6\n"
     ]
    }
   ],
   "source": [
    "''' \n",
    "Ввод нескольких чисел из одной строки. Вариант 2:\n",
    "Вводить надо ровно столько значений, сколько ожидается. Иначе - ошибка.\n",
    "''''''\n",
    "\n",
    "\n",
    "a, b, c = [int(x) for x in input().split()]\n",
    "print(a)\n",
    "print(b)\n",
    "print(c)"
   ]
  },
  {
   "cell_type": "markdown",
   "id": "9f622ee0",
   "metadata": {},
   "source": [
    "**Комментарии** - вспомогательные строки, не обрабатываемые программой, обозначаются знаком # перед началом строки и действуют до конца строки. Зачастую бывает полезно записать комментарий, чтобы оставить напоминание о том, что выполняется в программе в данный момент.\n",
    "\n",
    "Многострочный комментарий заключается в кавычки '''   '''"
   ]
  },
  {
   "cell_type": "code",
   "execution_count": 11,
   "id": "7384c63f",
   "metadata": {},
   "outputs": [
    {
     "name": "stdout",
     "output_type": "stream",
     "text": [
      "комментарий справа\n"
     ]
    }
   ],
   "source": [
    "print(\"комментарий справа\") # Функция print() позволяет выводить результат на экран комментарий справа"
   ]
  },
  {
   "cell_type": "code",
   "execution_count": 12,
   "id": "66ea7616",
   "metadata": {},
   "outputs": [
    {
     "name": "stdout",
     "output_type": "stream",
     "text": [
      "многострочный комментарий\n"
     ]
    }
   ],
   "source": [
    "''' \n",
    "Функция print() \n",
    "позволяет выводить \n",
    "результат на экран \n",
    "многострочный комментарий \n",
    "'''\n",
    "print(\"многострочный комментарий\")"
   ]
  },
  {
   "cell_type": "markdown",
   "id": "7e7e1063",
   "metadata": {},
   "source": [
    "**Вложенная инструкция** - часть общей инструкции выполняющаяся при определенных условиях, в этом случае условие заканчивается двоеточием, а само вложенное выражение должно отступать на 4 пробела от места, откуда начинается условие."
   ]
  },
  {
   "cell_type": "code",
   "execution_count": 13,
   "id": "814457a3",
   "metadata": {},
   "outputs": [
    {
     "name": "stdout",
     "output_type": "stream",
     "text": [
      "more\n"
     ]
    }
   ],
   "source": [
    "#инструкция объявляющая переменную var и присваивающая ей значение равное 5 \n",
    "var = 5 \n",
    "#основная инструкция 1\n",
    "if var < 3: \n",
    "#вложенная инструкция, отступает от основной инструкции 1 \n",
    "    print(\"less\") \n",
    "#основная инструкция 2 \n",
    "else: \n",
    "#вложенная инструкция, отступает от основной инструкции 2 \n",
    "    print(\"more\")"
   ]
  },
  {
   "cell_type": "markdown",
   "id": "716a2643",
   "metadata": {},
   "source": [
    "**Отступ в 4 пробела** необходим для того, чтобы программа понимала, где начинается вложенная инструкция и к какой основной она относится. Можно использовать и табуляцию, но в руководстве по написанию кода на Python отступ в 4 пробела стоит на первом месте, так как он считается наиболее распространенным среди программистов. Главное не мешать разные варианты отступов в одном коде.\n",
    "\n",
    "\n",
    "На самом деле вопрос об отступах является одним из наболевших в программировании. В 2016 году разработчики компании Google решили произвести анализ кода разработчиков, лежащего на ресурсе GitHub и выявить наиболее популярный способ форматирования текста для разных языков программирования. Проанализировав 400 тысяч репозиториев они получили следующую картину: Для большинства языков программирования (Java, Python, JavaScript, PHP) разработчики преимущественно используют пробел, однако в языке С более популярным способом форматирования является табуляция.\n",
    "\n",
    "**В программе может быть несколько уровней вложенных инструкций, в таком случае надо на каждом уровне делать отступы от начала предыдущей вложенной инструкции.**\n"
   ]
  },
  {
   "cell_type": "code",
   "execution_count": 14,
   "id": "71297fbe",
   "metadata": {},
   "outputs": [
    {
     "name": "stdout",
     "output_type": "stream",
     "text": [
      "more than 4\n"
     ]
    }
   ],
   "source": [
    "# объявляем переменную var равную 5 \n",
    "var = 5 \n",
    "# основная инструкция \n",
    "if var > 3: \n",
    "# вложенная инструкция уровня 1 \n",
    "    if var > 4: \n",
    "# вложенная инструкция уровня 2, отступает на 4 пробела от \n",
    "# вложенной инструкции уровня 1 \n",
    "        print(\"more than 4\")"
   ]
  },
  {
   "cell_type": "markdown",
   "id": "a4c2f29a",
   "metadata": {},
   "source": [
    "Допустимо писать одноуровневые инструкции в одну строчку, если в итоге получается не очень длинная строка:"
   ]
  },
  {
   "cell_type": "code",
   "execution_count": 17,
   "id": "b658a50e",
   "metadata": {},
   "outputs": [
    {
     "name": "stdout",
     "output_type": "stream",
     "text": [
      "like this\n"
     ]
    }
   ],
   "source": [
    "var = 2\n",
    "if var < 3: print(\"like this\")"
   ]
  }
 ],
 "metadata": {
  "kernelspec": {
   "display_name": "Python 3 (ipykernel)",
   "language": "python",
   "name": "python3"
  },
  "language_info": {
   "codemirror_mode": {
    "name": "ipython",
    "version": 3
   },
   "file_extension": ".py",
   "mimetype": "text/x-python",
   "name": "python",
   "nbconvert_exporter": "python",
   "pygments_lexer": "ipython3",
   "version": "3.9.7"
  }
 },
 "nbformat": 4,
 "nbformat_minor": 5
}
